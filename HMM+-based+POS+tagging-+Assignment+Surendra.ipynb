{
 "cells": [
  {
   "cell_type": "markdown",
   "metadata": {},
   "source": [
    "## POS tagging using modified Viterbi"
   ]
  },
  {
   "cell_type": "markdown",
   "metadata": {},
   "source": [
    "### Data Preparation"
   ]
  },
  {
   "cell_type": "code",
   "execution_count": 1,
   "metadata": {},
   "outputs": [],
   "source": [
    "#Importing libraries\n",
    "import nltk\n",
    "import nltk, re, pprint\n",
    "import numpy as np\n",
    "import pandas as pd\n",
    "import requests\n",
    "import matplotlib.pyplot as plt\n",
    "import seaborn as sns\n",
    "import pprint, time\n",
    "import random\n",
    "from sklearn.model_selection import train_test_split\n",
    "from nltk.tokenize import word_tokenize"
   ]
  },
  {
   "cell_type": "code",
   "execution_count": 2,
   "metadata": {},
   "outputs": [],
   "source": [
    "# reading the Treebank tagged sentences\n",
    "nltk_data = list(nltk.corpus.treebank.tagged_sents(tagset='universal'))"
   ]
  },
  {
   "cell_type": "code",
   "execution_count": 3,
   "metadata": {},
   "outputs": [
    {
     "name": "stdout",
     "output_type": "stream",
     "text": [
      "[[('Pierre', 'NOUN'), ('Vinken', 'NOUN'), (',', '.'), ('61', 'NUM'), ('years', 'NOUN'), ('old', 'ADJ'), (',', '.'), ('will', 'VERB'), ('join', 'VERB'), ('the', 'DET'), ('board', 'NOUN'), ('as', 'ADP'), ('a', 'DET'), ('nonexecutive', 'ADJ'), ('director', 'NOUN'), ('Nov.', 'NOUN'), ('29', 'NUM'), ('.', '.')], [('Mr.', 'NOUN'), ('Vinken', 'NOUN'), ('is', 'VERB'), ('chairman', 'NOUN'), ('of', 'ADP'), ('Elsevier', 'NOUN'), ('N.V.', 'NOUN'), (',', '.'), ('the', 'DET'), ('Dutch', 'NOUN'), ('publishing', 'VERB'), ('group', 'NOUN'), ('.', '.')], [('Rudolph', 'NOUN'), ('Agnew', 'NOUN'), (',', '.'), ('55', 'NUM'), ('years', 'NOUN'), ('old', 'ADJ'), ('and', 'CONJ'), ('former', 'ADJ'), ('chairman', 'NOUN'), ('of', 'ADP'), ('Consolidated', 'NOUN'), ('Gold', 'NOUN'), ('Fields', 'NOUN'), ('PLC', 'NOUN'), (',', '.'), ('was', 'VERB'), ('named', 'VERB'), ('*-1', 'X'), ('a', 'DET'), ('nonexecutive', 'ADJ'), ('director', 'NOUN'), ('of', 'ADP'), ('this', 'DET'), ('British', 'ADJ'), ('industrial', 'ADJ'), ('conglomerate', 'NOUN'), ('.', '.')], [('A', 'DET'), ('form', 'NOUN'), ('of', 'ADP'), ('asbestos', 'NOUN'), ('once', 'ADV'), ('used', 'VERB'), ('*', 'X'), ('*', 'X'), ('to', 'PRT'), ('make', 'VERB'), ('Kent', 'NOUN'), ('cigarette', 'NOUN'), ('filters', 'NOUN'), ('has', 'VERB'), ('caused', 'VERB'), ('a', 'DET'), ('high', 'ADJ'), ('percentage', 'NOUN'), ('of', 'ADP'), ('cancer', 'NOUN'), ('deaths', 'NOUN'), ('among', 'ADP'), ('a', 'DET'), ('group', 'NOUN'), ('of', 'ADP'), ('workers', 'NOUN'), ('exposed', 'VERB'), ('*', 'X'), ('to', 'PRT'), ('it', 'PRON'), ('more', 'ADV'), ('than', 'ADP'), ('30', 'NUM'), ('years', 'NOUN'), ('ago', 'ADP'), (',', '.'), ('researchers', 'NOUN'), ('reported', 'VERB'), ('0', 'X'), ('*T*-1', 'X'), ('.', '.')], [('The', 'DET'), ('asbestos', 'NOUN'), ('fiber', 'NOUN'), (',', '.'), ('crocidolite', 'NOUN'), (',', '.'), ('is', 'VERB'), ('unusually', 'ADV'), ('resilient', 'ADJ'), ('once', 'ADP'), ('it', 'PRON'), ('enters', 'VERB'), ('the', 'DET'), ('lungs', 'NOUN'), (',', '.'), ('with', 'ADP'), ('even', 'ADV'), ('brief', 'ADJ'), ('exposures', 'NOUN'), ('to', 'PRT'), ('it', 'PRON'), ('causing', 'VERB'), ('symptoms', 'NOUN'), ('that', 'DET'), ('*T*-1', 'X'), ('show', 'VERB'), ('up', 'PRT'), ('decades', 'NOUN'), ('later', 'ADJ'), (',', '.'), ('researchers', 'NOUN'), ('said', 'VERB'), ('0', 'X'), ('*T*-2', 'X'), ('.', '.')], [('Lorillard', 'NOUN'), ('Inc.', 'NOUN'), (',', '.'), ('the', 'DET'), ('unit', 'NOUN'), ('of', 'ADP'), ('New', 'ADJ'), ('York-based', 'ADJ'), ('Loews', 'NOUN'), ('Corp.', 'NOUN'), ('that', 'DET'), ('*T*-2', 'X'), ('makes', 'VERB'), ('Kent', 'NOUN'), ('cigarettes', 'NOUN'), (',', '.'), ('stopped', 'VERB'), ('using', 'VERB'), ('crocidolite', 'NOUN'), ('in', 'ADP'), ('its', 'PRON'), ('Micronite', 'NOUN'), ('cigarette', 'NOUN'), ('filters', 'NOUN'), ('in', 'ADP'), ('1956', 'NUM'), ('.', '.')], [('Although', 'ADP'), ('preliminary', 'ADJ'), ('findings', 'NOUN'), ('were', 'VERB'), ('reported', 'VERB'), ('*-2', 'X'), ('more', 'ADV'), ('than', 'ADP'), ('a', 'DET'), ('year', 'NOUN'), ('ago', 'ADP'), (',', '.'), ('the', 'DET'), ('latest', 'ADJ'), ('results', 'NOUN'), ('appear', 'VERB'), ('in', 'ADP'), ('today', 'NOUN'), (\"'s\", 'PRT'), ('New', 'NOUN'), ('England', 'NOUN'), ('Journal', 'NOUN'), ('of', 'ADP'), ('Medicine', 'NOUN'), (',', '.'), ('a', 'DET'), ('forum', 'NOUN'), ('likely', 'ADJ'), ('*', 'X'), ('to', 'PRT'), ('bring', 'VERB'), ('new', 'ADJ'), ('attention', 'NOUN'), ('to', 'PRT'), ('the', 'DET'), ('problem', 'NOUN'), ('.', '.')], [('A', 'DET'), ('Lorillard', 'NOUN'), ('spokewoman', 'NOUN'), ('said', 'VERB'), (',', '.'), ('``', '.'), ('This', 'DET'), ('is', 'VERB'), ('an', 'DET'), ('old', 'ADJ'), ('story', 'NOUN'), ('.', '.')], [('We', 'PRON'), (\"'re\", 'VERB'), ('talking', 'VERB'), ('about', 'ADP'), ('years', 'NOUN'), ('ago', 'ADP'), ('before', 'ADP'), ('anyone', 'NOUN'), ('heard', 'VERB'), ('of', 'ADP'), ('asbestos', 'NOUN'), ('having', 'VERB'), ('any', 'DET'), ('questionable', 'ADJ'), ('properties', 'NOUN'), ('.', '.')], [('There', 'DET'), ('is', 'VERB'), ('no', 'DET'), ('asbestos', 'NOUN'), ('in', 'ADP'), ('our', 'PRON'), ('products', 'NOUN'), ('now', 'ADV'), ('.', '.'), (\"''\", '.')]]\n"
     ]
    }
   ],
   "source": [
    "# Checking the data by 10 examples\n",
    "print(nltk_data[:10])"
   ]
  },
  {
   "cell_type": "code",
   "execution_count": 4,
   "metadata": {},
   "outputs": [
    {
     "name": "stdout",
     "output_type": "stream",
     "text": [
      "3718\n",
      "196\n",
      "[[('Reliance', 'NOUN'), ('confirmed', 'VERB'), ('the', 'DET'), ('filing', 'NOUN'), ('but', 'CONJ'), ('would', 'VERB'), (\"n't\", 'ADV'), ('elaborate', 'VERB'), ('.', '.')], [('*', 'X'), ('Encouraging', 'VERB'), ('long-term', 'ADJ'), ('investing', 'NOUN'), ('.', '.')], [('Because', 'ADP'), ('of', 'ADP'), ('the', 'DET'), ('rulings', 'NOUN'), (',', '.'), ('the', 'DET'), ('Commerce', 'NOUN'), ('Department', 'NOUN'), ('will', 'VERB'), ('continue', 'VERB'), ('*-1', 'X'), ('to', 'PRT'), ('investigate', 'VERB'), ('complaints', 'NOUN'), ('*ICH*-2', 'X'), ('by', 'ADP'), ('U.S.', 'NOUN'), ('sweater', 'NOUN'), ('makers', 'NOUN'), ('that', 'ADP'), ('the', 'DET'), ('imports', 'NOUN'), ('are', 'VERB'), ('reaching', 'VERB'), ('the', 'DET'), ('U.S.', 'NOUN'), ('at', 'ADP'), ('unfairly', 'ADV'), ('low', 'ADJ'), ('prices', 'NOUN'), ('in', 'ADP'), ('violation', 'NOUN'), ('of', 'ADP'), ('the', 'DET'), ('U.S.', 'NOUN'), ('anti-dumping', 'ADJ'), ('act', 'NOUN'), ('.', '.')], [('What', 'PRON'), ('she', 'PRON'), ('did', 'VERB'), ('*T*-97', 'X'), ('was', 'VERB'), ('like', 'ADP'), ('*', 'X'), ('taking', 'VERB'), ('the', 'DET'), ('law', 'NOUN'), ('into', 'ADP'), ('your', 'PRON'), ('own', 'ADJ'), ('hands', 'NOUN'), ('.', '.'), (\"''\", '.')], [('Los', 'NOUN'), ('Angeles', 'NOUN'), ('is', 'VERB'), ('a', 'DET'), ('sprawling', 'ADJ'), (',', '.'), ('balkanized', 'ADJ'), ('newspaper', 'NOUN'), ('market', 'NOUN'), (',', '.'), ('and', 'CONJ'), ('advertisers', 'NOUN'), ('seemed', 'VERB'), ('*-1', 'X'), ('to', 'PRT'), ('feel', 'VERB'), ('0', 'X'), ('they', 'PRON'), ('could', 'VERB'), ('buy', 'VERB'), ('space', 'NOUN'), ('in', 'ADP'), ('the', 'DET'), ('mammoth', 'ADJ'), ('Times', 'NOUN'), (',', '.'), ('then', 'ADV'), ('target', 'VERB'), ('a', 'DET'), ('particular', 'ADJ'), ('area', 'NOUN'), ('with', 'ADP'), ('one', 'NUM'), ('of', 'ADP'), ('the', 'DET'), ('regional', 'ADJ'), ('dailies', 'NOUN'), ('.', '.')], [('In', 'ADP'), ('a', 'DET'), ('separate', 'ADJ'), ('report', 'NOUN'), (',', '.'), ('the', 'DET'), ('department', 'NOUN'), ('said', 'VERB'), ('0', 'X'), ('construction', 'NOUN'), ('spending', 'NOUN'), ('ran', 'VERB'), ('at', 'ADP'), ('an', 'DET'), ('annual', 'ADJ'), ('rate', 'NOUN'), ('of', 'ADP'), ('$', '.'), ('415.6', 'NUM'), ('billion', 'NUM'), ('*U*', 'X'), (',', '.'), ('not', 'ADV'), ('significantly', 'ADV'), ('different', 'ADJ'), ('from', 'ADP'), ('the', 'DET'), ('$', '.'), ('415.8', 'NUM'), ('billion', 'NUM'), ('*U*', 'X'), ('reported', 'VERB'), ('*', 'X'), ('for', 'ADP'), ('August', 'NOUN'), ('.', '.')], [('-LRB-', '.'), ('Fewer', 'ADJ'), ('said', 'VERB'), ('0', 'X'), ('conditions', 'NOUN'), ('wo', 'VERB'), (\"n't\", 'ADV'), ('change', 'VERB'), ('.', '.'), ('-RRB-', '.')], [('The', 'DET'), ('sad', 'ADJ'), ('reality', 'NOUN'), ('is', 'VERB'), ('that', 'ADP'), ('the', 'DET'), ('retail', 'ADJ'), ('investor', 'NOUN'), ('continues', 'VERB'), ('*-1', 'X'), ('to', 'PRT'), ('pursue', 'VERB'), ('stellar', 'ADJ'), ('performers', 'NOUN'), ('first', 'ADV'), (',', '.'), ('while', 'ADP'), ('*-2', 'X'), ('leaving', 'VERB'), ('institutions', 'NOUN'), ('to', 'PRT'), ('grapple', 'VERB'), ('with', 'ADP'), ('basis', 'NOUN'), ('points', 'NOUN'), ('of', 'ADP'), ('performance', 'NOUN'), ('on', 'ADP'), ('large', 'ADJ'), ('sums', 'NOUN'), ('of', 'ADP'), ('money', 'NOUN'), ('quarter', 'NOUN'), ('by', 'ADP'), ('quarter', 'NOUN'), ('*PPA*-3', 'X'), ('.', '.')], [('He', 'PRON'), ('said', 'VERB'), ('0', 'X'), ('the', 'DET'), ('exchange', 'NOUN'), ('is', 'VERB'), ('``', '.'), ('headed', 'VERB'), ('for', 'ADP'), ('a', 'DET'), ('real', 'ADJ'), ('crisis', 'NOUN'), (\"''\", '.'), ('if', 'ADP'), ('program', 'NOUN'), ('trading', 'NOUN'), ('is', 'VERB'), (\"n't\", 'ADV'), ('curbed', 'VERB'), ('*-1', 'X'), ('.', '.')], [('The', 'DET'), ('average', 'ADJ'), ('seven-day', 'ADJ'), ('simple', 'ADJ'), ('yield', 'NOUN'), ('of', 'ADP'), ('the', 'DET'), ('400', 'NUM'), ('funds', 'NOUN'), ('was', 'VERB'), ('8.12', 'NUM'), ('%', 'NOUN'), (',', '.'), ('down', 'ADV'), ('from', 'ADP'), ('8.14', 'NUM'), ('%', 'NOUN'), ('.', '.')], [('Later', 'ADJ'), ('yesterday', 'NOUN'), (',', '.'), ('a', 'DET'), ('Massachusetts', 'NOUN'), ('senate', 'NOUN'), ('committee', 'NOUN'), ('approved', 'VERB'), ('a', 'DET'), ('bill', 'NOUN'), ('0', 'X'), ('*T*-1', 'X'), ('to', 'PRT'), ('allow', 'VERB'), ('national', 'ADJ'), ('interstate', 'ADJ'), ('banking', 'NOUN'), ('by', 'ADP'), ('banks', 'NOUN'), ('in', 'ADP'), ('the', 'DET'), ('state', 'NOUN'), ('*', 'X'), ('beginning', 'NOUN'), ('in', 'ADP'), ('1991', 'NUM'), ('.', '.')], [('``', '.'), ('Bob', 'NOUN'), ('has', 'VERB'), ('handled', 'VERB'), ('the', 'DET'), ('extraordinary', 'ADJ'), ('growth', 'NOUN'), ('of', 'ADP'), ('the', 'DET'), ('company', 'NOUN'), ('quite', 'ADV'), ('brilliantly', 'ADV'), (',', '.'), (\"''\", '.'), ('said', 'VERB'), ('*T*-1', 'X'), ('Mr.', 'NOUN'), ('Newhouse', 'NOUN'), ('.', '.')], [('This', 'DET'), ('is', 'VERB'), ('the', 'DET'), ('real', 'ADJ'), ('issue', 'NOUN'), ('raised', 'VERB'), ('*', 'X'), ('by', 'ADP'), ('the', 'DET'), ('Wedtech', 'NOUN'), ('scandal', 'NOUN'), ('.', '.')], [('``', '.'), ('Florio', 'NOUN'), (\"'s\", 'VERB'), ('lying', 'VERB'), (',', '.'), (\"''\", '.'), ('the', 'DET'), ('voice', 'NOUN'), ('goes', 'VERB'), ('on', 'PRT'), (',', '.'), ('because', 'ADP'), ('``', '.'), ('the', 'DET'), ('barrel', 'NOUN'), ('on', 'ADP'), ('Courter', 'NOUN'), (\"'s\", 'PRT'), ('land', 'NOUN'), ('...', '.'), ('contained', 'VERB'), ('heating', 'NOUN'), ('oil', 'NOUN'), (',', '.'), ('was', 'VERB'), ('cleaned', 'VERB'), ('*-1', 'X'), ('up', 'PRT'), ('and', 'CONJ'), ('caused', 'VERB'), ('no', 'DET'), ('pollution', 'NOUN'), ('.', '.'), (\"''\", '.')], [('If', 'ADP'), ('``', '.'), ('A', 'DET'), ('Wild', 'NOUN'), ('Sheep', 'NOUN'), ('Chase', 'NOUN'), (\"''\", '.'), ('carries', 'VERB'), ('an', 'DET'), ('implicit', 'ADJ'), ('message', 'NOUN'), ('for', 'ADP'), ('international', 'ADJ'), ('relations', 'NOUN'), (',', '.'), ('it', 'PRON'), (\"'s\", 'VERB'), ('that', 'ADP'), ('the', 'DET'), ('Japanese', 'NOUN'), ('are', 'VERB'), ('more', 'ADV'), ('like', 'ADP'), ('us', 'PRON'), ('than', 'ADP'), ('most', 'ADJ'), ('of', 'ADP'), ('us', 'PRON'), ('think', 'VERB'), ('0', 'X'), ('*?*', 'X'), ('.', '.')], [('Whereas', 'ADP'), ('conventional', 'ADJ'), ('securities', 'NOUN'), ('financings', 'NOUN'), ('are', 'VERB'), ('structured', 'VERB'), ('*-3', 'X'), ('to', 'PRT'), ('be', 'VERB'), ('sold', 'VERB'), ('*-1', 'X'), ('quickly', 'ADV'), (',', '.'), ('Wall', 'NOUN'), ('Street', 'NOUN'), (\"'s\", 'PRT'), ('new', 'ADJ'), ('penchant', 'NOUN'), ('for', 'ADP'), ('leveraged', 'ADJ'), ('buy-outs', 'NOUN'), ('and', 'CONJ'), ('junk', 'NOUN'), ('bonds', 'NOUN'), ('is', 'VERB'), ('resulting', 'VERB'), ('in', 'ADP'), ('long-term', 'ADJ'), ('lending', 'VERB'), ('commitments', 'NOUN'), ('that', 'DET'), ('*T*-2', 'X'), ('stretch', 'VERB'), ('out', 'PRT'), ('for', 'ADP'), ('months', 'NOUN'), ('or', 'CONJ'), ('years', 'NOUN'), ('.', '.')], [('The', 'DET'), ('consumer', 'NOUN'), ('confidence', 'NOUN'), ('survey', 'NOUN'), (',', '.'), ('*-2', 'X'), ('covering', 'VERB'), ('5,000', 'NUM'), ('U.S.', 'NOUN'), ('households', 'NOUN'), (',', '.'), ('is', 'VERB'), ('conducted', 'VERB'), ('*-2', 'X'), ('in', 'ADP'), ('the', 'DET'), ('first', 'ADJ'), ('two', 'NUM'), ('weeks', 'NOUN'), ('of', 'ADP'), ('each', 'DET'), ('month', 'NOUN'), ('for', 'ADP'), ('the', 'DET'), ('Conference', 'NOUN'), ('Board', 'NOUN'), ('by', 'ADP'), ('National', 'NOUN'), ('Family', 'NOUN'), ('Opinion', 'NOUN'), ('Inc.', 'NOUN'), (',', '.'), ('a', 'DET'), ('Toledo', 'NOUN'), (',', '.'), ('Ohio', 'NOUN'), (',', '.'), ('market', 'NOUN'), ('researcher', 'NOUN'), ('.', '.')], [('``', '.'), ('If', 'ADP'), ('I', 'PRON'), ('took', 'VERB'), ('-LCB-', '.'), ('these', 'DET'), ('preparation', 'NOUN'), ('booklets', 'NOUN'), ('-RCB-', '.'), ('into', 'ADP'), ('my', 'PRON'), ('classroom', 'NOUN'), (',', '.'), ('I', 'PRON'), (\"'d\", 'VERB'), ('have', 'VERB'), ('a', 'DET'), ('hard', 'ADJ'), ('time', 'NOUN'), ('*-1', 'X'), ('justifying', 'VERB'), ('to', 'PRT'), ('my', 'PRON'), ('students', 'NOUN'), ('and', 'CONJ'), ('parents', 'NOUN'), ('that', 'ADP'), ('it', 'PRON'), ('was', 'VERB'), (\"n't\", 'ADV'), ('cheating', 'NOUN'), (',', '.'), (\"''\", '.'), ('says', 'VERB'), ('*T*-2', 'X'), ('John', 'NOUN'), ('Kaminski', 'NOUN'), (',', '.'), ('a', 'DET'), ('Traverse', 'NOUN'), ('City', 'NOUN'), (',', '.'), ('Mich.', 'NOUN'), (',', '.'), ('teacher', 'NOUN'), ('who', 'PRON'), ('*T*-103', 'X'), ('has', 'VERB'), ('studied', 'VERB'), ('test', 'NOUN'), ('coaching', 'NOUN'), ('.', '.')], [('*-2', 'X'), ('Used', 'VERB'), ('*-1', 'X'), ('by', 'ADP'), ('program', 'NOUN'), ('traders', 'NOUN'), ('and', 'CONJ'), ('others', 'NOUN'), ('*', 'X'), ('to', 'PRT'), ('zip', 'VERB'), ('orders', 'NOUN'), ('into', 'ADP'), ('the', 'DET'), ('exchange', 'NOUN'), (',', '.'), ('SuperDot', 'NOUN'), ('handles', 'VERB'), ('about', 'ADP'), ('80', 'NUM'), ('%', 'NOUN'), ('of', 'ADP'), ('all', 'DET'), ('orders', 'NOUN'), ('entered', 'VERB'), ('*', 'X'), ('at', 'ADP'), ('the', 'DET'), ('exchange', 'NOUN'), ('.', '.')], [('The', 'DET'), ('top', 'ADJ'), ('money', 'NOUN'), ('funds', 'NOUN'), ('are', 'VERB'), ('currently', 'ADV'), ('yielding', 'VERB'), ('well', 'ADV'), ('over', 'ADP'), ('9', 'NUM'), ('%', 'NOUN'), ('.', '.')], [('``', '.'), ('We', 'PRON'), (\"'re\", 'VERB'), ('pleased', 'VERB'), ('0', 'X'), ('the', 'DET'), ('ABA', 'NOUN'), ('rated', 'VERB'), ('him', 'PRON'), ('qualified', 'VERB'), (',', '.'), (\"''\", '.'), ('David', 'NOUN'), ('Runkel', 'NOUN'), (',', '.'), ('the', 'DET'), ('department', 'NOUN'), (\"'s\", 'PRT'), ('chief', 'NOUN'), ('spokesman', 'NOUN'), (',', '.'), ('said', 'VERB'), ('*T*-1', 'X'), ('in', 'ADP'), ('an', 'DET'), ('interview', 'NOUN'), ('.', '.')], [('Furukawa', 'NOUN'), ('Co.', 'NOUN'), ('of', 'ADP'), ('Japan', 'NOUN'), ('said', 'VERB'), ('0', 'X'), ('it', 'PRON'), ('will', 'VERB'), ('acquire', 'VERB'), ('two', 'NUM'), ('construction', 'NOUN'), ('machinery', 'NOUN'), ('plants', 'NOUN'), ('and', 'CONJ'), ('a', 'DET'), ('sales', 'NOUN'), ('unit', 'NOUN'), ('in', 'ADP'), ('France', 'NOUN'), ('formerly', 'ADV'), ('belonging', 'VERB'), ('to', 'PRT'), ('Dresser', 'NOUN'), ('Industries', 'NOUN'), ('Inc.', 'NOUN'), ('of', 'ADP'), ('the', 'DET'), ('U.S.', 'NOUN'), ('.', '.')], [('``', '.'), ('There', 'DET'), ('is', 'VERB'), ('finally', 'ADV'), ('some', 'DET'), ('sort', 'NOUN'), ('of', 'ADP'), ('sense', 'NOUN'), ('in', 'ADP'), ('the', 'DET'), ('market', 'NOUN'), (',', '.'), (\"''\", '.'), ('she', 'PRON'), ('says', 'VERB'), ('*T*-1', 'X'), ('.', '.')], [('Dealers', 'NOUN'), ('led', 'VERB'), ('the', 'DET'), ('market', 'NOUN'), ('Wednesday', 'NOUN'), ('by', 'ADP'), ('*-1', 'X'), ('actively', 'ADV'), ('trading', 'VERB'), ('for', 'ADP'), ('their', 'PRON'), ('own', 'ADJ'), ('accounts', 'NOUN'), (',', '.'), ('observers', 'NOUN'), ('said', 'VERB'), ('0', 'X'), ('*T*-2', 'X'), ('.', '.')], [('USX', 'NOUN'), ('has', 'VERB'), ('15', 'NUM'), ('working', 'NOUN'), ('days', 'NOUN'), ('0', 'X'), ('*', 'X'), ('to', 'PRT'), ('contest', 'VERB'), ('the', 'DET'), ('citations', 'NOUN'), ('and', 'CONJ'), ('proposed', 'VERB'), ('penalties', 'NOUN'), (',', '.'), ('before', 'ADP'), ('the', 'DET'), ('independent', 'ADJ'), ('Occupational', 'NOUN'), ('Safety', 'NOUN'), ('and', 'CONJ'), ('Health', 'NOUN'), ('Review', 'NOUN'), ('Commission', 'NOUN'), ('*T*-1', 'X'), ('.', '.')], [('Mr.', 'NOUN'), ('Black', 'NOUN'), ('said', 'VERB'), ('0', 'X'), ('he', 'PRON'), ('is', 'VERB'), ('``', '.'), ('pleased', 'VERB'), (\"''\", '.'), ('with', 'ADP'), ('the', 'DET'), ('economy', 'NOUN'), (\"'s\", 'PRT'), ('recent', 'ADJ'), ('performance', 'NOUN'), (',', '.'), ('and', 'CONJ'), ('does', 'VERB'), (\"n't\", 'ADV'), ('see', 'VERB'), ('``', '.'), ('a', 'DET'), ('lot', 'NOUN'), ('of', 'ADP'), ('excesses', 'NOUN'), ('*ICH*-1', 'X'), ('out', 'ADP'), ('there', 'ADV'), ('that', 'DET'), ('*T*-3', 'X'), ('would', 'VERB'), ('tilt', 'VERB'), ('us', 'PRON'), ('into', 'ADP'), ('recession', 'NOUN'), ('.', '.'), (\"''\", '.')], [('But', 'CONJ'), ('several', 'ADJ'), ('teachers', 'NOUN'), ('also', 'ADV'), ('say', 'VERB'), ('0', 'X'), ('the', 'DET'), ('incident', 'NOUN'), ('casts', 'VERB'), ('doubt', 'NOUN'), ('on', 'ADP'), ('the', 'DET'), ('wisdom', 'NOUN'), ('of', 'ADP'), ('*', 'X'), ('evaluating', 'VERB'), ('teachers', 'NOUN'), ('or', 'CONJ'), ('schools', 'NOUN'), ('by', 'ADP'), ('*', 'X'), ('using', 'VERB'), ('standardized', 'ADJ'), ('test', 'NOUN'), ('scores', 'NOUN'), ('.', '.')], [('The', 'DET'), ('following', 'NOUN'), ('*ICH*-4', 'X'), ('were', 'VERB'), ('barred', 'VERB'), ('*-3', 'X'), ('or', 'CONJ'), (',', '.'), ('where', 'ADV'), ('*', 'X'), ('noted', 'VERB'), ('*-1', 'X'), ('*T*-2', 'X'), (',', '.'), ('suspended', 'VERB'), ('*-3', 'X'), ('and', 'CONJ'), ('consented', 'VERB'), ('to', 'PRT'), ('findings', 'NOUN'), ('without', 'ADP'), ('*-3', 'X'), ('admitting', 'VERB'), ('or', 'CONJ'), ('denying', 'VERB'), ('wrongdoing', 'NOUN'), (':', '.'), ('Edward', 'NOUN'), ('L.', 'NOUN'), ('Cole', 'NOUN'), (',', '.'), ('Jackson', 'NOUN'), (',', '.'), ('Miss.', 'NOUN'), (',', '.'), ('$', '.'), ('10,000', 'NUM'), ('*U*', 'X'), ('fine', 'NOUN'), (';', '.'), ('Rita', 'NOUN'), ('Rae', 'NOUN'), ('Cross', 'NOUN'), (',', '.'), ('Denver', 'NOUN'), (',', '.'), ('$', '.'), ('2,500', 'NUM'), ('*U*', 'X'), ('fine', 'NOUN'), ('and', 'CONJ'), ('30-day', 'ADJ'), ('suspension', 'NOUN'), (';', '.'), ('Thomas', 'NOUN'), ('Richard', 'NOUN'), ('Meinders', 'NOUN'), (',', '.'), ('Colorado', 'NOUN'), ('Springs', 'NOUN'), (',', '.'), ('Colo.', 'NOUN'), (',', '.'), ('$', '.'), ('2,000', 'NUM'), ('*U*', 'X'), ('fine', 'NOUN'), (',', '.'), ('five-day', 'ADJ'), ('suspension', 'NOUN'), ('and', 'CONJ'), ('eight-month', 'ADJ'), ('suspension', 'NOUN'), ('as', 'ADP'), ('a', 'DET'), ('principal', 'NOUN'), (';', '.'), ('Ronald', 'NOUN'), ('A.', 'NOUN'), ('Cutrer', 'NOUN'), (',', '.'), ('Baton', 'NOUN'), ('Rouge', 'NOUN'), (',', '.'), ('La.', 'NOUN'), (',', '.'), ('$', '.'), ('15,000', 'NUM'), ('*U*', 'X'), ('fine', 'NOUN'), ('and', 'CONJ'), ('one-month', 'ADJ'), ('suspension', 'NOUN'), (';', '.'), ('Karl', 'NOUN'), ('Grant', 'NOUN'), ('Hale', 'NOUN'), (',', '.'), ('Midvale', 'NOUN'), (',', '.'), ('Utah', 'NOUN'), (',', '.'), ('$', '.'), ('15,000', 'NUM'), ('*U*', 'X'), ('fine', 'NOUN'), (';', '.'), ('Clinton', 'NOUN'), ('P.', 'NOUN'), ('Hayne', 'NOUN'), (',', '.'), ('New', 'NOUN'), ('Orleans', 'NOUN'), (',', '.'), ('$', '.'), ('7,500', 'NUM'), ('*U*', 'X'), ('fine', 'NOUN'), ('and', 'CONJ'), ('one-week', 'ADJ'), ('suspension', 'NOUN'), (';', '.'), ('Richard', 'NOUN'), ('M.', 'NOUN'), ('Kane', 'NOUN'), (',', '.'), ('Coconut', 'NOUN'), ('Creek', 'NOUN'), (',', '.'), ('Fla.', 'NOUN'), (',', '.'), ('$', '.'), ('250,000', 'NUM'), ('*U*', 'X'), ('fine', 'NOUN'), (';', '.'), ('John', 'NOUN'), ('B.', 'NOUN'), ('Merrick', 'NOUN'), (',', '.'), ('Aurora', 'NOUN'), (',', '.'), ('Colo.', 'NOUN'), (',', '.'), ('$', '.'), ('1,000', 'NUM'), ('*U*', 'X'), ('fine', 'NOUN'), ('and', 'CONJ'), ('10-day', 'ADJ'), ('suspension', 'NOUN'), (';', '.'), ('John', 'NOUN'), ('P.', 'NOUN'), ('Miller', 'NOUN'), (',', '.'), ('Baton', 'NOUN'), ('Rouge', 'NOUN'), (',', '.'), ('$', '.'), ('2,000', 'NUM'), ('*U*', 'X'), ('fine', 'NOUN'), ('and', 'CONJ'), ('two-week', 'ADJ'), ('suspension', 'NOUN'), (';', '.'), ('Randolph', 'NOUN'), ('K.', 'NOUN'), ('Pace', 'NOUN'), (',', '.'), ('New', 'NOUN'), ('York', 'NOUN'), (',', '.'), ('$', '.'), ('10,000', 'NUM'), ('*U*', 'X'), ('fine', 'NOUN'), ('and', 'CONJ'), ('90-day', 'ADJ'), ('suspension', 'NOUN'), (';', '.'), ('Brian', 'NOUN'), ('D.', 'NOUN'), ('Pitcher', 'NOUN'), (',', '.'), ('New', 'NOUN'), ('Providence', 'NOUN'), (',', '.'), ('N.J.', 'NOUN'), (',', '.'), ('$', '.'), ('30,000', 'NUM'), ('*U*', 'X'), ('fine', 'NOUN'), (';', '.'), ('Wayne', 'NOUN'), ('A.', 'NOUN'), ('Russo', 'NOUN'), (',', '.'), ('Bridgeville', 'NOUN'), (',', '.'), ('Pa.', 'NOUN'), (',', '.'), ('$', '.'), ('4,000', 'NUM'), ('*U*', 'X'), ('fine', 'NOUN'), ('and', 'CONJ'), ('15-day', 'ADJ'), ('suspension', 'NOUN'), (';', '.'), ('Orville', 'NOUN'), ('Leroy', 'NOUN'), ('Sandberg', 'NOUN'), (',', '.'), ('Aurora', 'NOUN'), (',', '.'), ('Colo.', 'NOUN'), (',', '.'), ('$', '.'), ('3,500', 'NUM'), ('*U*', 'X'), ('fine', 'NOUN'), ('and', 'CONJ'), ('10-day', 'ADJ'), ('suspension', 'NOUN'), (';', '.'), ('Richard', 'NOUN'), ('T.', 'NOUN'), ('Marchese', 'NOUN'), (',', '.'), ('Las', 'NOUN'), ('Vegas', 'NOUN'), (',', '.'), ('Nev.', 'NOUN'), (',', '.'), ('$', '.'), ('5,000', 'NUM'), ('*U*', 'X'), ('and', 'CONJ'), ('one-year', 'ADJ'), ('suspension', 'NOUN'), (';', '.'), ('Eric', 'NOUN'), ('G.', 'NOUN'), ('Monchecourt', 'NOUN'), (',', '.'), ('Las', 'NOUN'), ('Vegas', 'NOUN'), (',', '.'), ('$', '.'), ('5,000', 'NUM'), ('*U*', 'X'), ('and', 'CONJ'), ('one-year', 'ADJ'), ('suspension', 'NOUN'), (';', '.'), ('and', 'CONJ'), ('Robert', 'NOUN'), ('Gerhard', 'NOUN'), ('Smith', 'NOUN'), (',', '.'), ('Carson', 'NOUN'), ('City', 'NOUN'), (',', '.'), ('Nev.', 'NOUN'), (',', '.'), ('two-year', 'ADJ'), ('suspension', 'NOUN'), ('.', '.')], [('``', '.'), ('She', 'PRON'), ('did', 'VERB'), ('a', 'DET'), ('lot', 'NOUN'), ('of', 'ADP'), ('harm', 'NOUN'), (',', '.'), (\"''\", '.'), ('says', 'VERB'), ('*T*-1', 'X'), ('Cathryn', 'NOUN'), ('Rice', 'NOUN'), (',', '.'), ('who', 'PRON'), ('*T*-100', 'X'), ('had', 'VERB'), ('discovered', 'VERB'), ('the', 'DET'), ('crib', 'NOUN'), ('notes', 'NOUN'), ('.', '.')], [('``', '.'), ('When', 'ADV'), ('scientific', 'ADJ'), ('progress', 'NOUN'), ('moves', 'VERB'), ('into', 'ADP'), ('uncharted', 'ADJ'), ('ground', 'NOUN'), ('*T*-1', 'X'), (',', '.'), ('there', 'DET'), ('has', 'VERB'), ('*-3', 'X'), ('to', 'PRT'), ('be', 'VERB'), ('a', 'DET'), ('role', 'NOUN'), ('*ICH*-4', 'X'), ('for', 'ADP'), ('society', 'NOUN'), ('*', 'X'), ('to', 'PRT'), ('make', 'VERB'), ('judgments', 'NOUN'), ('about', 'ADP'), ('its', 'PRON'), ('applications', 'NOUN'), (',', '.'), (\"''\", '.'), ('says', 'VERB'), ('*T*-2', 'X'), ('Myron', 'NOUN'), ('Genel', 'NOUN'), (',', '.'), ('associate', 'NOUN'), ('dean', 'NOUN'), ('of', 'ADP'), ('the', 'DET'), ('Yale', 'NOUN'), ('Medical', 'NOUN'), ('School', 'NOUN'), ('.', '.')], [('The', 'DET'), ('Voice', 'NOUN'), ('of', 'ADP'), ('America', 'NOUN'), ('is', 'VERB'), ('a', 'DET'), ('government', 'NOUN'), ('agency', 'NOUN'), ('that', 'DET'), ('*T*-1', 'X'), ('broadcasts', 'VERB'), ('news', 'NOUN'), ('and', 'CONJ'), ('views', 'NOUN'), ('--', '.'), ('some', 'DET'), ('might', 'VERB'), ('say', 'VERB'), ('propaganda', 'NOUN'), ('--', '.'), ('in', 'ADP'), ('43', 'NUM'), ('languages', 'NOUN'), ('to', 'PRT'), ('130', 'NUM'), ('million', 'NUM'), ('listeners', 'NOUN'), ('around', 'ADP'), ('the', 'DET'), ('world', 'NOUN'), ('.', '.')], [('Oy', 'NOUN'), ('Waertsilae', 'NOUN'), ('is', 'VERB'), ('*-1', 'X'), ('to', 'PRT'), ('contribute', 'VERB'), ('200', 'NUM'), ('million', 'NUM'), ('markkaa', 'NOUN'), (',', '.'), ('most', 'ADJ'), ('of', 'ADP'), ('it', 'PRON'), ('as', 'ADP'), ('subordinated', 'VERB'), ('debt', 'NOUN'), (',', '.'), ('and', 'CONJ'), ('take', 'VERB'), ('a', 'DET'), ('minority', 'NOUN'), ('stake', 'NOUN'), ('in', 'ADP'), ('the', 'DET'), ('new', 'ADJ'), ('company', 'NOUN'), ('.', '.')], [('INTER-TEL', 'NOUN'), ('Inc', 'NOUN'), ('.', '.'), ('-LRB-', '.'), ('Chandler', 'NOUN'), (',', '.'), ('Ariz.', 'NOUN'), ('-RRB-', '.'), ('--', '.')], [('The', 'DET'), ('city', 'NOUN'), (\"'s\", 'PRT'), ('Campaign', 'NOUN'), ('Finance', 'NOUN'), ('Board', 'NOUN'), ('has', 'VERB'), ('refused', 'VERB'), ('*-1', 'X'), ('to', 'PRT'), ('pay', 'VERB'), ('Mr.', 'NOUN'), ('Dinkins', 'NOUN'), ('$', '.'), ('95,142', 'NUM'), ('*U*', 'X'), ('in', 'ADP'), ('matching', 'ADJ'), ('funds', 'NOUN'), ('because', 'ADP'), ('his', 'PRON'), ('campaign', 'NOUN'), ('records', 'NOUN'), ('are', 'VERB'), ('incomplete', 'ADJ'), ('.', '.')], [('``', '.'), ('We', 'PRON'), ('could', 'VERB'), ('prevent', 'VERB'), ('many', 'ADJ'), ('of', 'ADP'), ('these', 'DET'), ('fatalities', 'NOUN'), ('with', 'ADP'), ('minimum', 'ADJ'), ('roof-crush', 'ADJ'), ('standards', 'NOUN'), (',', '.'), (\"''\", '.'), ('he', 'PRON'), ('said', 'VERB'), ('*T*-1', 'X'), ('.', '.')], [('On', 'ADP'), ('the', 'DET'), ('back', 'NOUN'), (',', '.'), ('the', 'DET'), ('shirts', 'NOUN'), ('read', 'VERB'), (',', '.'), ('``', '.'), ('We', 'PRON'), ('have', 'VERB'), ('all', 'DET'), ('the', 'DET'), ('answers', 'NOUN'), ('.', '.'), (\"''\", '.')], [('Much', 'ADV'), ('of', 'ADP'), ('Mr.', 'NOUN'), ('Lane', 'NOUN'), (\"'s\", 'PRT'), ('film', 'NOUN'), ('takes', 'VERB'), ('a', 'DET'), ('highly', 'ADV'), ('romanticized', 'VERB'), ('view', 'NOUN'), ('of', 'ADP'), ('life', 'NOUN'), ('on', 'ADP'), ('the', 'DET'), ('streets', 'NOUN'), ('-LRB-', '.'), ('though', 'ADP'), ('probably', 'ADV'), ('no', 'DET'), ('more', 'ADV'), ('romanticized', 'VERB'), ('than', 'ADP'), ('Mr.', 'NOUN'), ('Chaplin', 'NOUN'), (\"'s\", 'PRT'), ('notion', 'NOUN'), ('of', 'ADP'), ('the', 'DET'), ('Tramp', 'NOUN'), ('as', 'ADP'), ('the', 'DET'), ('good-hearted', 'ADJ'), ('free', 'ADJ'), ('spirit', 'NOUN'), ('-RRB-', '.'), ('.', '.')], [('The', 'DET'), ('provision', 'NOUN'), (',', '.'), ('called', 'VERB'), ('*', 'X'), ('the', 'DET'), ('``', '.'), ('two-time-losers', 'ADJ'), (\"''\", '.'), ('amendment', 'NOUN'), ('by', 'ADP'), ('its', 'PRON'), ('supporters', 'NOUN'), (',', '.'), ('apparently', 'ADV'), ('was', 'VERB'), ('aimed', 'VERB'), ('*-29', 'X'), ('at', 'ADP'), ('*', 'X'), ('preventing', 'VERB'), ('Texas', 'NOUN'), ('Air', 'NOUN'), ('Corp.', 'NOUN'), ('Chairman', 'NOUN'), ('Frank', 'NOUN'), ('Lorenzo', 'NOUN'), ('from', 'ADP'), ('*-1', 'X'), ('attempting', 'VERB'), ('*', 'X'), ('to', 'PRT'), ('take', 'VERB'), ('over', 'PRT'), ('another', 'DET'), ('airline', 'NOUN'), ('.', '.')], [('When', 'ADV'), ('Scoring', 'NOUN'), ('High', 'NOUN'), ('first', 'ADV'), ('came', 'VERB'), ('out', 'ADV'), ('in', 'ADP'), ('1979', 'NUM'), ('*T*-1', 'X'), (',', '.'), ('it', 'PRON'), ('was', 'VERB'), ('a', 'DET'), ('publication', 'NOUN'), ('of', 'ADP'), ('Random', 'NOUN'), ('House', 'NOUN'), ('.', '.')], [('Olympia', 'NOUN'), ('Broadcasting', 'NOUN'), ('Corp.', 'NOUN'), ('said', 'VERB'), ('0', 'X'), ('it', 'PRON'), ('did', 'VERB'), (\"n't\", 'ADV'), ('make', 'VERB'), ('a', 'DET'), ('$', '.'), ('1.64', 'NUM'), ('million', 'NUM'), ('*U*', 'X'), ('semiannual', 'ADJ'), ('interest', 'NOUN'), ('payment', 'NOUN'), ('due', 'ADJ'), ('yesterday', 'NOUN'), ('on', 'ADP'), ('$', '.'), ('23.4', 'NUM'), ('million', 'NUM'), ('*U*', 'X'), ('of', 'ADP'), ('senior', 'ADJ'), ('subordinated', 'VERB'), ('debentures', 'NOUN'), ('.', '.')]]\n"
     ]
    }
   ],
   "source": [
    "# Splitting into train and test\n",
    "random.seed(1234)\n",
    "train_set, test_set = train_test_split(nltk_data,train_size = 0.95, test_size=0.05,random_state = 101)\n",
    "\n",
    "print(len(train_set))\n",
    "print(len(test_set))\n",
    "print(train_set[:40])"
   ]
  },
  {
   "cell_type": "markdown",
   "metadata": {},
   "source": [
    "We have 3718 data sets in train dataset and 196 in test dataset"
   ]
  },
  {
   "cell_type": "code",
   "execution_count": 5,
   "metadata": {},
   "outputs": [
    {
     "data": {
      "text/plain": [
       "95547"
      ]
     },
     "execution_count": 5,
     "metadata": {},
     "output_type": "execute_result"
    }
   ],
   "source": [
    "# Getting list of tagged words\n",
    "train_tagged_words = [tup for sent in train_set for tup in sent]\n",
    "len(train_tagged_words)"
   ]
  },
  {
   "cell_type": "code",
   "execution_count": 6,
   "metadata": {},
   "outputs": [
    {
     "name": "stdout",
     "output_type": "stream",
     "text": [
      "['Reliance', 'confirmed', 'the', 'filing', 'but', 'would', \"n't\", 'elaborate', '.', '*']\n"
     ]
    }
   ],
   "source": [
    "# tokens \n",
    "tokens = [pair[0] for pair in train_tagged_words]\n",
    "print(tokens[:10])"
   ]
  },
  {
   "cell_type": "code",
   "execution_count": 7,
   "metadata": {},
   "outputs": [
    {
     "name": "stdout",
     "output_type": "stream",
     "text": [
      "12100\n"
     ]
    }
   ],
   "source": [
    "# vocabulary\n",
    "V = set(tokens)\n",
    "print(len(V))"
   ]
  },
  {
   "cell_type": "code",
   "execution_count": 8,
   "metadata": {},
   "outputs": [
    {
     "name": "stdout",
     "output_type": "stream",
     "text": [
      "{'tackle', '*-2', '13.625', 'execs', 'school-sponsored', 'predicting', 'trap', '2.44', '*-105', 'Douglas', 'entity', 'plummeted', 'apartment', 'Unicorp', 'decay', 'Schlemmer', 'self-regulatory', 'Signs', '225,000', 'PaineWebber', 'hit', 'robustly', 'tell', 'committed', 'suffer', 'claiming', '139', 'Signore', 'convert', 'diabetes', 'Dealers', 'scenic', 'north', 'DD', 'start', 'acquire', '6.50', 'everybody', 'farmers', 'scream', 'rear-seat', 'lotter', 'authors', '4.75', 'also', 'His', 'counterattack', 'wage', 'Greer', 'incentive', 'folks', 'roof', 'incomes', 'richer', 'Muzzling', '*T*-165', '1.916', 'romance', 'Unfortunately', 'computer-assisted', 'professor', 'started', '*T*-60', 'wholesaler', 'Pierre', 'portrayed', 'openly', 'peddling', 'subjecting', '17.95', '*-139', 'transplant', 'tight', 'psychiatric', '*T*-63', 'disproportionate', 'alternatively', 'seat', 'elusive', 'Waste', 'Garanti', 'suing', '7.80', 'Dana-Farber', 'inventories', 'aid', 'Thomas', 'closed', 'contributions', 'triggered', 'Barbara', 'bid', 'Hudnut', 'traditionally', 'features', 'specializing', 'works', 'sympathy', 'interest', '*T*-6', 'rendering', 'glory', '*T*-79', 'psychiatrist', 'continues', 'noodles', '110', 'jeopardy', '3.20', 'appeared', 'done', '*-4', '3,288,453', 'Curry', 'inefficiencies', 'upheld', 'echoed', '9.8', 'mathematical', 'Thousands', 'cooperation', 'market-makers', 'Johnson-era', \"'re\", 'exuded', 'bull', 'club', 'plunging', 'Midwesco', 'swing', 'tune', '454', '!', '1.17', 'Lama', 'knight', 'succession', 'licensed', 'Woolworth', 'Wild', 'joint-venture', 'more-advanced', 'equities', 'entrants', 'containing', 'Newgate', 'B.', 'proscribes', 'Highway', 'copper', 'Inouye', 'constituent', 'apple', 'lobbyist', 'Foreigners', 'achieving', 'nominees', 'Class', 'ran', '14,821', 'Maytag', 'regulators', '*-163', 'MORTGAGE', 'Federalist', 'something', 'rapprochement', '1.56', 'onto', '*T*-39', 'particulars', 'Strategic', 'durable', 'intraocular', 'universally', '40,000', 'Fundamentalists', 'Her', 'indifference', 'almost', 'briefing', 'This', '*T*-177', 'alleged', 'G.', 'hormone', 'acknowledge', 'Nicole', 'quips', 'Mission', 'Cedric', 'WTD', 'Hostess', 'Connecticut', 'NATIONAL', 'Assuming', 'following', 'introduce', 'Thailand', 'Financial', 'POTABLES', 'wear', 'skill', 'gut', 'perpetuate', 'relief', 'billionaire', 'rape', 'prayer', '15-day', 'doling', 'Eugene', 'council', 'Use', 'energetic', 'laying', 'live', 'film', 'stimulating', '1.8500', 'About', '80', 'Macmillan\\\\/McGraw-Hill', 'subscribers', 'expanded', 'demonstrations', 'Filmed', 'affect', 'leader', '44', 'traveled', 'Outside', 'Orville', 'Dolan', 'yellow', 'Under', 'host', 'watchers', 'long-term', 'rung', 'mailed', 'stakes', 'essentially', 'sweepstakes', 'voice', 'obvious', 'nature', '14', 'Porter', 'Equivalents', 'Guard', 'Soviets', 'Bradford', 'Resistance', 'IX', 'pill', 'hair', 'Environmental', 'initialing', 'thus', 'unlike', 'Prater', 'hosted', 'three-lawyer', 'shrank', 'disconnect', 'policy-making', 'disputes', 'dead-eyed', 'distorted', 'eyes', 'enrollment', '*T*-225', 'mere', 'onslaught', 'Bancorp', 'whimsical', 'revived', '306', 'barrels', 'Claire', 'Campbell', 'Marie-Louise', 'Hara', 'Do', 'breed', '1.82', 'Fails', 'mirrors', 'Keehn', '3.1', '*T*-182', 'three-month', 'posters', 'acceded', 'loops', 'Graham', 'Rankin', 'style', 'jeweler', 'liquidity', 'devastating', 'McGovern', 'markdowns', 'fetal-tissue', 'AN', 'Zurich', 'Ensrud', 'deter', 'ethics', 'Financially', 'bicameral', '23.5', 'backlogs', 'bank-backed', 'differential', 'Huber', '77.6', 'Crime', 'instruments', 'stuck', 'football', 'Minera', 'Imhoff', 'answers', 'Davenport', '3.2', 'laurels', '25,000', 'if', 'Lt.', 'Rick', 'challenging', 'awards', 'books', 'underwriters', 'province', 'Property\\\\/casualty', 'Dodge', 'sewing-machine', 'plunged', 'hired', 'tough', 'momentary', 'disorders', 'Unico', 'Walker', 'repayment', 'irrelevant', 'band-wagon', 'fill', 'corruption', 'Zaharah', 'Article', 'corporations', 'recorder', 'settled', 'smokers', '32.8', 'industrials', '*T*-191', 'two-time-losers', 'welfare', 'Trojan', 'Sea', 'sheep', 'proponents', 'Depending', 'Dominus', 'affirmative', 'BALLOT', 'scant', 'Engineers', 'sale', 'bomber', 'resolution', 'liability', 'vested', 'subcontractor', 'Mo.', 'abuse', 'darned', 'Industry', 'rim', 'certificate', 'Youths', 'Vose', 'troubles', 'worrying', 'denominator', '155', 'columns', 'muffled', 'strictly', 'medical', 'Bon', '449.04', 'resigning', 'industrial-production', '*-136', 'Adopting', 'grants', 'Brisk', '6,000', 'resentment', 'Trustco', 'diplomats', 'Wine', 'contemporary', 'Stephens', 'Gorman', 'recouped', 'stable', 'Miguel', 'blindfold', 'quarter', 'casino', 'approximately', 'tie-breaking', 'then-Speaker', 'formula', 'regulation', 'lasted', 'types', 'Aurora', 'easily', 'adjusting', 'trade', 'Randolph', 'landfill', '*-61', 'languages', '*T*-15', 'milk', 'Heritage', 'Anderson', 'Sigler', '7.50', 'cultivated', '*T*-43', 'Mossman', '118.6', 'way', 'period', 'Petroleum', 'mindful', 'Francisco-based', 'B.A.T', '*T*-248', 'If', 'attention', 'Czech', 'Kathryn', 'January', '106', 'thrifts', 'Andersson', 'instances', '92.9', '8.22', 'checkbook', 'Cosby', 'car-safety', 'Mass', 'bombarding', 'droughts', 'federal', 'cutting', 'Heavy', 'Hayne', 'rescheduled', 'denies', 'powerful', 'fanfare', 'Texas', 'real', 'Asked', 'deliver', 'Kent', 'Mitchell', 'editorially', 'Uzi-model', 'connection', 'Lieberman', 'Alleghany', 'die', 'resignation', 'assertion', 'speculation', 'JUDICIAL', 'Griffin', 'social-studies', 'member', 'Kurland', 'bin', 'Du', 'Kill', '27.4', 'classics', 'offset', 'Diamond', 'household', 'referenda', 'nutrition', 'restructuring', 'LIBOR', '*-147', 'ShareData', 'supercilious', 'unable', 'Fourth', 'allies', 'vs.', 'retard', 'suppliers', 'NEC', 'Purchase', 'cells', 'weaken', '88', 'promotion', 'nurtured', 'wine', 'tempted', 'megabytes', 'awful', 'Secilia', 'curbing', 'classic', 'where', 'degrees', '*-82', 'Post', 'broadly', 'drink', 'dormitory', 'SuperDot', 'bonuses', 'Prime', 'obligated', 'tracked', 'followed', '992,000', 'pricings', '15,000', 'later', 'Foundation', 'Richard', 'Ratner', 'hard-drinking', 'sociology', 'speculator', 'Municipal', 'stalls', '21.1', 'firmed', 'trend', 'Chardonnays', 'Commerce', 'Midwest', 'text', 'civics', 'Opinion', 'higher', 'attracts', 'slash', 'Place', 'Karns', '237-seat', 'ample', 'trays', 'midtown', '400,000', 'depending', '6.7', 'understatement', '*-134', 'third', 'blurred', 'Title', 'Nobel', 'superconductor', 'appropriated', 'Heiwado', '20s', 'Purepac', 'Chivas', 'spirit', 'Finnish', 'nonfat', 'looking', 'employed', 'adopt', '2.3', '17.5', 'Supreme', 'interrogation', 'bottles', '3.3', 'lens', 'Encouraged', 'spurred', 'Cougar', 'Us', 'valuations', 'stuff', 'Criminal', 'developed', 'creativity', 'deteriorating', 'arrangement', 'costs', 'gets', 'ASSETS', 'stock-market', 'Colorado', 'considerably', 'died', 'Australia', 'agenda', '1637', 'Allendale', 'scandals', 'costly', 'decades', 'restaurant', 'wherewithal', 'allow', 'defensive', 'buy-out', 'presumably', 'three-digit', '7.88', 'veteran', 'Yquem', 'crystal-lattice', 'Lebanon', 'minor', 'Charles', 'barrel', 'road', 'specify', 'escalated', 'observers', 'convey', 'poor', 'ACCEPTANCES', 'vineyard', 'seven-million-ton', 'State', 'Mich.-based', 'profess', 'driving', 'Now', 'chaotic', 'timely', 'pact', '350,000', 'Shugart', 'outright', 'attorney', 'filling', 'Malta', 'unmarked', 'premiere', 'eating', 'screens', 'floor', 'Kingdom', 'English-speaking', 'starts', 'pain', 'solicitor', 'self-esteem', '1.55', 'fit', 'severable', 'postponed', 'buckle', 'redistributing', 'convertible', 'one-country', 'APPEARS', 'crook', 'Poor', 'Standing', 'I', 'juggle', 'Alliance', 'Scripps', 'soured', '*-151', 'non-U.S.', 'tired', 'Bowery', 'wild', 'For', 'Barney', 'Daniels', 'cash-rich', 'deposit', 'Psychiatry', 'expand', '*-76', '*T*-190', 'Division', 'pleased', 'carefree', 'Landrieu', 'fetching', 'NCR', 'sense', 'rewarding', 'placing', 'teacher', 'counter', 'paperback', 'stop', 'punishing', 'additions', 'N.V.', 'vacations', 'Cathedral', 'imperative', 'Output', 'Contracts', 'cast', '1988-89', 'invented', 'explanatory', 'bolster', 'Sutcliffe', 'helped', '1966', 'spin-off', 'satisfaction', 'section', 'liberty', 'caveat', 'Orders', 'six', 'subscription', 'Jobs', '145', 'impossible', 'Wellington', 'Drobnick', 'Akerfeldt', 'twin-jet', 'Pardus', 'no', 'voluntarily', 'researching', 'Cataracts', 'texture', '*T*-125', '0', 'going', '372.9', '*-144', '13.15', 'company', 'Sidewalk', 'globally', 'Massachusetts', 'turnaround', 'involves', 'Campaign', 'installment', 'meet', 'Nancy', 'your', 'search', 'autos', 'Photograph', '1934', '1.637', 'INTERPUBLIC', 'Index', 'placement', 'avoid', 'rollover', 'engage', 'facts', 'showings', 'because', 'embarrassing', '*T*-52', 'enact', 'warehouses', 'pull', 'Arbitrage-related', 'forecasts', 'mind-boggling', 'weekly', 'unworkable', '1.26', 'Jacksonville', 'Minnesota', '133.8', '1971', 'stockbroker', 'referrals', 'dividend', 'unwanted', 'odds', 'player', 'Mike', 'theaters', 'often', 'seize', 'Moleculon', 'notable', 'advertorial', '*-27', '*-42', 'intelligent', '*T*-9', 'discharge', 'Pa.', 'crib', 'Kaminski', 'visible', 'torn', 'Feniger', 'reference', '*-75', 'scoop', 'task', 'Cote', '1\\\\/4', '750', 'raspberry', 'Estate', 'year-long', 'replicated', 'liberals', '14.53', 'stage', '*EXP*-3', 'departure', 'Bonnell', 'guilty', 'soliciting', 'faith', 'Sheep', 'street', '*ICH*-3', 'maintain', 'ideological', 'harvested', 'multi-crystal', 'executive', '705.6', 'community', 'Adolph', 'Garret', 'sidestep', 'exciting', 'Nuys', '*T*-47', 'illness', '*-73', 'Advice', 'Lucille', 'rampage', 'do-it-yourself', 'gubernatorial', 'Visa', 'generalizations', 'pour', 'cuvees', 'instituted', 'engineering', 'overtime', 'Orrick', 'NEW', 'escrow', 'NRDC', '234.4', 'Ancient', 'scenes', 'Asia', 'vintages', 'Andy', 'Jenrette', 'desktop', 'stood', 'acted', 'deliberating', '292.32', 'excited', 'partisan', 'GOP', 'presidents', 'one-fifth', 'meal', '*-161', 'fattened', 'Dorrance', 'record', 'be', 'grader', 'increasingly', 'Stockholm', '10-lap', 'triple-A-rated', 'reserves', 'UBS', 'roll', 'transferring', 'consulting', 'fiber-end', '700,000', 'root', 'Nov.', 'Jackson', 'Olson', 'Hurricane', 'worry', 'materialize', 'angle', 'monopoly', 'column', 'responses', 'Texas-based', 'silent', 'beneficial', 'executives', 'injuries', '39', 'Darrell', 'considered', 'sigh', 'waive', 'Claude', 'map', 'colleagues', 'normal', 'passers-by', 'Boesel', 'replace', 'expectations', 'sitting', 'reliance', 'Dolphins', 'near', 'desired', 'sidewalk', 'month', 'disciplinary', 'mail', 'VanSant', 'Weatherly', 'remaining', 'economical', 'torrent', 'stress', 'SWITCHING', 'asserting', 'worst-case', 'Trudeau', 'Peabody', 'MEDICINE', 'smothering', 'message', 'filings', 'districts', 'name', 'one-time', 'throughout', 'Shepperd', 'actual', 'Inns', 'content', 'capped', 'reshaping', 'alternative', 'Funny', 'agents', 'compared', '*-85', 'GHKM', 'zero', 'Schweiz', 'handled', 'television', 'famous', 'ship', 'stifle', 'authorities', 'ratcheting', 'attempted', 'skilled', 'rates', 'downgrade', 'Putty', 'headcount-control', 'productivity', 'appliances', \"O'Neill\", 'propagandizes', 'commodities', 'Revolution', 'count', 'iota', 'accusing', 'living', 'Nasty', 'Sanderoff', 'interjects', 'Impediments', 'Missouri', 'semesters', 'movement', 'Gray', 'Genie', 'placed', 'receivers', 'various', 'invested', 'routine', '*-106', 'actor', 'magnetic', 'Smelting', 'Standardized', 'citations', 'Hawaii', 'Topix', 'Valley', 'Berliner', 'prepare', 'Julia', 'Marvin', 'superiors', 'Lorain', 'unknown', 'seafood', 'school', 'diversifying', 'goodies', 'stability', 'Pepperdine', 'anticipation', 'subpoenaed', 'witnesses', '422.5', 'sake', 'unenthusiastic', 'Community', '5.92', '1.1650', 'cure', 'AC-130U', '154.2', 'ranged', 'US', 'by', 'reasoning', 'curses', 'promises', 'importance', 'creditors', 'silicone', 'quarters', 'immediate', 'unaware', 'finds', 'permitting', 'Koito', '377.60', 'partial', 'manages', 'traditionalists', '1.61', 'ai', 'outnumbered', 'Rapanelli', 'evoking', 'human', 'Hugo', '52-week', 'overlap', 'revival', 'adults', 'apparel', 'available', 'initially', 'midsized', '6.84', 'dismissal', 'Patricia', 'venture', 'Korea', 'resort', 'weight', '271-147', 'crime', '25', '1972', 'smooth', 'spurns', 'victim', 'themselves', 'Webb', 'networking', 'uncanny', 'Brenda', 'Steinberg', 'NIH-appointed', '*T*-192', 'K.', 'breathtaking', 'performed', 'weddings', 'funded', 'Vegas', 'wholesale', 'exposure', 'sit', 'Yale', 'views', 'latter', 'prevents', 'whereby', 'Hammacher', 'intervention', 'sticker-shock', 'climate', 'highway', 'electric', 'satisfactorily', 'PHOTOGRAPH', 'Coors', 'heart', 'Morgan', '*T*-240', 'acceleration', 'cease-fire', 'currently', 'stupid', 'Ga.', 'Compound', '12.7', 'Actually', 'signals', 'softer', 'Growth', 'antitrust', 'Series', 'stand', 'lesson', 'interference', 'smoothly', 'Spain', 'clannish', 'Danville', 'introduces', 'Wozniak', 'Wu', 'flashy', 'First', '*-78', '20-point', '30-day', 'hospitals', 'prime', 'author', 'trials', 'permission', 'Jeffrey', 'in', 'clock', 'million-a-year', 'grower', 'likely', '23', 'Neal', 'duty', 'Tiger', '5.57', 'Earlham', 'practiced', 'carries', 'fundraising', 'tested', 'markets', 'refile', '9.625', '1969', 'Neil', '8.25', 'sassy', 'drafted', 'masters', 'Administration', 'occupying', 'Centers', 'sponsors', 'jobs', 'comedies', 'sagging', 'talk', 'imbalances', 'Publishers', 'WAR', 'appears', 'assassinated', 'plus', 'scrape', 'Excluding', 'faultlessly', '3,500', 'Alzheimer', 'parking', 'Amin', 'PRIME', 'on', 'E.W.', 'So', 'Landis', '2.30', 'dawn', '8.1', 'headrests', '*T*-219', 'Louisville', 'ordinary', 'Wheeland', 'Programs', 'Zayed', 'contained', 'Angels', 'May', 'parishioners', 'schoolchildren', 'targets', 'sell-offs', 'caustic', 'mudslinging', 'Sen.', 'Spanish', 'lead', 'famed', '*T*-21', 'avert', 'cardboard', 'Observing', 'worst', 'rebuked', '150,000', 'Committee', 'hierarchical', 'Higher', 'Ariz.', 'alumni', 'PLO', 'Appellate', 'war', 'demise', 'Merrick', 'industry-wide', 'naming', 'Consequence', 'spiders', 'boom', 'England', '*T*-45', 'four-year', 'realized', 'myriad', 'mating', 'FAMILY', 'merchandising', 'developer', 'clearance', 'Chinese-American', 'Send', 'guys', '300-day', 'leapt', 'gentle', 'humble', 'checks', 'indication', 'Richmond', 'departures', 'turning', 'craft', 'recess', 'bloody', '*T*-80', 'American-made', 'amount', 'starters', 'H.', 'Ralston', 'Once', 'term', 'Often', 'dead', '126,000', 'loading', 'cosmetic', 'refuse', 'Iran\\\\/Contra', 'entice', 'a', 'ticket', 'Leap', 'Wedtech', 'Courter', 'financier', 'represented', 'one-upsmanship', 'private', 'stalemate', 'vision', 'risk', 'mistrials', 'armed', 'we', 'Roland', 'sooner', 'recyclability', 'lookee-loos', 'HOME', '*T*-138', 'Professional', 'Mehrens', 'rash', 'affairs', 'contradict', 'seven-year', 'plane', 'large', 'screen', 'Central', '1st', 'citation', 'Louisiana-Pacific', 'annual', 'securities', 'insists', 'hire', 'fund', '386', 'admitted', 'multinationals', 'No', 'average', 'Wright', '127.03', '7.272', '*T*-188', 'Provided', 'befuddled', 'subscriptions', 'now', 'hotels', 'lightning-fast', 'Leon', '71,309', 'warns', 'write', 'write-downs', 'seek', 'curse', 'liners', 'worms', 'highs', 'theme', 'Technology', 'HHS', '1,500', ';', 'Guaranteed', 'completeness', '6,500', 'Hutchinson', 'father-in-law', '1950s', 'or', 'morphogenetic', 'scrambled', '*-67', 'Noriega', 'Holdings', 'reservations', 'Illinois', 'restrictions', 'Dollar-yen', '800', 'Las', 'though', 'powerhouse', 'vow', '121.6', 'hits', 'Hubbell', 'elite', 'U.S.A.', 'revising', 'businessman', 'Harold', 'shake', 'divisions', '1992-1999', 'stones', 'ad', 'Chapter', 'Francisco', 'blood', 'classified', 'Alan', '*-121', 'contingent', 'documents', 'climbing', 'maybe', '4.2', 'silicon', 'concentrating', 'Angola', 'inquiry', 'substance-abusing', 'initiate', 'taught', 'burdens', 'rings', 'winding', 'Trade', 'exchanges', '*T*-87', '1984', 'foundation', 'legislation', '*-72', 'dividing', 'fringe', '5.8', 'person', 'Generally', '212', 'three', 'reluctant', 'galvanized', '9.37', 'payrolls', 'smaller', 'Fees', 'counterpart', 'segmenting', 'thread', '*T*-213', 'exploded', 'disasters', 'flatulent', 'creates', '*T*-24', 'doubted', 'attempting', 'innovation', 'fan', 'individual', 'discordant', '10-year', 'initiative', 'Seattle', 'Milne', '8.56', 'sharp', '*-10', 'officially', 'Sugarman', 'protracted', 'specialist', 'Perignon', 'ascribe', 'its', 'truth-in-lending', 'dean', 'journal', '2003\\\\/2007', 'Crane', 'Phillips', 'DIAPER', '0.56', 'advances', 'Participants', 'Health', 'Too', 'girlfriend', 'makes', '*-88', 'pit', 'takes', 'cultivation', 'conferees', 'directors', 'newly', 'athletic', 'Those', 'soldiers', 'evaluation', 'major', 'very', '*T*-259', 'built', 'Bromwich', 'holder', 'Other', 'Leningrad', 'Chabrol', 'Chevrolet', 'South', 'warnings', 'divergence', 'promote', 'customers', '37.5', 'DSM', 'profited', 'acid', 'quoting', 'spilling', 'serviced', 'co-founded', 'galling', 'Ballot', \"O'Loughlin\", 'b', 'Something', 'work', 'Mich.', 'waiver', 'informally', 'nothing', '1980', 'Vinken', 'successor', 'Three', 'Fred', 'Ballantine\\\\/Del', 'state', 'retired', 'Ortega', 'Systems', 'Security', 'turf', 'retailer', 'doubled', 'morning', 'Newsweek', 'Ann', '5,699', '120,000', 'keeping', 'opinion', 'card', 'Heightened', 'having', 'spokesman', 'prevailing', 'finite', 'Tuesday', 'offer', 'equity', 'licenses', 'prerogatives', 'Novell', 'auctions', 'Tribune', 'Wall', 'sparked', 'crossed', 'uttering', 'Pont', 'agreed-upon', 'Except', 'sources', 'therapy', 'vacant', 'persuasion', 'introducing', 'newest', 'Yesterday', 'revelations', 'seven', 'routes', 'layer', 'lieu', 'nation', '11th', 'peaked', 'tickets', 'banned', 'race', 'Democrat', 'retires', 'itself', '9.9', '105', 'centimeter', 'customized', 'Church', 'trash', 'Nestor', '14.26', 'admitting', 'kilobytes', 'completion', 'N.C', 'Miami-based', 'cope', 'exercised', 'tendered', 'profit', 'helm', 'devise', 'reading', 'Edge', 'Allied', 'claims', '*-91', 'barking', 'Lines', 'portfolio', 'self-serving', 'CEO', 'crucial', '64.5', 'PLC', 'sector', '*T*-159', '2141.7', 'unjustified', 'bribed', 'Pretax', '2.42', 'tenfold', '0.95', 'similarity', '352.9', 'pressing', '19-month-old', 'redemption', 'competitors', '*T*-250', 'Year', 'continental', 'discouraging', 'why', 'clippings', 'owned', 'Switzerland', '12.97', 'Wis.', 'involving', 'reds', 'system', '*-46', 'academic', 'acquiring', 'wary', 'amending', 'treated', 'new', 'clearer', 'PS', 'buildup', 'Manila', 'recognizing', 'runs', 'stretched', 'lieutenant', 'Ore.', 'afflicted', 'single-handed', 'Austrian', 'Following', 'refrigerator', '*-17', 'bone', 'whipping', '1.4', 'helpful', '*T*-8', 'evening', 'hid', 'summer\\\\/winter', 'dividends', '*-95', 'Islands', 'Antonio', 'Portugal', 'impart', 'indicator', 'ushered', 'minimum', 'Laboratories', 'ISSUES', 'ties', 'evensong', 'treating', 'sugar', '*T*-64', 'withdrew', 'manually', 'stacking', 'worthy', 'temperature', 'LTV', 'Kean', 'Items', 'largest', '*-109', 'mistakenly', '$', 'next', 'Walters', 'wine-buying', 'subtraction', '46', 'dealers', 'muster', 'Abbot', 'Driscoll', 'dusty', 'rivals', 'explosion', '388', 'evaporated', 'Kalipharma', '2\\\\/32', 'influential', '14.13', 'holidays', 'pretext', 'creator', 'till', 'the', 'carillons', 'Ravenswood', 'RMS', 'United', 'Samuel', 'rating', 'recruited', 'Taizo', 'implant', 'stepping', 'son', 'idiomatic', 'loaded', 'comment', 'production', 'Four', 'tires', 'five-year', 'revenue', 'high-speed', 'cargo', '14\\\\/32', 'heirs', 'teenage', 'buy', 'shown', 'raised', 'double-A', 'desultory', 'instrument', 'Noble', 'facility', 'pre-approved', 'matched', 'journalistic', '372.14', 'versions', 'advancing', '451', 'Roof', 'texts', 'aiming', 'Glendale', 'Circulations', 'Bells', 'predispose', '*T*-203', 'shirt-sleeved', 'pills', 'ought', 'Greenville', 'carrier', 'telecommunications', 'ask', 'Louisiana', 'Maxwell', 'will', 'hill', '16.09', 'Deborah', 'Royal', 'Dallas', 'deteriorated', 'blighted', 'fearful', 'Lobsenz', 'Operations', 'called', 'McDermott', 'Al', '0.16', 'Hartford', 'examined', 'accountant', 'falls', 'group', '2.5', '29.3', '18-a-share', 'context', 'volunteer', 'halt', 'DiLoreto', 'working', 'motives', 'Reupke', 'city', 'Bendectin', 'NBC', 'employers', 'rises', '3.55', 'dreadful', 'revised', 'situation', 'fixed-price', '*T*-83', 'Seahorse', 'Corporations', 'insist', 'Valhi', 'Nederlanden', 'compassion', 'returning', 'appoint', 'pages', 'had', '63-year-old', 'Plan', 'Perpetual', 'leveling', 'preserving', 'cataract', 'eternal', 'widely', '38.375', 'Philippines', 'consumption', 'borders', 'operates', 'conclude', 'limiting', 'fielded', 'transfer', 'Puccio', 'Partners', 'Index-arbitrage', '*T*-202', 'offers', 'strains', 'Yasuda', 'damn', 'surplus', 'Could', 'benign', 'communication', '1993', 'Rekindled', 'hostile', '26.8', 'harmony', 'Unless', 'scrapped', 'aired', 'Campeau', 'Phillip', 'McCabe', 'rules', 'China', 'beaten', 'votes', 'Santa', 'Dean', '7.20', 'massacre', '*T*-187', 'preclude', 'Named', 'collaborated', '25.6', 'Eagleton', '*-25', 'chaos', 'Metropolitan', 'picked', 'convinced', 'Conn.based', 'inching', 'retaliating', 'Associates', 'Bowl', 'Angeles', 'stoppage', 'disturbs', 'mentally', 'job', 'fat', 'LANDOR', 'Grandsire', 'mobster', 'AT&T', 'succeeded', '*T*-104', 'pioneer', 'co-chairman', 'Adds', 'fueled', '120.7', 'Buckhead', '7.63', 'ministry', '12.5', '4.9', 'fluctuations', 'six-month', 'identify', 'Economics', 'Coleco', 'centers', 'execute', 'gloomy', 'planner', 'Freshbake', '1937-40', 'Most', 'Iran-Contra', 'startling', 'Opportunity', 'story', 'injuring', 'entrepreneur', 'Stocks', 'reports', '37.3', 'Reames', 'writing', 'one-year', 'prepared', 'an', 'justifying', 'closeness', '85.1', 'Robertson', 'improvement', 'Spence', '2,000', 'Being', 'Researchers', 'join', 'anti-morning-sickness', 'sensitive', 'arguments', 'Gardner', '*T*-41', 'into', '*T*-1', 'Stuart', 'spring', 'Woodrow', 'Phi', 'high-volume', '4.875', 'speaks', 'nice', 'stock', 'NBI', '*T*-133', 'infrequent', 'preference', 'mark', 'interest-rate', 'municipality', 'possess', 'reaping', 'leap', 'S&L', 'tip', 'announcer', 'forum', 'mortgage-based', 'first-half', 'Enright', 'exceed', 'case', 'Superdome', 'serving', 'States', 'melt-textured', 'penetration', 'affiliate', 'enviable', 'appointment', 'doctorate', 'Lake', 'year-end', '*-149', 're-thought', 'statewide', 'engineers', 'Indexing', 'obstacles', 'Nissho-Iwai', 'products', 'symmetry', 'chefs', 'boilers', 'exclusive', 'Frankly', 'Seats', '*T*-210', 'cigarette', 'signaling', 'mining', 'reversed', 'Garbage', 'Defending', 'outlays', 'Ferdinand', 'backdrop', 'coupon', 'Rita', 'duties', 'negotiators', 'whistle', 'under', 'Chairman', 'launch', 'product-design', 'CBS', 'J.P.', 'car-development', 'assume', 'Jeremy', 'combination', 'fiscal', 'Nebraska', 'worse', 'parents', 'coupled', 'stairs', 'unabated', 'pay', 'negotiate', 'Inc.', 'beneficiaries', 'slowly', '*T*-216', 'cadmium', '11.5', 'founded', 'v.', 'respect', 'relieved', 'investment-grade', 'training-wage', 'loose', 'lacks', 'Isabelle', 'proceeds', 'Boulder', 'Heatherington', 'Basic', 'Paramount', 'educational', 'oils', 'Exchange', 'evaluated', 'territory', '89.7', 'applicability', 'Markets', 'excessively', '*-71', 'encourages', 'Encouraging', '1903', 'Kalamazoo', 'Oil', 'Hopwood', 'Pamplin', 'dummies', 'sides', 'storm', 'justices', 'Lee', 'eliminate', 'Judge', 'Mitsubishi', 'compiled', 'first-rate', 'officers', 'criteria', 'subsidize', 'polluters', 'seems', 'surprised', 'cow', 'inspection', 'approaches', 'line-item', 'What', 'intention', 'Harper', 'corners', 'invest', 'nameless', 'vans', 'Barclays', 'Herrington', 'Lovett', 'plagued', '*T*-58', 'harms', 'DIALING', 'sank', 'single-family', 'congressional', 'bread', '7.74', 'Telephone', 'pick', 'Mo', 'narcotics', 'cooperating', 'final', 'terrine', 'starting', 'lowering', 'imposed', '*-158', 'Jerritts', 'well', 'Pace', 'complained', 'commit', 'watching', 'Nor', 'Choose', '53', 'Silverman', 'debut', '102', 'chief', 'trading', 'Trans', 'technology', 'fine', 'arts', 'fate', 'perhaps', 'ailing', \"D'Amico\", 'draws', 'originally', 'rhythmically', 'release', 'short', 'committees', 'Sigmund', 'sixth', 'Dennis', 'senate', '*-29', 'Palisades', 'Townes', 'Two', 'neutrons', 'CDs', 'bad', 'cancellation', 'Activity', 'tumbled', 'accounts', '80.50', 'leery', 'battle', 'enforce', 'pressman', 'heartland', 'wine-making', 'borrowers', 'supported', 'Jimmy', 'test-prep', 'copies', 'York', 'November', 'factors', 'directorship', '92', 'toy', 'generic', '84-month', 'manmade-fiber', 'smoke', 'license', '605', 'Orchestra', 'indicators', 'metal', 'commanded', 'concession', 'shaky', 'damaged', 'museums', '4.55', 'index-fund', 'Donaldson', '3.19', 'magazine', 'Assurance', 'becomes', 'boy', 'races', 'resume', 'LATE', 'Agriculture', 'targeted', 'F.H.', 'cutbacks', 'rough', 'Giraud', 'blank', '2.7', 'balked', '*T*-108', 'folio', 'mechanisms', 'Strong', 'cheat', 'Clinton', 'spackle', 'Structural', 'Hong', 'clothes', '*T*-170', 'dashed', 'documented', 'Equitable', 'recalls', 'asset', 'Scholastic', 'comes', 'promotions', 'Superconductors', 'training', 'Tokyu', 'sponsor', 'slaying', 'versus', 'heebie-jeebies', 'performers', 'facing', 'sweaters', 'others', 'reins', '1738.1', 'Pennsylvania', 'shovels', 'genuine', 'employees', 'Artist', '0.84', 'Frankfurt', 'families', 'tissue-transplant', 'earnings', '38', 'former', 'correspondence', 'spur', 'noting', '*T*-20', 'indeed', 'behaving', 'meals', 'Stag', 'automobile', '*T*-89', 'inferences', 'reallocate', 'Beginning', 'Women', 'assault', '144', 'Arighi', 'groups', '*T*-208', 'McCormick', 'Tony', 'knitted', 'espouse', 'banquet', '450', '*T*-62', 'product', 'get-out-the-vote', 'alleging', 'derisively', 'code', 'gripping', 'Cathryn', 'language', 'displays', 'buildings', 'markdown', '22\\\\/32', 'amounts', '310', 'Elco', 'garden-variety', 'Republican', 'Wong', 'designers', 'Ednie', 'crusade', 'listeners', 'such', 'field', 'traditional', 'edition', 'fronts', 'Morita', 'sub-segments', 'INS', 'Cheese', 'malignant', '130.6', 'enraged', 'write-off', '*-63', 'surpluses', 'artist', 'fizzled', 'victims', 'painting', '*T*-233', '*T*-106', 'standards', 'Sasaki', 'Plans', 'intense', 'fuels', 'calculate', 'summary', 'Unemployment', 'try', '*-93', 'pro-Iranian', 'adjustable', 'please', 'cranked', '8.75', 'hours', 'cancers', 'tendering', 'Fund', 'Olympia', 'jump', 'lady', 'debentures', 'low-tech', 'all', '3.375', 'beforehand', 'Chatsworth', '6.4', 'impetuous', 'Regarded', 'loan', '*T*-5', 'lucrative', 'superconductors', 'Drew', 'unwilling', 'upturn', 'tuck', 'stature', 'standard', 'finance', 'July', 'fragile', 'receipts', '*-44', 'blue', 'keyboards', 'Plains', 'RBC', 'mortgaged', 'JUDGE', 'important', 'technical', 'respond', 'twisting', 'Small', 'aerospace', 'questionable', 'occur', 'youth', 'bottom-line', 'reject', 'creditor', 'penchant', 'foundering', 'Orleans', 'copied', 'contracted', '41.60', 'AGREES', 'projector', 'herald', 'Upjohn', 'pyramids', 'staffs', 'quotations', 'Guild', 'inevitable', 'Hermitage', 'quick', 'receiving', 'Wilcox', 'German', 'designed', 'remove', 'perform', '446.62', 'surveyed', 'Sidak', 'picket', 'steel', 'striking', 'Typical', 'Souper', '3.80', 'forest-product', 'Alexander', 'Anthony', 'Rabia', 'SDI', 'Frances', 'marketing', '*-122', 'Polytechnic', '*T*-91', 'dessert', 'skyward', 'discontinued', 'machine', 'declaring', 'drawing', 'Time', 'pence', 'cocoa', 'bullets', 'buys', '1983', 'goods', 'uncharted', 'unstinting', 'Braidwood', '2.19', 'Saudi', 'syndrome', 'Kangyo', 'defendant', 'erudite', 'approved', 'Mostly', 'Del.', 'double-digit', 'hand', 'numerous', 'Senate', 'colleges', 'ultimatum', 'befell', 'intimidate', 'Beatles', 'credit-rating', 'continuing', 'Chrysler', 'yourself', 'estimate', 'retaliation', '*-20', 'CLEARS', '28.53', 'Seed', 'compliance', 'administration', 'IBC', 'manipulators', 'presumes', 'particular', 'peculiar', '42.1', '113.2', '900', 'Federation', 'home-market', 'cautioned', 'consent', '*T*-27', 'illustrates', 'Barrels', 'astonishment', 'Teddy', 'dynamics', 'Woodward', 'passion', 'Bund', 'lives', 'operating', 'slowdowns', 'highest', 'solicitous', 'warned', 'evolution', 'Glass', '2163.2', 'accommodate', 'suffered', 'Correll', 'planted', 'open-end', 'enacted', 'companion', 'Association', 'war-damaged', '50.45', '77.70', 'two', 'post-hearing', 'Dingell', 'Keidanren', 'action', 'fortunes', 'flies', 'Development', 'University', 'bottlenecks', 'weeklies', 'lessen', 'ovation', 'par', 'apples', 'year-ago', 'Trust', 'picking', 'N.', '*T*-128', 'illegality', 'differences', 'female', 'extremely', 'N.M.', 'limits', 'reserved', '64-year-old', 'BIRDS', 'understood', 'Then', 'lay', '3057', 'projects', 'minister', 'luck', 'stored', 'sew', 'exhibited', 'price-support', 'written', 'minimum-wage', 'paying', 'art', 'effects', 'stake', 'methods', 'stayed', 'two-thirds', 'says', 'shipping', 'ignored', 'deaths', 'publications', 'thinks', 'further', 'yes', 'Univest', 'differently', 'Order', 'earn', 'head', 'crisis', 'printing-press', '*T*-74', 'chrysotile', 'automatic', 'waters', 'trigger', 'trust', 'specialty', '331,000', 'terrorists', 'complaint', 'rhetoric', '405', 'Eakle', 'insistence', 'college-bowl', '1970', 'housing-assistance', 'Einhorn', 'rhythm', 'future', 'lesions', 'high-level', 'showed', 'pirates', 'Farren', 'jet', 'Kirkpatrick', 'panel', '*T*-257', 'globe', 'find', 'third-quarter', 'other', 'Institutes', 'Knopf', '8300', 'non-farm', 'latest', 'friend', 'Worksheets', 'waiting', 'disaffiliation', '120-a-share', '41', 'offend', 'Patients', 'permissible', 'reprove', 'contains', 'certified', 'tone', 'strings', 'long', 'Olsen', 'Pasadena', 'panic', 'peculiarities', 'utility', 'Estates', 'clearly', 'pine', 'midyear', '*-69', 'Monopolies', 'Watanabe', 'assertions', 'editorial', 'natural-gas', 'Davis', 'accidentally', 'Hatch', 'hook', 'Hawaiian', '*T*-129', 'worsening', 'radically', 'statute', 'ranks', 'Later', '30-minute', 'elimination', 'kind', 'speculate', 'declare', 'Rey\\\\/Fawcett', 'networks', 'strategies', 'Shapiro', 'matters', 'killed', 'greater', 'odd', '1917', 'trailed', '100,980', '*T*-90', 'safe-deposit', 'ahead', 'suspended', 'Shangkun', 'photos', 'failed', 'cancer', 'reserve', 'attractions', 'unwind', 'copy', 'director', 'infringed', 'robbed', 'wires', 'cast-iron', '512', 'unneeded', 'Papua-New', 'staff', 'grapple', 'crashing', 'chunks', 'round-trip', 'functions', 'titans', 'abandoned', 'Adam', 'resistant', 'Europe', 'previous', 'lack', 'Articles', '*-8', 'touch', 'encounter', '490', 'falsify', 'Last', 'temporary', 'belt', 'Jr.', 'Sternberg', 'crop', 'maker', 'unaffiliated', 'Nippon', 'empowers', 'complicate', 'According', 'simply', 'Seagate', '55.1', 'position', 'Wilder', 'basis', 'boomers', 'executive-office', 'impaired', 'Freddie', '40', 'BANKERS', '200,000', 'in-store', 'voting', 'applications', '1994', 'thin-lipped', 'Sullivan', '*T*-134', 'minimal', 'year', 'lyrics', '23.4', '3,250,000', 'philosophy', 'billion', 'Both', 'Hours', 'unavailability', 'program-trading', 'scientists', 'Herald-American', '26,956', '*T*-68', 'Ltd', '14.6', 'hard', '*T*-4', 'changing', 'totaled', 'state-owned', 'early', 'mechanism', 'swapped', 'Monday', 'competing', 'bias', 'plugged', 'Man', 'Scotia', 'expected', 'regulated', 'deducting', '10', 'Scotland', 'Advancing', 'Zenith', 'Center', 'Ind.', 'characterizing', 'Tokio', '*-16', 'cues', 'common-law', 'Pan', 'complete', 'Newhouse', 'Louis', 'practice', 'Civilization', 'pinning', 'great', 'Roukema', '*-53', '195', 'ideas', 'gaining', '5', '84-year-old', 'unfair-trade', 'Tube', 'Filling', 'produced', '98.3', 'Entertainment', 'Lyle', 'stabbed', 'gradually', 'offerings', 'guns', 'Chicago-style', 'Columbus', 'agreement', 'stereotyped', 'preapproved', 'dumbfounded', 'credit', '*-120', 'hurdles', '*T*-94', 'teaches', 'purchase', 'controversy', 'qualify', 'purrs', 'arbitragers', 'nominee', 'negatives', 'property', 'attractive', 'some', '116.7', 'Rhone', 'arrest', 'bottom', '*T*-230', 'hegemony', 'Roederer', 'bowed', 'arbitrage', 'statistics', 'Anti-Deficiency', 'persuasive', 'talks', 'undercutting', 'Heating', 'stock-manipulation', 'remained', 'intentioned', 'well-known', 'turned', 'impending', 'Malcolm', 'dozen', 'pharmaceuticals', 'office', 'consumer', 'nearly-30', 'violated', 'most-likely-successor', 'marching', 'Huntington', '*T*-228', 'receptive', 'Red', 'leash', 'papers', 'Journal', 'depleted', 'ushering', '2.35', 'Cross', 'Pharaoh', 'plot', 'inkling', 'enjoying', 'prominent', 'shortly', 'guarantee', 'fires', 'worsen', 'controlled', 'fabricator', 'Back', 'Simon', 'Stern', 'milestone', 'vital', 'polarized', 'fabled', 'North', 'transportation', 'stream', 'believes', 'assigned', 'Wakayama', 'fee', '*T*-95', 'locked', 'forecast', 'Though', 'gather', 'blamed', 'wait', 'Lentjes', 'Advocates', 'choose', 'reduction', 'kindergarten', 'Dale', '778', 'Warner', 'Earnings', 'crippled', 'weakness', '203', 'implemented', 'quickly', 'moves', 'disagreeable', 'contacted', 'assumed', 'concentration', 'everything', '70.2', 'segments', '4.1', 'Far', 'Democracy', '1', 'heavy-duty', 'searching', 'Ilminster', '1.92', 'device', 'walkout', 'Preferences', '90-cent-an-hour', 'version', 'warrants', 'Skilled', 'blue-collar', 'targeting', 'lobster', 'taxpayers', 'advise', 'Where', '30.6', 'periodontal', 'those', 'ancient', 'coke', 'Fire', '14.75', 'desirable', 'surprising', 'overcapacity', '5.2180', 'windfall', 'laser', 'Luce', 'oversee', 'prisoners', 'responded', 'combines', 'veal', 'what', 'Destinations', 'Information', 'Centerbank', 'over', 'trafficking', 'Georgetown', 'Mitsui', 'Millis', '27-year', 'Dover', 'Wick', 'shelter', 'toilet', 'selected', 'queers', 'reality', 'securities-based', 'pre-existing', 'Paper', 'evidence', 'bills', 'firings', 'sweeping', 'copper-rich', 'DDB', 'Shearson', 'flagrant', 'Filter', '2,500', 'tooth', '7.90', 'direct', '*-92', 'nonexecutive', 'Stock', 'murder', 'FUNDS', '45.75', 'elementary', '445', '28.5', 'billion-dollar', 'weighed', 'experienced', 'sewer', 'relegated', 'Research', '50.38', 'nameplate', 'bunches', 'Riyadh', 'Paribas', 'institutional', '119', 'Los', '400', 'museum', 'Cab', 'cracks', 'identity-management', 'Part', 'Lorenzo', 'Charities', '3,040,000', 'lifting', 'guarding', 'Ranger', 'baskets', 'Phoenix', 'reviewed', 'threatens', 'bickering', 'vowed', '1.125', 'Guigal', '*-86', 'bothered', 'Melamed', 'Council', 'valuation', 'Heidelberg', 'warehousing', '2.07', 'Negotiable', 'academics', 'piracy', 'Natural', 'basket', 'McGuigan', 'polyproplene', 'me', '*-19', 'OVER', 'Investment', '*T*-249', 'sell', 'Bridgestone\\\\/Firestone', 'clothing', 'brightest', 'ca', 'Hahn', 'proteins', 'Judie', 'Judith', 'assess', 'Trotter', 'captivating', 'dominating', 'when', 'persons', 'view', '3436.58', 'Calif', '420', 'reviewing', 'saved', 'enlarged', 'notified', 'picture', 'Air', 'himself', 'suspects', 'certificates', 'parallels', '18,444', '*T*-34', 'cartilage', 'Radio', 'engineer', 'Marchand', 'homeless', 'lover', 'surreptitiously', 'lipsticks', 'viewpoint', 'Educational', 'seduce', 'Shores', 'bit', 'him', 'Nev.', 'smiles', 'Office', 'relative', 'rebellion', 'stark', 'Mehta', 'UPHELD', 'commitments', 'purposes', 'Spoon', 'scarce', 'prescription', 'needing', 'options', 'retaining', 'Union', 'swap', 'properties', 'independence', 'Pratt', 'damage', 'hangs', 'ripen', 'trial', 'retraced', '*T*-255', '1988', 'battery', 'Vitulli', 'occupant', 'spooked', 'Tiphook', 'Hamilton', 'Labouisse', 'More', 'acres', 'sellers', 'GM', 'Mr.', 'Haney', 'establishing', 'eight', 'Attorneys', 'Moines', 'careers', 'Cancer', 'peak', 'sell-off', 'sacrificing', 'investigating', 'Hotel', '500-Stock', 'decorator', 'Few', 'Employers', 'Northampton', 'retirement', '326', 'properly', 'shipboard', 'crash', 'oriented', 'Rev.', 'headlined', 'transporting', 'Improvement', 'shudders', 'National', 'broader', 'Myron', 'It', 'petulant', 'day-to-day', 'tiny', '4.898', 'packages', 'Warsaw', 'ceiling', 'public', 'short-wave', 'wins', 'FT', '*-98', 'apart', 'immediately', 'modify', 'extend', 'Helsinki', 'Make', 'expansion', 'accept', 'problems', 'incapable', 'headed', 'type', 'rebels', 'outpaced', 'cue', 'Abbey', 'attached', 'Rotie', 'backgrounds', 'units', 'telegraph', 'cross-border', 'Swiss', 'Spreads', '*T*-69', 'advised', 'light-truck', 'sentiment', '*EXP*-2', 'College', 'Parents', 'assaults', 'Persky', 'newspaper-printing', 'Bankruptcy', 'Young', 'Vanderbilt', '750,000', 'widgets', 'frozen', 'national', 'stock-price', 'market-oriented', 'AND', 'material', 'hardware', 'desires', 'trail', '*ICH*-4', 'Miami', 'predicted', 'begins', 'graphs', 'propelling', 'Joni', 'harder', '*-114', 'shareholder', 'must', 'Washington', 'tows', 'accounted', 'These', 'operations', 'moved', '*-47', 'winter', 'scripts', 'arrows', 'felt', 'ever', 'administrations', 'minority', 'vendors', 'common', 'prosecute', 'prefecture', 'Cannell', 'Taipei', 'deficiencies', 'demands', 'concept', 'dirtiest', 'initiated', 'Conduct', 'Corp.', 'advice', 'mergers', 'untrue', 'premier', 'During', '*T*-215', 'Against', 'switched', 'collective-bargaining', '7.8', 'step', 'Stanford', 'squeezed', 'bags', 'Airlines', 'tobacco', 'tariff', 'Treble', 'knell', 'Yields', '263.07', 'less-than-brilliant', 'Kligman', 'Esso', 'p.m', 'increase', 'request', 'Bhutto', 'decline', 'Providence', 'Such', 'prizes', 'proportion', 'rectified', 'substitute', 'newsstand', 'assured', 'Elders', 'Delwin', 'Palestine', '32', '353', 'outcry', 'Romanee-Conti', 'reaches', 'heavy', 'Ray', 'explained', 'personnel', 'underscore', 'Roosevelt', 'kidnapper', '*ICH*-2', 'employee', 'Mulford', 'Owner', 'region', 'Down', 'Rowe', 'full-fledged', 'Club', 'ensembles', 'Adams', 'awfully', 'port', 'Brigham', 'proviso', 'headline', 'encouraging', 'used', 'Steel', 'Political', 'meanwhile', 'disarray', 'Bretz', 'Sabhavasu', 'RATES', 'bellringers', 'BRAMALEA', 'troops', 'good-natured', 'speculative', 'bridge', 'feelings', 'Rather', 'authorizing', 'sort', 'narrowed', '*-94', '7.55', 'special', 'mixed', 'Academically', 'magnets', 'woman', 'during', 'C.J.B.', 'Carl', 'subjects', 'hardest-hit', 'two-letter', 'inaccurately', 'sacked', 'Logic', 'slipped', 'bulls', 'DOT', 'zip', 'resumes', 'Johnson', '*T*-193', 'factory', 'technically', '112.9', 'cars', 'tells', 'public-relations', 'internal', 'vagrant', 'change', 'knowns', 'seem', 'smattering', '9', 'wrongdoing', 'stare', 'Hiroshima', 'Nomenklatura', 'Volume', 'Brownstein', 'advance', 'III', 'concrete', '1965', 'voices', 'dealings', '*T*-113', 'fainting', 'key', 'coverage', '*RNR*-4', 'serve', 'Risks', 'wound', 'pounds', '300-113', 'C.', 'Boca', 'index', 'expelled', 'quarterly', 'exist', 'Leigh', 'Stockbrokers', 'ultimate', 'Midland', 'Sino-U.S.', 'Marchese', 'frenzy', 'Ratners', 'harshly', 'advocate', 'Cru', 'yields', 'cult', 'savvier', 'immense', 'Gary', 'courtroom', 'Brooks', 'entrusted', 'spenders', 'more', 'met', '*-107', '*-36', 'dust-up', 'UAL', 'statement', 'passenger-car', 'Wells', 'sticking', '*T*-147', 'Act', 'Russo', 'bakery', 'implementation', 'slippage', '811.9', 'Price', 'Glenn', 'necessary', 'true', 'Force', 'contacts', '1928-33', 'evolved', 'alerts', 'tow', 'goes', 'businesses', '93', 'sparkplugs', 'Surrey', 'taxable', 'Kuvin', 'Periods', '397', '*T*-180', '0.3', 'Williams', 'leaving', 'tad', 'gas', 'Colo.', 'GHS', 'stadiums', 'anger', 'thieves', 'Eric', 'Craftsmen', 'praised', 'Composite', 'unfair', '*T*-152', 'ABORTION', 'Neanderthals', 'river', 'taxes', 'bells', 'francs', 'OF', 'NL', 'out', '*T*-14', 'representing', 'supercomputer', 'Related', 'capability', 'Dorothy', 'Marc', 'diversify', 'firmly', 'Many', 'Earle', 'Hayes', 'celebrate', 'citizen', 'speculated', 'depend', 'over-the-counter', 'TXO', 'battered', 'vary', 'Messrs.', 'correct', 'result', 'Soviet', '3.75', 'prolonged', 'longer', '19.50', 'drugs', 'tripled', 'Delmont', 'Donoghue', '*-162', 'rose', 'licensing', 'protection', '16.9', 'being', 'left', 'conviction', 'borough', '492', 'communications', '6.5', 'Navy', 'doors', 'PRODUCTS', '*T*-135', 'eased', 'march', 'hotel', 'profits', 'figure', 'crack', 'reinstating', 'Stores', 'Macheski', 'THAT', 'rise', 'Bureau', '5.435', 'high-stakes', 'Markey', 'mania', 'Feeding', 'Diceon', 'building-products', 'childish', 'retailers', 'noticed', '214', 'retardation', 'Mickey', 'compromise', 'deadline', '*T*-22', 'any', 'Marshall', 'opportunity', 'Video', 'supplier', 'GROWTH', 'warning', 'adjustments', 'dismayed', 'rally', 'cancer-causing', 'when-issued', 'Gerhard', 'Norman', 'counterrevolutionary', 'pie', 'McLeod', 'conditional', 'Until', 'Chong-sik', 'consists', 'leaders', 'fastest', '1.46', 'classes', '7', 'resolved', 'potentially', 'bargains', 'earlier', 'enticed', 'quotas', 'reclaimed', 'eliminates', 'superior', 'protections', 'Bramalea', 'commercials', 'cleaned', 'call', 'greenmailer', 'slightly', 'corkscrews', 'abandon', 'Toledo', 'Plaza', 'Joanne', 'nutty', '380', 'narrowly', 'Reed', '5.5', '60,000', 'Who', '858,000', 'Apple', 'peace', 'persuade', 'thunder', 'Avenue', 'monied', 'raising', 'names', 'overdone', 'hurting', 'subscriber', 'announcement', 'end', 'publicized', 'fumes', '*NOT*', 'theory', 'judiciary', 'phase-out', 'clearing', 'since', 'arbitrager', 'thousands', 'just', 'Cellars', 'medium-sized', 'benchmark', 'deterring', 'Ohio', 'stresses', 'unfathomable', 'capital-markets', 'Bellows', 'Jefferson', 'exposures', 'African', 'president', 'extensive', '*T*-229', 'favor', 'family-planning', \"'40s\", 'Hammerschmidt', 'exits', 'reorganization', 'Vargas', 'NCNB', 'Total', 'directly', '*T*-29', 'last', 'pension-fund', 'game', 'dramatic', 'although', 'Springs', 'asbestosis', 'recyclable', 'Not', 'apology', 'Polish', '692', 'excellence', 'generations', 'larger', 'Lancaster', '6.44', 'dry', 'string', 'acts', 'garage', 'pools', 'rigors', 'closer', 'pushes', 'anti-miscarriage', 'conventional', 'quiet', 'sagged', 'perpetual', 'lynch-mob', 'And', 'robotic', 'ON', 'S.p.A.', 'found', '@', 'COMPUTERS', 'sheet', 'Equus', 'limbo', 'Underwood', 'wears', 'supplies', 'Speculation', 'novel', 'vehicles', '2645.90', 'offender', 'events', 'Coconut', 'spent', 'tension', 'identities', 'Bridges', 'debate', 'Bodner', 'surviving', 'Groups', 'Science', 'Drug', 'Democrats', 'Handelsbanken', 'P.', 'blood-cell', 'plays', 'Carlos', 'whirling', '396,000', 'lowered', 'alternatives', 'one-house', 'double', 'Productions', 'division', 'publishes', 'tall', 'Andean', 'bellwether', 'bread-and-butter', 'Founded', 'tempts', 'Betting', 'passing', 'Goldsmith', 'lower-priced', 'sufficiently', 'betterment', 'Stena', 'Savings', 'Guber', 'recover', 'ballpark', 'raises', 'introduction', '*-24', 'scholar', 'bled', 'wish', '34', 'Hazell', 'weakening', 'Declining', 'lasting', 'determine', 'soared', 'lawsuits', '1948', 'crookery', '10,000', 'insert', 'credits', '3.35', 'Intermec', 'proposing', 'Civil', 'regulations', 'Eliminate', 'permitted', 'stocks', 'referral', 'regard', '600,000', 'Economy', '*-9', 'spotted', 'ACCOUNT', 'dailies', 'competition', 'worker', 'engineered', 'Pretty', 'sectors', 'clean', 'McMillin', 'diversionary', 'competes', 'this', 'hardly', '95,142', 'Macmillan', 'low-ability', 'Lawmakers', 'Fellowship', 'India', 'enforcement', 'prices', 'Sachs', 'Only', '8.9', 'Television', 'emergencies', 'magnified', 'slab', 'Charlie', 'Sonnett', 'associated', 'officials', 'educated', 'slow', 'Wa', 'reimbursed', 'Buyers', 'lungs', 'non-biodegradable', 'underperforming', 'passages', 'slower', 'inserted', 'corn-buying', 'European', 'amid', 'excision', 'analysis', 'Purchasing', 'FALL', 'Capital', 'St.', \"n't\", 'gallium', 'halls', 'Virgin', 'produces', 'Builders', 'disparate', 'magicians', 'nearly', 'Communist', 'traders', '960', 'clouding', 'decision', 'sensational', 'Lakes', 'Chapman', 'excessive', 'charts', 'Salvador', 'Clark', 'Utilities', 'Marietta', 'employment', 'Bond', '*T*-212', 'tidbits', 'add', 'caused', '*-81', 'dealing', 'spirits', 'duty-free', 'ringer', 'Child', 'bonds', 'fold', 'Traverse', 'town', 'contain', 'Media', 'deals', 'old-style', '456.64', 'Without', 'bright', 'bout', 'Olympic', 'feed', 'unloaded', 'Leighton', 'leadership', 'MacLellan', 'succeeds', 'Brooklyn', '3.5', 'precedent', 'inheritor', 'arched', 'combinations', 'Even', 'Smith', 'slide', 'Pepperidge', 'upbeat', '2691.19', '334.5', 'Commodities', '*', 'Bates', 'But', 'tenure', 'seller', 'sport-utility', 'auction', 'bridges', 'investments', 'possible', 'Chafic', 'traitor', 'stacked', 'Malizia', 'describes', 'flightiness', 'tort', '1206.26', 'cause', 'superintendent', 'jurisdiction', 'Prices', 'shareholders', 'therapies', 'singled', 'labels', 'restricts', 'includes', 'Ringing', 'aisles', 'measure', 'use', 'cluster', 'personal', 'dirty', 'quitting', 'watchdogs', 'breakers', 'rapport', '84.29', 'leave', 'eight-person', 'talked', 'Barfield', 'approached', '24.95', '*-74', 'benchmarks', 'seized', 'incredible', 'official', 'rarefied', 'completed', 'propagandize', 'Symphony', 'Dell', 'values', 'overcrowding', 'fibers', 'anxieties', 'pressured', 'quantitative', 'two-week', 'recommending', 'Village', 'EEOC', 'Friday', 'machines', 'poured', 'marketed', 'Estimated', 'government-owned', 'boutique', 'mood', 'Spillane', 'pep', 'calculator', 'incurred', 'Given', 'Pramual', '1.5805', 'either', 'newsroom', 'Further', 'pillow', 'Broadcasting', 'docile', 'Tokyo', 'plainclothes', 'angered', 'founder', '1\\\\/2', 'gloss', 'Xerox', '1982', 'automated', 'report', '*-101', 'harvest', 'own', 'foreign-led', 'frankly', 'Latin', 'improve', 'Strait', 'all-cash', 'careful', 'nomination', 'Judging', 'music', 'involvement', 'low-priced', 'Haden', 'named', 'eliminating', 'producer', 'Kuhns', 'transforming', 'husband', 'Eaton', 'hitter', 'X', 'civilization', 'containers', 'lobbyists', 'Tarwhine', 'combat', 'judicial', 'Express', 'Week', '1960s', 'completely', 'needs', 'per', 'topics', '13.73', 'observations', 'chilled', 'recall', 'High-grade', 'procedures', 'crunch', 'uncertainties', 'aspect', 'Genel', 'La', 'thanks', 'Aptitude', '221.4', 'piece', 'generated', 'Cultural', 'entering', 'Account', 'ITC', 'computing', 'quote', '*T*-28', 'aimed', 'Taylor', 'mortgage-backed', 'comfortably', 'Westport', 'typically', 'attendance', 'Certainly', 'Over', 'Petersburg', 'Midwestern', 'rider', 'Gunmen', '*T*-84', 'Grain', 'export', 'gone', 'anyone', 'pieces', 'easy-to-read', 'was', 'cents-a-unit', 'quota', 'laboriously', 'suggests', 'Serial', 'Candlestick', 'it', 'appeal', 'predictable', \"'82\", 'land-idling', 'Solution', 'breach', 'full-length', 'increases', 'collection', 'unwashed', 'appetite', '37-year-old', 'Northy', 'Hearst', 'glass', 'protest', 'university', 'defeat', 'Katzenstein', '430', 'U.S.-Japan', '*-66', 'Peng', 'UNION', 'willingness', 'partially', 'Veselich', 'Tyre', '54-year-old', 'conglomerate', 'small-time', 'delayed', '753', 'Indianapolis', 'turnover', 'Indeed', '*T*-109', 'testify', 'boosts', 'workbooks', 'charge', 'computer', 'four', 'ended', 'viewed', 'beauty', 'number', '2,700', 'post', 'jockeys', 'survival', 'Kelli', '89', 'collective', 'boost', 'rumors', 'hole', 'season', 'relied', 'review', 'foul', 'withdraw', 'Bew', 'cheapest', 'laughing', '*-111', 'food-industry', 'Disputada', 'Seniors', 'Enterprise', 'Long', 'chemicals', 'lagging', '8.65', 'considers', 'loathsome', 'moderated', 'Always', 'waterworks', 'bulldozers', 'Illuminating', 'Lewis', 'Trockenbeerenauslesen', 'Altair', 'skills', 'eclipse', 'Ian', 'expecting', 'Salty', 'lapses', 'variety', 'Brent', 'causes', 'referendum', 'American', 'provision', 'demonstrating', 'stretching', '?', 'Garrison', 'producing', 'issue', 'settle', 'confirm', '16.68', 'Sept.', 'underlying', 'snow', 'remarked', '0.2', 'newsworthy', '*T*-221', 'Lowe', 'Dom', 'cuts', 'cutthroat', 'required', '*T*-19', 'Clara', '87.5', 'Kappa', 'select', 'driver', 'Fe', 'dissolves', 'Atlantic', 'purpose', 'Code', 'Philadelphia', 'Used', 'N.Y', '*-116', 'door', 'positive', '2-3', '*T*-146', 'sleep', 'greatly', 'Interleukin-3', 'PRECIOUS', 'stemming', 'perceived', 'volatile', 'J.', 'awaits', '666', 'models', 'favored', 'floral', 'peaceful', 'focused', 'examine', 'Spiro', 'polled', 'Antitrust', 'releases', 'Lurie', 'arrive', 'her', 'grand', 'Fans', 'solemn', 'defined', 'tentatively', 'reacted', 'Rate', 'needle-like', 'reflect', 'Memphis', 'build', 'nine-month', 'fourth', 'renewal', 'anticipated', 'school-research', 'expired', 'cycles', 'Tourism', 'bygone', '300,000', 'styles', 'extension', 'rancor', 'pro-choice', 'went', 'Lefcourt', 'Elliott', 'mid-1990s', '1,050,000', 'afternoon', 'unbearably', 'Champion', 'claim', 'sight', 'preparation', 'everyone', 'change-ringing', 'BRIEFS', '*-125', 'show', 'capture', 'notwithstanding', 'fixes', 'compares', '94.8', 'restored', '%', 'prototype', 'East', 'PC', '1995', 'attorney-client', '24', '0.0085', 'rebound', '220', 'margin', 'Its', 'fears', '130.7', 'scans', '1999', 'sterling', 'Monticello', 'negotiated', '1.76', 'RATE', '0.1', 'area', 'TROUBLES', 'Dreyfus', 'unveil', 'O.', 'Dobson', 'blessing', 'setting', '467', 'mount', 'labor-intensive', 'upon', 'Stadium', 'earliest', 'sticker', 'Electric', 'conceivable', 'Steelworkers', 'traveling', 'sports', 'prints', 'feels', 'men', 'mechanical', 'Fabian', 'limited-partnership', 'inherited', 'corporation', 'toast', 'somewhat', 'Recently', 'happen', 'doing', '245', 'diplomacy', '8.575', 'older', 'truth', 'agriculture', '55-a-share', 'spark', 'kits', 'Futures', 'midnight', '730', 'Clays', 'FBI', 'Hale', 'viewership', 'Kane', 'specified', 'reflecting', '2160.1', 'who', 'benevolent', 'Vicar', 'nine-member', 'Dec.', 'Rockwell', 'Daily', '33', 'talk-show', 'criticism', 'conceding', 'information', 'strip', 'Materials', 'auctioned', 'inventiveness', 'Investor', 'spokeswoman', 'Moon', 'never', 'released', 'high-flying', 'climb', 'day-care', 'people', 'SOYBEANS', 'World', 'payable', 'Shrum', 'accident', 'giants', 'shoulder', 'pool', '*T*-13', '-RCB-', 'shoring', 'imposing', '3.42', 'place', 'chatter', 'Western', 'Salon', 'era', 'Corrigan', 'software', 'directing', 'examples', 'WPP', 'Florida', 'Nigel', 'entertain', 'Sherwood', 'economist', 'research', 'table', '11,762', 'size', 'borrowed', 'legal', 'marketplace', 'defying', 'Fed', 'Spielvogel', 'incentive-bonus', '190', 'difficulties', 'fresh', '120', 'loom', \"'30s\", 'wanting', 'plea', 'sweatshirts', 'zinc', 'Felten', 'augment', 'incident', 'investment', 'Avon', 'overleveraged', 'expect', 'seminar', 'rewards', 'Aerospace', 'twist', '170,262', 'exception', 'gut-wrenching', 'demographic', 'programming', 'skidded', 'Negus', '10-day', 'evident', '100,000', 'Barrett', 'element', 'guerrillas', '*T*-67', 'close', 'Annualized', 'belts', 'Gerald', 'Rico', 'overpriced', 'tally', 'expanding', '9.75', 'owners', 'Is', 'duo', 'implicit', 'comparison', 'decide', 'shipped', 'Amendment', 'mend', 'harsh', 'Kuala', 'star', 'enormously', 'A.', 'convince', 'stepped', 'savers\\\\/investors', 'joy', 'logic', 'Optical', 'Evans', '*-133', 'Carter', 'missed', 'capacity', 'pistols', 'haul', 'auditor', 'bat', '2019', 'fasteners', 'Keith', 'kill', 'educators', 'irony', 'Lufkin', 'discontinue', 'forces', 'invention', 'Republicans', 'Moore', 'structurally', 'Agnew', 'delivery', 'Roman', 'bargain', 'cattle', 'accessories', 'court-ordered', 'broken', 'Key', 'awarded', 'manufacturers', 'Gottlieb', 'transaction', 'non-callable', 'see', 'processing', '15.5', '42', '14.54', 'Simeon', 'growth', 'global', 'impatient', 'codified', 'invades', 'shares', 'requiring', 'Communication', 'local', 'swapping', 'fees', 'solid', 'Crew', 'less', 'goblins', 'lawmakers', 'teaching', 'imposes', 'housing', '24,000', 'moderately', 'plate', 'expenses', 'rifles', 'John', 'optimism', 'array', 'Yet', 'decade-long', 'Cartons', 'Americana', 'suitors', 'hazards', 'Southern', 'manpower', 'Prebon', 'import', 'tool', '*T*-3', 'sharply', 'incorporated', '30-share', '116.4', 'co-developers', 'cost-sharing', 'yen', '78', 'Protection', 'core', 'charging', '*-1', 'obviously', 'On', 'houses', 'Dynamics', 'obedient', 'native', 'crushed', 'utterly', 'Beta', 'Fishman', '609', '3.253', 'acknowledges', 'breezy', 'Compromises', 'sorts', '*T*-112', 'alone', 'comparable', 'teacher-cadet', 'unrecognizable', 'rest', 'Schaefer', 'Miss.', 'Initiative', '722', 'college', 'tubes', 'faculty', 'Old', 'there', '`', 'Sprint', 'upward', 'resign', 'centerpiece', 'N.J', 'Homeless', 'Fracturing', 'defeated', 'contributed', 'lender', 'millionaires', 'Cellar', 'Wash.', 'delivering', 'motion', 'Writers', 'shrinks', 'reductions', 'helps', '25.50', 'Italy', 'replete', 'Holt', 'airline-related', '1998', 'episodes', 'grains', 'force', 'Laser', 'fuming', 'Metal', 'Old-House', 'shame', 'loveliest', 'contributing', 'defeats', 'Ariail', 'holding', 'service', 'Debt', '*T*-176', '50-state', 'breaking', 'surgeon', 'shrug', 'define', 'asking', '*T*-195', 'unattractive', 'Goldinger', 'satisfactory', 'color', 'TIRED', '36-store', 'back', 'developing', 'participant', 'automotive', 'Mazda', '69', '132.9', 'Odd-year', 'unheard', 'brief', '*T*-88', 'briefings', 'exchange', 'Connections', 'EC', 'reps', 'controlling', 'scuttle', 'blue-chip', 'brutal', 'speech', 'Holland', 'jail', 'Just', 'pressed', 'Albuquerque', 'Pennview', 'balloon', 'simple', 'He', 'Auctions', 'Yorker', '7.79', 'ASLACTON', 'happy', 'Brooke', 'plans', 'Rice', 'looked', 'Squier', 'four-color', 'prohibiting', 'Currently', 'secured', 'demand', 'subscribe', 'subdued', 'sites', 'reportedly', 'expression', 'Norfolk', 'Sheffield', 'discovered', 'advantages', 'silver', '230-215', 'pulls', '-', 'Nationwide', 'industry', '*-103', 'imagine', 'Asian', 'yttrium-containing', 'Alurralde', 'Troubled', 'created', 'benefited', 'Caldor', 'necklace', '*-112', 'reopen', 'customer', 'victory', 'Californian', 'mistakes', 'moments', 'gives', 'target', 'nearby', 'Fischer', 'Matthews', 'insured', 'anti-drug', 'weekends', 'reorganized', 'revenues', 'depression', 'scarcely', 'abortionist', 'clerks', 'morale', '225', 'high-yield', 'sees', 'Berman', 'Deregulation', '43', '12-year', 'rigid', 'sauce', '*-80', 'Si', 'imaginative', 'notice', '75-year-old', '*T*-42', 'Arnold', 'staying', 'anybody', 'McFarlan', 'chase', 'accepting', 'reluctance', 'Rolling', 'instruction', 'physical', 'letting', 'resembles', 'multiples', 'dreamt', 'Namibia', 'OSHA', '*EXP*-1', 'Island', 'led', 'survey', 'fashioned', 'systematic', 'Houston', 'innuendoes', 'cozy', 'applaud', 'tags', 'repeals', '85', 'telephones', 'happened', 'sub-markets', 'century', 'weigh', 'COPPER', 'proprietor', 'AMR', 'bass', 'Cabbage', 'Collector', 'Somerset', 'reap', 'fields', 'slides', '8.15', 'negotiating', 'surprisingly', 'hampered', '28.4', 'People', 'afterwards', 'Ratings', 'automotive-parts', 'Pty.', 'discounts', '70-a-share', 'L.', '2.75', 'worries', 'establish', 'LONDON', 'via', 'Labor', 'beat', 'domestic', 'mailing', 'egregious', '644', 'penalties', 'subject', 'closed-end', 'superpremiums', 'Genetics', 'about', 'feeling', 'beautiful', 'rain', 'Nelson', 'Internal', 'bludgeon', 'acquired', 'Premier', 'soaring', 'covered', '26', 'attributes', '7\\\\/8', 'Aerojet', 'eyeing', 'restaurants', 'business', 'distributed', 'inner-city', 'Prof', 'subcommittee', 'Ad', 'course', 'Income', 'inspirational', 'hang', 'address', 'outlawed', 'Management', 'Another', 'repaired', 'publication', 'cruising', 'acquisition-minded', 'warming', 'patents', 'users', 'Compare', 'DNA', 'traded', 'Computer', 'incentives', 'Uncertainty', 'buyers', 'Frenzy', '*T*-145', 'purhasing', 'mine', '598', 'Dumpster', 'sheepskin', 'option', '*-35', 'manager', 'booked', 'electric-utility', 'programmer', 'reasons', 'Cara', 'unit', 'trimmed', 'serious', 'commenting', 'modernization', 'drop-off', 'flourish', 'Christian', 'boots', 'sign', 'high-quality', 'Crude', 'custom-chip', 'sogo-shosha', 'keeps', 'Stanley', 'intimately', 'so', '*T*-144', 'inventory', 'Mifflin', 'reassuring', 'Water', 'Barnum', 'salary', \"'50s\", 'programs', '8.50', 'politely', 'abortion', 'Harrison', 'means', 'nail', 'bundles', 'Japan', 'unusually', 'emigrate', 'enter', 'diminished', 'fights', 'resigned', 'Possible', 'Pretoria', 'Namibian', 'usurp', 'Takeshi', 'holiday', 'comments', 'Signet', 'Bradley', '14.28', 'oilman', 'thought', 'remorse', 'Inventor', '84.9', 'classroom', 'high-rise', 'Continued', 'plight', 'Cosmopolitan', 'mathematics', '*-11', 'predicts', '28', 'Local', '1,100', 'load', 'Denver', 'boosting', 'Credit', 'purchasers', 'high-technology', 'Montedison', 'distributable', 'Of', '*U*', 'tied', 'editor', 'Rubicam', '4.10', 'Chile', '1787', 'lackluster', '700', 'fanciful', '2.4', 'Clairton', 'issued', 'distributes', 'effectively', 'Have', 'machine-gun-toting', 'refund', 'younger', 'not', 'tour', 'Bowes', 'Prudential-Bache', 'curriculum', 'investor', 'studies', 'Russian', 'Ill', '*T*-156', 'Posted', 'fierce', 'ADRs', 'moving', 'cost-control', 'which', 'Arabian', 'confines', 'seemed', 'owed', 'election', '534', 'Barron', 'feared', 'Thai', 'PCs', '*T*-247', 'bald-faced', 'symbol', '8.70', 'Coche-Dury', 'D.', 'midrange', 'slope', 'psychology', 'Teikoku', 'Whelen', 'criminal', '3,600', 'Stork', 'Creek', 'Orange', 'arrival', 'F.W.', 'bidding', '*T*-151', 'multitude', 'mediocre', 'family', 'interests', 'Unable', '*-157', '6.79', '13.5', 'tallies', 'adjustment', 'pegged', '5.39', 'collapse', 'separate', 'history', '35564.43', 'Canadian', 'argues', 'unitary', 'Albert', 'pulling', 'Bermuda-based', 'incomplete', 'kidnapping', 'believe', '3648.82', 'sketch', 'execution', 'waste', 'Odyssey', 'each', 'enhances', 'continue', 'Put', '*T*-40', 'operator', 'loudest', 'dressed', 'Automobile', 'Bill', 'Derel', 'tasty', 'Telerate', 'senior', 'Jerry', 'Scowcroft', 'break', '879', 'late', 'chain', '*-126', 'Takuma', 'point', '*-22', 'advertise', 'gyrations', 'evenly', 'need', 'stigma', 'chosen', 'window', 'deliberately', '3.04', 'better', 'eight-month', 'young', 'dairy', 'Hollis', 'search-and-seizure', 'water-authority', 'monopolize', 'Marder', 'Herbert', 'Rey', 'Allergan', 'scattered', 'four-year-old', 'representatives', 'transcribe', 'recommendation', 'Family', 'Komatsu', 'Auditors', 'Edwin', 'restraints', 'feel', 'returns', 'removal', 'Saturday', 'many', 'begot', 'reaffirmed', '*T*-148', 'socialist', '244,000', 'mind', 'ugly', 'savings-and-loan', 'Parkinson', 'contribution', 'restricting', 'premium', 'protecting', 'frightened', 'mousseline', 'dominance', 'VOA', 'Citizens', 'institution', '*T*-85', 'hypocrisy', 'playing', 'fully', 'colony', 'Burgundies', 'speculators', '*T*-110', '5,000', 'Pakistan', 'Joe', 'Prosecutors', 'chauffeur', 'lowest', 'continually', 'give', 'Makato', 'vitriolic', 'Restaurant', 'multibillion-dollar', 'Already', 'drawn', '5.276', 'Employment', 'replies', 'considering', 'absurdity', 'disputed', 'techniques', 'survive', '*T*-78', 'foot', 'influence', 'equity-purchase', 'movie', 'Saitama', 'life-of-contract', 'Assistant', 'retain', 'unsuccessful', 'Everything', 'autumn', 'operators', '472', 'cohesive', 'Mary', 'Novello', '25-year-old', 'Drink', 'labor-management', 'moment', 'Michael', 'limping', 'rankings', 'Nicaraguan', 'Carolina', '35', 'Lawyers', 'Imports', 'Mutchin', 'overriding', 'longstanding', 'Venture', 'ingenuity', 'install', 'literature', 'Steve', '71', 'plant', 'argument', 'accounting', 'overseas', 'Edison', 'dislike', 'unsecured', 'TRIMMING', 'Hans', 'Mona', 'waived', 'financing', 'Lafite-Rothschild', '1986-87', 'charm', 'Relations', 'Dinkins', '300', 'speed', 'Shelby', 'regret', 'disregard', 'shortage', 'Red-blooded', 'sentencing', 'troop', 'drivers', 'Dunton', 'clues', 'Bolduc', 'subsidiaries', '*-15', 'Seoul', 'erode', 'impose', 'market-based', 'C-90', 'restore', 'full-year', '352.7', 'entrench', 'structure', 'Integra-A', 'Forget', 'leading', 'Netherlands', 'Murray', 'interbank', 'deal', 'seeks', 'unconsolidated', '19.95', '2000', 'Invariably', 'undergoing', 'homes', 'quoted', 'booming', 'attack', 'accumulated', 'strain', 'pose', 'equal', 'Five', 'endless', 'rapidly', 'consecutive', 'quipped', '3-4', 'CEOs', 'Consumer', 'Montgomery', 'succeed', 'disapprove', 'mother', 'passed', 'sold', 'callers', 'consumers', 'disclosed', '28.25', 'tilt', 'History', 'government-certified', 'ROGERS', 'maturing', 'Deryck', 'fast-growing', 'participated', 'firms', 'Holding', 'nondurable', 'Morrison', 'maturities', 'abroad', 'reader', 'test-coaching', 'cost', '--', '20', 'five', 'anti-dumping', 'Mac', 'drag-down', 'lore', 'plants', 'Trump', 'shaping', 'discretionary', 'Citibank', 'rang', '500,000', 'six-inch', 'West', '143.08', 'collections', 'Greece', 'flooded', 'grapes', '*T*-220', 'Soup', 'setback', 'amend', '11.6', 'days', 'tremendous', 'crossing', 'understand', 'Sandoz', 'Every', 'Barbados', '148.9', 'sweat', 'past', 'despise', 'Perspective', 'grown', 'whipsaw', 'Moslem', 'SCI', '111', 'compatible', 'check', 'single-handedly', 'frequently', '34.625', 'designer', 'Cristal', 'threat', 'diethylstilbestrol', 'investigation', 'River', 'Pet', 'delay', 'issues', 'Petrus', 'records', 'NIH', 'democracy', '93,000', 'amazingly', 'stick', 'holders', 'empowered', 'present', 'Knowing', 'Housing', 'occurred', 'tons', 'unproven', 'easy', 'marketers', 'Tom', 'sneaked', 'confidential', 'paper', 'ropes', 'yield', 'All', 'fastest-growing', 'free', 'burlap', 'noncompetitively', '2-8', 'appropriators', 'Seymour', 'prevalance', 'white', 'devised', 'charges', 'profitability', '19.94', 'massive', 'Vega', 'etc.', 'sue', 'transition', 'downturn', 'fancy', 'Meridian', 'help', 'Mortimer', '1967', 'Svenska', 'scheme', 'bars', 'implied', 'varied', 'bottle', 'Wellcome', 'steps', 'N.J.', 'TRS-80', 'tramp', 'generators', 'efforts', 'Taking', 'exclusively', 'likelihood', 'Philippine', 'Fuji', 'coal', 'Proponents', 'until', 'imported', 'stiffer', 'Leinonen', 'Egyptian', 'filled', '*T*-117', 'economy', 'cushion', 'El', 'fiber', 'powwow', 'Rubinfien', 'word-processing', '1,200', 'known', 'Their', 'markup', 'thumbs', 'granting', '238,000-circulation', 'Madison', 'Citadel', '236.79', 'pharmaceutical', '286', 'barriers', '*T*-198', 'stereo', 'top', 'arguing', 'at', 'packed', 'Rail', 'Klein', 'offices', 'Insight', 'Banking', '6\\\\/2', '767', 'February', 'appointed', 'cut', 'markkaa', 'Varying', 'high-balance', 'Safety', 'biannual', 'Foods', 'Killeen', 'ruled', 'Kentucky', 'clashed', 'parliament', 'agree', 'middle', 'house', 'breathe', '*T*-35', 'polyester', 'apologize', '630.9', 'NASD', 'rapists', 'electronics', 'officer', 'sweater', 'drought', '1973-75', 'suddenly', 'brakes', '28.36', 'Cutrer', 'focus', 'provided', 'sizable', 'prosecuting', 'world', 'oppose', 'Dunkin', '143.93', 'photographs', 'Overseas', 'coincidental', 'development', 'Caters', '*T*-137', 'shoot', 'week', 'Ross', '*T*-11', 'errors', 'alive', 'passbook', 'Lids', '0.4', '618.1', '*T*-143', 'Chilean', 'insisted', 'Gold', 'as', 'slid', 'propaganda', 'counts', 'structural', 'bought', 'stock-specialist', 'revive', 'believed', 'articles', 'Baking', 'Daiwa', '59', '*T*-194', 'editing', 'yielding', 'rate-sensitive', 'hidden', 'excesses', 'interesting', 'McFall', 'forthcoming', '21', 'repay', 'Silicon', 'akin', 'abide', 'ground', 'poorly', 'Stoll', 'casting', 'detective-story', 'noble', '*T*-93', 'Japanese', 'population', 'winning', 'Jim', 'prescribe', 'trip', 'compositions', 'understands', 'atmosphere', 'fraction', 'Walkman', 'evaluating', 'impede', 'penny', 'shaken', 'form', 'Kenneth', 'Modifications', '*T*-196', 'Bougainville', 'maturity', 'forgiven', 'demanding', 'hailing', 'Rexinger', 'bidders', 'shadows', 'ornamental', 'Corton-Charlemagne', 'Brownell', 'white-collar', 'protesters', 'guards', 'Nine', 'movies', 'LSI', 'light', 'currency', 'Silver', 'cavernous', 'jitters', '4,000', 'Sandifer', 'advertisements', 'Britta', 'acne', 'providers', 'Whereas', 'warranties', 'retained', 'links', 'cautiously', 'instance', 'Hanifen', 'High', '7.3', 'spectacularly', 'resulting', 'Feb.', 'surgery', 'addressing', 'with', 'infusion', 'winner', 'link', '8.45', '15', 'stripped', '8.06', 'discrimination', 'crystal', 'playful', 'scores', '*T*-184', 'BMP', 'proving', 'suffering', '*T*-107', 'surrounding', 'chalk', 'Manchester', 'carried', 'old-fashioned', 'Terrace', 'complain', 'longevity', 'Sundays', 'flag', 'marbles', 'Carnegie-Mellon', '42.5', 'Leroy', 'San', 'wages', 'protects', 'investigations', 'union', 'Johns', '83.4', '12.09', 'impeding', 'exactly', 'year-earlier', 'single-digit', 'Acceptance', 'protective', 'law', 'Miles', 'same', 'facade', 'Dolphin', 'executing', '47.6', 'Rated', 'easing', 'topped', 'N.H.', 'Social', 'most', 'booklets', '1,880', '1.9', 'experts', 'scheduled', '*-135', '*T*-124', 'meetings', 'unpleasant', '*T*-136', 'guide', 'Gross', 'Anglian', '55-year-old', 'estimation', 'consider', 'M.', 'specializes', '93.9', 'industry-supported', 'Jennison', 'session', 'time', 'rocket', 'Propaganda', 'Default', 'assistant', 'Co.', 'supposedly', 'By', 'my', 'Judges', 'Napa', 'Harcourt', 'truce', 'Steven', 'Wayland', 'rebuild', 'Facilities', 'Almost', 'earthquake', 'coliseum', 'weighing', 'acquires', 'familiarization', 'Australian', 'violation', '*-57', 'Renaissance-style', '1929', '30s', 'Schmidt', 'Palmer', 'intend', 'Germany-based', 'discontent', 'suit', 'secondary', '235', 'Solihull', 'consensus', 'Corporate', 'viewing', 'kicked', 'got', 'Pencil', 'withstand', '*-54', 'commitment', 'readings', 'cousins', 'Sale', '14-hour', 'Standard', 'bans', 'diming', 'advent', 'split', 'Md.', 'salaries', 'pension', 'so-called', 'thugs', 'however', 'eye', 'Nixon', 'Backseat', 'disapproval', 'across', 'Sun', 'Dr.', 'Linden', 'base', 'weapons-modernization', 'Dominion', 'negotiable', 'cumbersome', 'peal', 'altering', '1991-2000', 'T-shirts', 'semiconductors', 'our', 'organized', '967,809', 'SALT', 'sabotage', \"'s\", '132,000', 'foreign', 'tried', 'Hasbrouk', 'signed', 'summer', 'timing', 'Homebrew', 'Jovanovich', 'Chiodo', '52', 'sex', 'nominated', 'constitute', 'borrowings', 'Gerard', 'satisfying', '20.07', 'Lead', 'anti-China', 'arms', 'allegedly', 'event', 'Communications', 'Fang', 'unjust', 'denying', 'clarified', 'credentials', 'Baldwin', 'depressed', 'envoy', 'sets', 'pro-democracy', 'Merchant', '*-40', 'jumped', 'reflects', 'prepayment', 'I.', 'asserts', 'decides', 'Senior', 'lawyers', 'Poore', '*-142', '130', 'services', 'initiatives', 'aggravated', 'imminent', 'near-limit', '50,000', 'punishable', 'graphics', 'Foot', 'scrupulously', '5.3', 'wedded', 'prosecution', 'proposals', 'insider', 'Purina', 'sweet', 'unitholders', 'Among', '0.5', 'Powers', 'Sonny', 'Education', 'Reasons', 'cement', 'whichever', 'Limited', 'steadily', 'domestically', 'inhibit', 'motors', 'ill', '27', 'editors', 'architecture', 'princely', 'mines', 'composting', 'Goodman', 'accrue', 'department', 'insurance-company', 'pursuant', '343', '270', 'mignon', 'Peters', 'mushy', 'dashes', 'safe', '5\\\\/8', 'Conference', 'Federal', 'Ala', 'Mississippi', 'Right', 'opponents', 'lessening', 'bag', '300-a-share', '1.19', 'doubt', 'turns', 'hear', 'defended', 'paid', 'Banks', 'surely', 'Stephen', 'child', '370', 'Elisa', 'Van', 'biggest', 'Sandberg', 'security-type', 'prospect', 'honor', 'battery-operated', 'recommended', 'metropolitan', 'aspects', 'double-C', '*-87', 'instrumental', '*T*-166', 'toward', 'Indiana', 'achievement-test', '*T*-150', 'judges', 'nonfinancial', 'guy', 'Communists', 'defends', '62-year-old', 'refreshing', 'pre-Communist', 'Talcott', 'screenwriters', 'Mather', 'Because', 'Times', 'again', 'virtue', 'Citicorp', 'bedding', 'bribe', 'Court', 'diversified', 'sliding', 'Trettien', 'Food', 'exerting', 'magnitude', 'Domestic', 'Courts', 'competitor', 'Lure', 'motive', 'yesterday', 'fewer', 'buttoned-down', 'questions', 'couple', 'orders', 'Shorter', '29.9', 'neat', 'industrialized', 'Nearby', 'Trinity', 'cable', 'inappropriate', 'Bears', 'lighter', 'Sauvignon', 'swift', 'line', 'apparently', 'George', 'Gotta', 'trader', '26.2', 'largely', 'American-style', '187', 'Rumors', 'influenced', '10.5', 'EVERYONE', 'explosive', 'increasing', 'go', 'Conn.', \"'ll\", 'concedes', 'Personal', 'fluent', 'hedging', 'tests', 'exports', 'hearing', 'Jonathan', 'harm', 'strongest', 'greed', 'network', 'Allen', '49.9', 'Indonesia', 'regional', 'binge', 'consultant', 'Delaware', '*-41', 'Group', 'TRANSPLANT', 'familiar', 'physicist', 'leasing', 'Either', 'balanced', 'announce', '0.82', 'Before', 'Don', 'feudal', 'coordinator', 'Mercantile', 'moratorium', 'pack', 'modest', 'Individuals', 'gored', 'recession-inspired', 'censorship', 'dissident', 'made', '40.21', 'commodity', 'audience', 'obligations', 'Commonwealth', 'GOODY', 'modern-day', 'faltered', 'bell-ringing', 'U.S.', 'registration', 'Canada', 'Express-Buick', 'male-only', 'Loan', 'growths', 'registered', 'outlets', '*T*-158', 'campaigns', 'Unitholders', 'amps', 'Disease', 'start-up', 'grade', 'progressive', 'wealth', 'accrued', 'Economists', 'signs', 'defects', 'lifes', 'Deng', 'Bailey', '17.3', 'airlines', 'Light', 'video-viewing', '*-23', 'letter', 'Bob', 'Deposits-a', 'speculating', 'ushers', '*-110', 'persistent', 'supportive', 'produce', '4,645', 'Primerica', 'Barge', 'ENDED', 'bounce', 'Policy', 'annualized', 'structures', 'U.K.', 'devoted', 'Cost-effective', 'difference', 'stressing', 'worship', '1614', 'Atlanta', '226,570,380', 'Reuter', 'blacks', 'Renee', 'pains', 'Big', 'choice', 'economies', 'billing', 'Buy', 'round', 'judge', 'Glenham', 'racket', 'Freud', 'precious', 'As', 'pitches', 'ranked', 'shallow', '*-30', 'marriages', 'exact', 'funny', 'currencies', 'six-packs', 'polish', 'Landonne', 'elephant', 'Devon', 'mitigate', 'semiliterate', 'dilemma', 'high-rolling', 'bloods', '100', '1.1', 'eighth', '29', 'Burt', 'NetWare', 'expunged', 'faded', '1920s', 'Jalaalwalikraam', 'assembled', 'POP', 'clobbered', 'stock-index', 'nations', '210,000', 'wants', 'gallon', 'halted', '50.1', 'roughly', 'infectious', 'guided', 'Sr.', 'Thrall', '1.24', 'contests', 'turmoil', 'matching', 'library', 'industrial', '*T*-23', 'paycheck', 'unfilled', 'floating-rate', 'predecessor', 'lucky', 'goverment', 'boys', 'stretch', 'framers', 'literary', 'identified', '*-165', 'Nature', 'Graduates', 'depressions', 'gauges', 'graders', '*-70', 'Your', 'Funding', 'elderly', 'USX', 'Reserve', 'basically', 'assist', 'vast', 'merely', 'Organizations', 'Ailes', 'genes', '*-123', 'Ky.', 'strike', 'effect', 'industrywide', 'Warren', 'touched', 'PORTING', 'blender', 'Packages', '*-51', 'anecdotal', 'adviser', 'Harpo', 'Paso', 'retentive', 'full', 'rapid', 'granted', 'preclinical', 'curbed', 'offered', 'memorize', 'amendment', 'Offering', 'Tuscany', 'Sixth', 'earns', 'half', 'Fremantle', 'tender', 'aspires', 'between', 'slowed', 'blow', 'fractionally', 'CDC', 'Securities', 'N.Y.', 'Energy', 'resist', 'Mindy', 'dam', 'Stevens', 'angry', 'deeply', 'outside', 'outrage', '86.12', '9.32', 'wooing', 'Calif.', 'U.S.-backed', 'man', 'Workers', 'Ichiro', 'snaking', '*T*-118', 'page-one', '*T*-253', 'committing', '576', 'months', 'accomplishments', 'Des', 'behind', 'Again', 'researcher', 'broker', 'ignoring', 'protocols', 'Leo', '*-18', 'completing', '6.53', '1985', '*T*-246', 'benefits', 'plenty', 'comeback', 'Maine', 'numeral', 'verbatim', 'projections', '6.20', 'negotiator', '1.75', 'computer-driven', 'Program', 'Cruise', 'low', 'Sebastian', '21.9', 'shirts', 'Elsewhere', 'contends', 'Sol', 'prosecutor', 'Green', 'bronze', 'district', 'develops', 'Yoshihashi', 'billed', 'none', 'Analysts', 'car', 'Hungary', 'efficient', 'Foreign', '*-12', 'becoming', 'Nekoosa', 'abuzz', 'photograph', 'bolstered', 'Yeargin', 'us', 'signature', 'Veraldi', 'anyway', 'categories', 'wildly', 'Oy', 'pickups', 'IBM', 'Sir', 'Register', '436.01', 'always', 'disappointment', 'convicted', 'vote', 'portfolios', 'format', 'Oxnard', 'Stadiums', 'DyDee', 'Mexican', 'syndication', 'disk', 'essays', 'Fair', 'concerns', 'ringing', 'merge', 'weather', 'discourage', 'heavily', 'short-lived', 'opposes', 'Meinders', 'Think', 'TWO', 'Machines', 'Caribbean', 'Stronach', 'successfully', 'Vacancies', 'off-off', 'decade', 'Contel', '22', 'taken', 'computer-aided', '58.64', 'Friends', 'equip', 'exploration', 'changed', 'Satrum', 'falling', '12,252', 'perfectly', 'ratings', 'Nikkei', 'vertically', 'rock', 'depository', 'Cerf', 'soul', 'unproductive', 'prosecuted', 'bids', 'H.N.', 'foreign-stock', 'far', 'entrenched', 'scrutinizing', 'decries', '382-37', 'main', 'implicitly', 'settlements', 'Hurley', 'doctors', 'ballroom', 'laid', 'aids', 'energy', 'plastic', 'troubled', 'residential', 'may', 'profession', 'disgorge', 'Rockefeller', 'margins', 'government-funded', 'Timex', 'trades', 'Recess', 'referred', 'friends', '890', 'exhausted', 'visited', 'peals', 'related', 'students', 'drain', 'smartly', 'Asada', '*T*-49', 'boosters', 'chips', 'central', 'Milan', 'sure', 'upscale', 'amusing', 'MITI', '*T*-231', 'studio', 'Ferro', 'enabled', 'prospective', 'behest', 'third-largest', 'penetrate', 'regulate', 'prosecutors', 'school-district', 'FERC', 'trillion', 'Retail', 'smallest', 'diagram', 'circumstances', 'causing', 'discussing', 'little', 'realestate', 'President', 'chastised', 'reallocated', 'harassment', '35.7', 'unrealized', 'trained', 'Ethel', 'Basham', 'liquid', 'Composer', 'Biedermann', 'CORP', 'hard-hitting', 'Laurence', 'Gas', 'illegal', 'offense', 'Coast', '8', 'venerable', 'promising', 'bloc', 'Z.', 'signboards', 'Marubeni', 'Angier', 'automation', 'taking', 'lengthen', 'R.P.', 'bold', 'blocked', 'professionals', 'crackdown', 'financings', 'Toronto-based', 'congressmen', 'possessions', 'Gov.', 'DeFazio', 'water', 'recent', 'specialized', '570', 'character', 'constitutional', 'Representative', 'Journals', 'Irwin', 'swiftly', '62.625', 'entangled', 'Wilmington', 'testing', 'sunny', '11', 'expands', 'recognition', '*T*-97', 'renovated', 'openings', 'telling', 'austere', 'Probably', 'accurate', 'amortization', '*-159', 'Va.', 'referring', 'Whiting', 'self-perpetuating', 'entire', 'liquid-nitrogen', '*T*-96', 'instructed', 'urge', 'second-largest', '*T*-56', 'shambles', 'agencies', 'screened', 'pre-1933', 'dollar-denominated', '278.7', 'filter', 'bankruptcy-law', 'den', 'seasonal', 'modems', 'advertised', 'deluge', 'financial', 'punishment', 'alike', 'Investments', 'lovely', 'administrator', 'harmed', 'read', 'sophisticated', 'deprivation', 'minicrash', 'Panama', 'perfection', '3.16', 'suspend', 'liberal', 'team', 'social', 'outlook', 'Christie', 'Bridge', 'improved', 'boyfriends', 'comprehensive', 'wings', 'standing', 'current', 'drives', 'tire-kickers', 'involved', 'Neuberger', 'vicious', 'statutory', '*T*-103', 'semiannual', '*T*-61', 'studiously', 'Team', 'drums', 'pasta', 'checking', 'shelf', 'Jacobs', '8.2', 'settlement', 'aggressively', 'ease', 'date', 'throws', 'take', 'uses', '12-point', 'staggering', 'career', 'notes', 'volatility', 'Net', '35500.64', 'spending', 'Commission', 'designated', 'Test-preparation', 'emissions', 'regenerate', 'index-related', '185.9', '*T*-54', 'EST', 'conducting', 'shopped', 'question', 'sidelines', 'Sit', '30,537', 'annually', 'strengthened', '*-68', 'fall', 'knew', 'best', 'Mortgage', '62.1', 'existed', 'Lynch', 'retiring', 'Fewer', '*T*-201', 'including', 'Reuters', 'thrift', 'Bridgeville', 'controversial', 'folded', 'continuingly', 'happier', 'Uptick', 'Conn', 'lap', 'inadequate', 'hitting', 'constantly', 'think', 'teams', 'edged', 'buoyed', 'bidder', '77', 'Hopkins', 'survivor', '8.12', 'reach', 'Bowman', 'curled', 'amphobiles', 'unsuccessfully', '1968', 'cry', 'disapproved', 'Marine', 'entitles', 'Boeing', 'sticky', 'extra', 'Harry', '160', 'cell', '14.5', 'pointed', 'leeway', 'Eggers', 'Dole', 'practicing', 'affiliates', 'whole', 'portions', 'sentimental', 'elected', 'sad', 'chaired', 'invests', 'shortages', 'roadblock', '*T*-197', 'Runkel', 'restructures', 'aftermath', 'kinds', 'thwart', 'examination', 'adopted', 'computers', 'confined', 'perpetuates', 'Orlando', '*-3', 'attended', 'bell-ringer', 'already', 'professors', 'twindam', 'war-rationed', 'account', 'consultants', 'acetate', 'wasted', 'proceedings', 'welcomed', 'copyright', 'building', 'Rust', 'Average', 'Jan.', 'Reliance', 'exceptional', 'circle', 'plan', 'Cullowhee', 'undo', 'Institutions', 'Biondi-Santi', 'health', 'quantity', 'losses', '*-58', 'corrupt', 'removed', '0.54', '23,403', 'Boorse', '*T*-120', 'Source', 'deadwood', 'error', 'rebounding', 'Hollingsworth', '1991-1999', 'necks', 'disciplined', '*T*-105', 'multinational', 'sparking', 'Salomon', 'Breakey', 'Arraignments', '51-year-old', '*-160', 'evolve', 'legislature', 'Publishing', 'U.S.S.R.', '1.18', 'Baim', 'bureaucracy', '*T*-238', 'Nagano', 'Lambert', 'salarymen', 'Sure', 'chronicle', 'supercomputers', 'Truck', 'bushels', 'discredit', 'welcome', 'managed', 'embassy', 'brought', 'feet', 'Hackensack', 'hoped', 'capitalism', 'diplomatic', 'tomorrow', 'Practical', 'FTC', 'recalling', 'advanced', 'destroy', 'located', 'weeks', 'anti-programmers', 'presence', '*-132', '2,050-passenger', 'discrepancies', 'Medical', '3', 'snapped', 'defines', 'authority', 'systems', 'stressed', 'Ten', 'extraordinary', 'assure', 'A.L.', 'mid-afternoon', 'Everyone', 'zone', \"'86\", 'Diaper', 'distasteful', 'Previously', 'morbidity', 'Mogavero', 'stages', 'La.', 'pilots', 'municipal', 'privileged', '2.47', 'barge', 'journalists', '6.03', 'skip', 'embroiled', 'streets', 'politicians', 'ban', 'beg', 'knowledgeable', 'launched', 'assuming', 'regime', 'say', 'insider-trading', 'Walt', 'disaster', 'vindication', 'COMMERCIAL', 'five-inch', 'Continental', '*-37', 'Parent', 'ventures', 'chairs', 'Furillo', 'merger-related', 'shows', 'newspapers', 'Younkers', 'Zicklin', 'renovation', 'recommendations', 'impressed', 'Concerned', 'We', 'Cigna', '*-119', 'Cincinnati', 'therefore', 'certin', 'certainly', 'Liberation', 'sounds', 'stringently', '*-14', 'Gringo', 'Grgich', '*T*-163', 'shot', 'whether', 'Northern', 'inflationary', 'big-ticket', 'stronger', 'renew', '12.52', 'Farmers', '*T*-86', 'accountability', 'shipyards', 'Nipponese', 'Doak', 'INQUIRY', 'Jews', '30', 'Medicine', 'safety', 'along', 'struggled', 'money-center', 'Groucho', 'wrote', 'palace', 'overcome', 'inviting', 'chunk', 'urged', 'half-hour', 'record-keeping', 'Ranieri', 'insolvency', 'send', 'operation', 'unusual', 'Hoffman', 'A.D.', 'disappointed', 'households', 'Sales', 'state-appointed', 'auto-safety', 'heightened', 'Gillett', 'aboard', 'society', 'visitors', 'notably', 'Piscataway', 'argue', 'heads', 'US$', 'besuboru', 'obsessed', '5.6', 'Longwood', '325,000', 'dismissed', 'Dakota', 'Traders', 'Rothschild', 'accompany', 'sanctions', '5.82', 'Brothers', 'synthetic', 'drops', 'Chilver', 'creams', 'countless', 'recently', 'Susan', 'batting', '132', 'symptoms', 'standpoint', 'Characters', 'Norwegian', 'billions', 'described', 'Regal', 'Dogs', 'Congress', 'nine-year', 'listing', 'shedding', 'funds', '*T*-72', 'transfers', 'inflation', '1933', 'erodes', 'series', 'Colorliner', 'protected', 'side', '109.73', 'and', 'travelers', 'newsstands', 'Clive', 'disposed', 'successful', 'readership', 'row', '48', '*-150', '19.6', 'science', 'disclosing', 'current-carrying', 'steady', 'longtime', 'onus', 'least', 'County', 'sole', 'hub', 'coal-fired', 'fledgling', 'formerly', 'ancillary', 'Financing', 'David', 'Avrett', 'Industrial', '282', 'disappear', 'altered', 'futures', 'Factories', 'CHANGED', 'command', '43.875', 'empire', 'package', 'strapped', 'elections', 'trucks', 'come', 'marketer', 'international', '*T*-65', 'blames', 'Ford', 'came', 'Cheetham', 'condemned', 'outlay', 'nets', 'changes', 'among', '70.7', 'cash-flow', 'Some', '0.7', 'Intecknings', 'linked', 'Bumkins', 'cited', 'Camille', 'Bribe', 'unfounded', 'mayor', 'sheets', 'conditions', 'heading', 'broad-based', 'supreme', 'Hammerton', 'resists', 'pipes', 'desire', 'Rock', 'areas', 'might', 'Documents', 'faces', 'outrageous', 'comfort', 'Norwalk', 'solvent', 'beyond', 'mulling', 'Czechoslovakia', 'defuse', 'compensation', 'appropriation', 'guest', 'Giuliani', 'regardless', 'Lindner', 'Cray-3', 'promised', 'Ames', 'Citing', 'pursue', 'Numerous', 'Capitol', 'issuing', 'Islamic', 'cool', 'foam', 'Metallgesellschaft', 'Arafat', 'broadcasting', '*T*-55', 'buy-outs', '30-point', 'Arthur', 'ambitions', '45.3', '*-56', 'to', '77,000', 'clipped', 'Riserva', 'rear', 'beleaguered', 'savings', 'aware', 'disappears', 'rolling', 'while', 'reforms', 'advantage', 'Peoria', 'serial', '*T*-168', 'full-time', 'vitally', 'tinker', 'analyst', 'sprawling', 'substance', 'red', 'Oshkosh', '240-page', 'scrounge', 'Rogers', 'replaced', 'Paul', 'derived', 'defendants', 'major-league', 'Nevertheless', '*T*-141', 'damaging', '12', 'Skokie', 'coming', '1970s', 'modestly', 'upside', 'railcars', 'Reducing', 'relies', 'buy-back', 'prove', 'emerges', '13.8', '*T*-153', 'enables', 'red-flag', 'fed', 'pricing', 'government', 'Finance', 'supplemental', 'jurisdictional', 'unauthorized', 'Vermont', 'Guffey', 'virtues', 'compel', 'cotton', 'interstate', 'evoke', 'However', 'gyrate', 'acre', 'disease', 'coffee', 'From', 'Anku', 'high-priced', 'Absorbed', 'burned', '1.20', 'intended', 'overall', 'integration', 'Intel', 'remainder', 'patented', 'helping', 'easier', 'anxious', 'association', 'Money', '1901', 'researchers', '350', 'Baris', 'investors', 'undesirable', 'willing', 'Typically', 'Beth', 'friendly', 'combined', '9\\\\/32', 'Suisse', 'niches', 'operated', 'frequency', '341.20', 'Brian', 'promoting', 'information-services', 'patterns', 'played', 'peripheral', 'expire', 'seasonally', 'Urban', 'spurring', 'Yamaichi', 'Officials', 'countries', 'litigation', 'objective', 'recipient', 'pre-cooked', 'tools', 'screwed', 'enhanced', 'crane-safety', 'hauling', 'items', 'qualified', 'Hallwood', 'Railroad', '3.6', 'payments', 'My', 'lifted', 'chest', 'speaking', 'aftereffects', 'capsules', '275', 'buses', 'Hawke', 'differ', 'Wickliffe', 'redistribute', 'attracted', '1.50', 'unchanged', 'arranged', 'acquirer', 'of', 'low-altitude', 'Freeport-McMoRan', 'THE', 'portrayal', '*T*-161', 'Underwoods', 'scale', 'borrowing', 'legislators', 'members', 'creating', 'assumption', 'downward', '45-a-share', 'pitting', 'crops', 'dreamed', 'Attwood', 'reporting', 'reruns', 'covers', 'ChemPlus', 'obsession', 'recruit', 'cleanup', 'she', 'can', 'cabs', 'sputtered', 'lotions', 'Mesnil', 'Christopher', 'hearings', 'Separately', 'MERRILL', 'Northeast', 'chopped', 'September', 'Hospital', 'questioned', 'Individual', 'Middlesex', '566.54', 'mainly', 'Harris', '241', 'Babcock', 'Fulton', 'experience', 'USIA', 'DES', 'knowledge', 'banks', 'commercial', 'GMAC', 'van', '1,620', 'INTERBANK', 'design', '1.25', 'Dahl', 'noted', '*T*-17', 'indications', 'Taiwan', 'Victor', 'inner', 'assets', 'exacerbated', 'theological', 'create', '1,000', 'daily', 'takeover-stock', 'inaccurate', '11.10', 'combine', 'Rent-A-Car', 'consideration', 'voted', 'telephone', 'Brunswick', 'addiction', 'Calder', 'dwindling', 'Life', '2005', 'scientific', 'suggest', '*T*-234', 'Mercury', 'top-yielding', 'demonstrates', '7.60', 'succeeding', 'five-day', 'Hoosier', 'steelmaker', 'beginning', 'print', 'waited', 'badly', 'environmental', 'Traficant', '30-year', 'said', 'carbon', 'youngsters', 'chip', 'lofty', 'Arizona', 'doubts', 'Sterling', 'technologies', 'Rep.', 'Patrick', 'IT', 'sympathetic', 'cent', '*-99', 'Producers', 'destination', 'unclear', 'milked', '128', '1.28', 'transplants', 'interested', 'trends', 'Taccetta', 'stopped', 'Nationale', 'railings', 'Bethlehem', 'Judicial', 'Chandler', 'reprint', 'high-tech', '5.1', 'Power', 'conduit', '*T*-183', 'ports', 'contradictions', 'Jacob', 'materialistic', 'competed', 'explore', 'total', 'None', 'master', 'lock', 'PAPERS', 'videocassette', 'huge', 'joins', 'counterparts', 'on-campus', 'junk', 'fair', 'Dow', 'immune', 'managing', 'Elisabeth', 'casts', 'COLLECTING', 'Jamaica', '*-21', 'attitude', '*T*-100', 'vehicle', 'N.J.-based', 'utilities', 'police', 'Bangkok', 'formally', 'care', 'served', 'squeeze', 'marvelously', 'Davies', 'domination', 'undercut', 'his', 'kids', 'Mason', 'relentlessly', 'world-wide', 'coated', 'Citizen', '*-153', 'cute', 'intent', 'unanticipated', 'Gilts', 'signing', 'architects', '321,000', 'Peninsula', 'Baum', 'first', 'managements', 'stay', 'zoomed', 'direct-investment', 'refuge', 'Ramirez', 'blinks', 'Francis', 'inmates', 'Frederick', 'progress', 'nightmare', 'concede', 'original', 'fairly', 'mollified', 'Queen', 'grandstander', 'bend', '3.4', 'taxation', 'tactics', 'sluggishness', 'backed', 'web', 'negative', 'Atlanta-based', 'decried', 'Arbitrage', 'unions', '30.9', '*T*-82', 'Ward', 'clean-air', 'terminated', 'metals', 'Baker', 'poverty', 'compare', 'joys', 'ability', 'jugglers', 'altar', 'particularly', 'expressed', 'DEPOSIT', 'microcomputers', 'different', '2.1', 'waif', 'Hallett', 'Del', 'blocks', '72', '*T*-217', '80.8', '6.21', 'discuss', 'spite', '45', 'separately', 'subsidiary', 'posting', '497.34', 'nonetheless', 'belong', '47.5', '*T*-48', 'band', 'flush', 'crashes', 'according', 'Siti', 'Whether', 'death', 'middle-ground', 'reported', 'brokerage', 'comfortable', 'Ackerman', 'denial', 'Level', 'Henderson', 'undersecretary', 'wife', 'nonprofit', 'refitting', 'Skinner', 'requested', 'actions', 'skeptical', 'World-Wide', 'chance', 'pushed', 'Enzor', '50-50', 'reflection', 'deregulation', 'mature', 'contractors', 'square', 'monster', 'anticipating', 'picks', 'Herald', 'subskill', 'Equity', 'track', 'extramarital', 'respondents', 'surrendered', 'possibly', 'part', 'drinks', 'apprehensive', 'food-shop', 'pins', 'Coleman', '*-140', 'installing', 'price-depressing', 'loved', 'historically', 'delete', 'achievement', 'bankruptcy', 'strongly', 'creditworthiness', 'experiencing', 'billings', 'intellectual', 'October', 'appearing', 'halts', 'paltry', '*T*-102', '374.20', 'Monchecourt', 'contribute', 'participation', 'announced', '47.125', '58-year-old', 'omnipresent', 'vetoes', 'useful', 'advocating', 'manage', 'urging', 'consented', 'activities', 'nowhere', 'sickness', 'owns', 'impact', 'refer', 'Criticism', 'oil', 'Muscolina', 'indexes', 'mostly', 'Osborn', 'drug', 'balloting', 'posing', 'only', 'fly', 'Today', 'exemption', 'Cluff', 'extending', 'share', 'we-Japanese', 'Nofzinger', 'Pitney', 'illegally', 'Inc', 'unspecified', 'aggressive', 'aim', 'absorbed', 'jury', '4.6', 'Coxon', 'Jail', '188', 'wide', 'Blanchard', 'backers', 'kicker', 'Times-Stock', 'education', 'prejudice', 'overhead', 'set', 'withdrawal', 'chairman', '100-megabyte', 'colored', 'Similarly', '16\\\\/32', 'Menem', 'investigate', 'MONEY', 'fight', 'minted', 'barred', 'specialists', 'DEFENSE', '17.4', 'attend', 'telephone-information', '*T*-130', 'bureaucratic', 'exempt', 'Touches', 'muzzling', 'White', 'characters', '36-day', 'exploit', 'accordance', 'metric', 'procedure', 'repaid', '47.1', '0.60', 'hopefully', '*-89', '126.15', 'arm', 'suburban', 'W.', 'Senate-House', 'U.S.-Japanese', 'intensity', 'anticipates', 'hailed', 'ASSOCIATION', 'Kondo', 'CTB', 'honors', 'relocate', 'collapsed', 'teach', 'motor-home', 'Georgia', 'agricultural', 'logo', 'acting', 'couples', 'preface', 'allegations', 'disclosure', 'abortions', 'machinery', '101', 'homelessness', 'published', 'developments', 'giveaways', 'accurately', 'broaden', 'circuit-breaker', 'businessmen', 'Yorkers', 'lend-lease', 'observed', 'imply', 'DISCOUNT', 'undisclosed', 'possessed', 'BTR', 'is', 'rebuilding', 'hope', 'skepticism', 'In', 'Disputado', 'prescient', 'preferred', 'indicates', 'virtually', 'plaintiffs', 'backlog', 'del', 'reward', 'rights', 'deficit', 'Proceeds', 'black-and-white', 'Biscayne', '*T*-75', 'gangs', 'Trading', 'without', 'principal', 'Charlotte', 'tower', '1925', 'regarding', 'Issues', 'ordeal', 'unofficial', '273.5', 'employer', 'bases', 'Agency', 'Commissions', 'Lizhi', 'spot', 'fire', 'triple-C', 'south', 'movements', 'stores', 'abortion-related', 'Blanc', 'congregation', 'improves', 'decisive', 'accountants', 'Free', 'exchanging', 'gamut', 'Howard', 'foldable', 'advertisers', 'Intelogic', 'know', 'Appropriations', 'compressed', '56', 'favors', '150', 'Stearn', 'raw', 'Tassinari', 'Russell', 'Ltd.', 'implies', 'obtaining', 'improbable', 'overvalued', 'lights', 'Factory', 'blip', 'designing', 'mutual-fund', 'refuses', 'locations', 'owning', 'General', 'Commodore', 'dating', 'study', 'architectural', '5.63', 'bench', 'outdistanced', 'forced', 'varying', 'Erbamont', 'Utah', 'Colonsville', 'Policies', 'planned', 'cyclical', 'lately', 'faint', 'writers', 'Random', 'church', 'Oliver', '*T*-46', 'Lumpur', 'price', 'Legend', '7.40', 'default', 'Publications', 'eclectic', 'Scientists', '63', 'EURODOLLARS', 'truthful', 'cater', 'bigger', 'Supportive', 'after-tax', 'breaks', 'sleeping', 'Examiner', 'Michaels', '*T*-70', 'filed', 'note', 'flat', 'weaker', '1.01', '1981', 'wheels', '22.75', 'Learning', 'conversations', 'Weil', 'confidence', 'tolerate', 'Kennedy', 'Nonetheless', 'ranging', 'fared', 'failing', 'Ginsberg', 'provides', 'data', 'ones', 'Candela', 'gold', 'Patents', '0.05', 'damages', '3.43', '*T*-98', 'E.', '143.80', 'would', 'Glauber', 'Hills', '*-154', '6.40', 'perspective', 'money-market', 'greatest', 'spreads', 'Root', 'integrated', 'drinking', 'Guerrilla', 'exodus', 'August', 'enters', '21,000', 'Micronite', 'Xiaoping', 'Sunday', 'towns', 'biscuit', 'spouse', '847', 'healing', 'supports', 'Ed', 'proposition', 'percentage', 'putting', 'periods', 'witness', 'quietly', '7.4', 'Democratic', 'membership', '*T*-245', '61', '*T*-92', 'treatment', 'Grant', 'precise', 'Rosenblum', 'subminimum', 'fuel', 'Profit', 'logjam', 'thinking', 'ingredients', 'gotten', 'marks', 'Constitutional', 'Tandy', 'COMMUNICATIONS', '81.8', 'children', 'Gayle', 'Abrupt', 'ire', '9.82', '40-year-old', 'remains', 'let', 'Monitor', 'mistake', 'Tower', 'tracking', '*T*-32', 'pealing', 'seeking', 'disaffected', 'SALARIES', 'goal', 'reduce', 'municipalities', '*T*-239', 'segment', 'Li', 'took', 'Jr', '520-lawyer', 'promise', 'fell', 'Shuxian', 'foldability', 'ordering', 'Raleigh', '7.45', 'capitalize', 'Assets', 'majority', 'classed', '*-33', 'liquidated', '*-100', 'disappointing', 'top-selling', '125', 'Groton', 'after', 'Fulham', 'letters', 'responds', '23,000', 'Carney', 'cluttered', 'below', 'built-from-kit', 'buck', 'pocket', 'solved', 'meets', 'prostitute', 'prestigious', 'accidents', 'energy-services', 'capital-gains', 'Siegal', 'mounted', 'require', 'News', 'Mae', 'Grace', 'widespread', 'making', 'remain', 'net', 'housewife', 'Princeton', '17', 'stunned', 'ethical', 'breakdown', 'obtained', '16,072', 'Colony', '*T*-157', 'unresolved', 'steelmakers', 'bombs', 'Ms.', 'furious', 'ads', 'regarded', 'touted', 'habit', 'details', 'equivalent', 'summoned', 'Amsterdam', 'act', 'diluted', 'Soho', 'recovery', 'violating', 'Bankers', '*T*-178', 'Institution', 'calculations', 'press', 'Kensington', 'expedited', 'capitalist', 'wealthy', '*-79', 'Virtually', 'Army', 'situations', '169.9', 'War', 'covering', 'belonging', 'committee', 'Champagnes', 'worthiness', 'A.C.', 'variables', '9.45', 'suppression', 'le', 'Chemical', 'Africa', 'wallowing', 'reputation', 'school-board', 'Raul', 'fracture', 'Syracuse', '*T*-10', 'organization', 'hold', 'Exxon', 'uncomplaining', 'pulp', 'sued', '1940s', 'gift', 'waivers', 'Mrs.', 'Edelman', 'Junk', 'intraday', 'Breeden', 'Belt', 'materialized', 'amounted', 'wizards', 'phobias', 'miners', \"'m\", 'luxury', 'empty', 'manufacturer', 'Wilfred', 'Lighthouse', 'Strother', 'equal-opportunity', 'recommend', 'functioning', 'lauded', 'computerized', 'undertone', 'Mercer', 'equipment', 'interest-bearing', 'consistent', '*-13', 'leveraged', 'mobile', 'mental', 'Pinocchio', 'ASSOCIATES', 'campaigner', 'British', 'Stephanie', 'Arabia', 'G.m.b', 'apologizing', 'FT-SE', 'textile', 'replacing', 'They', 'hostage', 'ships', 'acceptance', '138', 'against', 'Parliament', 'unraveling', 'Ganes', 'principle', 'gauging', 'bank', 'elevators', 'mid-size', 'F', 'length', 'Matthew', 'remarks', 'platinum', 'equally', 'order', 'lose', 'Exports', 'lap-shoulder', 'Scandinavian', 'Having', 'Legal', 'tumultuous', 'accommodations', 'Fahrenheit', 'risen', 'WHAS', '87-store', 'Loewi', 'using', 'Chamber', 'mainframe', 'avenues', 'concessions', 'administer', 'states', 'expects', 'anti-takeover', 'tricky', 'Carla', 'Sanford', '16.125', 'guaranteed', 'Riviera', 'extended', 'nickel', 'above-market', 'Shipments', '99.3', 'bearing', 'servicing', 'property\\\\/casualty', 'dolls', '*?*', 'Reagan', 'Preliminary', 'Transamerica', 'sells', 'firmness', 'ton', 'AIDS', '*-152', 'Here', 'institute', 'Finmeccanica', 'secretary', '88.32', '*T*-186', 'pickers', 'dialogue', 'cereal', 'vice', '2.875', 'chat', 'Commodity', 'labor-backed', 'S.A', 'Jihad', 'argued', '9.5', 'Byron', 'Barth', 'March', 'certain', 'A-D', '*PPA*-3', 'nationalist', '76', 'guarantees', 'approval', 'pregnant', 'rusty', 'FEDERAL', 'Giant', 'printers', 'Israel', 'sensitivity', 'farms', 'liable', 'off', 'daughters', 'solutions', 'symbolic', 'subordinate', 'posts', 'erasures', 'vaccines', 'Authority', 'Moscow', '1961', 'stemmed', 'transplantation', 'downside', 'numbers', 'guests', 'dissemination', '3.28', 'Achievement', 'Current', 'staunchly', 'labeled', 'decisions', 'clerics', 'Chateau', 'drive', '3.23', 'Sacramento-based', 'mobilizing', 'riding', 'commissions', 'Vineyard', 'Upham', 'acquirers', 'CERTIFICATES', '*T*-241', 'stands', 'entrance', 'composite', 'mirror', 'respected', 'minute', 'Moody', 'Hammond', '142.85', 'fails', 'hostility', 'Kendrick', 'Than', 'Combo', 'brilliant', 'compelling', 'pianist-comedian', 'spinoff', 'Pattenden', 'Bennett', 'automobiles', 'feature', 'activity', '53-year-old', '140', 'formal', 'scammers', 'Tots', 'sometimes-tawdry', 'prompts', 'Valrico', 'Several', 'N.C.', 'Hummerstone', '*T*-206', '500,004', '86', '65', 'Russel', 'Donuts', 'nominate', '8.35', '68', 'banking', 'superimposed', 'pediatrician', 'R.I.', 'merchant', 'offering', 'dexterity', 'Guber\\\\/Peters', '6', 'ownership', 'Mellon', 'emphasis', 'removing', 'drop', 'hamstrung', 'Wilton', '10.19', 'amended', 'dismal', 'Consider', 'lawyer', 'Drexel', 'expert', 'marginally', 'Maybe', 'struggling', 'Muramatsu', 'soft', 'procedural', 'Subcontractors', 'requesting', 'considerable', 'junk-bond', '#', 'novelist', 'Lonski', 'requirements', 'nuclear', 'Doerflinger', 'takeover', 'necessarily', 'Giants', 'parishes', 'GRAINS', 'California', 'abridging', 'polystyrene', 'joint', 'Says', 'writer', '*-59', 'Instruments', 'selling', 'rallying', 'caller', 'seconds', 'fines', 'once', 'James', 'feeds', 'administrators', 'kindness', 'replacement-car', 'Moreover', 'inform', 'delivered', 'pulled', 'Ark', 'Salmore', 'Syndicate', 'payouts', 'rejected', 'Stories', 'Winiarski', 'Critics', 'tend', 'alert', 'agreements', 'test-practice', 'That', 'significance', 'II', 'vicar', 'Service', 'posted', 'aims', 'exhibition', 'LaSalle', 'genie', 'S.', 'castle', 'Hubbard', 'volume', 'here', 'indicated', '184', 'lung', 'Lurgi', 'signal', 'Mayer', 'Dompierre', 'Philip', 're-election', 'Grange', 'intertitles', 'looks', 'Nations', 'hunted', 'France', 'federally', 'indicating', 'Bordeaux', '*T*-73', '*-45', 'News-American', 'Mattress', 'sustained', 'packaging', 'makers', 'Next', '.', 'promissory', 'minutes', 'Anne', 'disclose', 'Walbrecher', 'declines', 'supply', 'appeals', 'planning', 'Hammersmith', 'cared', 'Fargo', 'Laura', 'councils', 'derivative', 'sections', 'control', 'wisdom', 'departments', \"'80s\", 'Mo.-based', 'Why', 'Motor', 'probably', 'OTC', 'LYNCH', 'wafers', 'exhibits', 'oblivion', '142.84', 'Elsevier', 'belongs', 'Bush', 'needy', '18,000', 'fixtures', 'spaces', 'feasible', '90-day', 'reporter', 'yen-support', 'unlikely', 'privilege', 'International', 'crowd', 'year-to-year', 'realization', 'Pamela', 'represent', 'precedes', 'Wilbur', 'Sept.30', 'ball', 'Mergers', 'len', '1\\\\/10th', 'serves', 'presentation', 'apiece', 'thousand', 'yielded', 'yet', 'cite', 'disagreed', 'passport', 'Ringers', 'acceptances', '14.', 'list', 'corporate-wide', 'tens', 'knows', 'passage', 'Akio', 'yon', 'life', 'drop-in', 'audiocassettes', '8.64', 'Options', 'stockholders', 'bill', '*T*-59', 'reason', 'accord', 'violations', 'lines', 'CTBS', 'patent', 'corporate', 'handle', 'cooled', 'respite', 'aspersions', 'emergency', 'capital', 'socialism', 'unfunded', 'fact', 'Firms', 'liquidation', 'waiving', 'operational', 'disposal', 'natural', 'Burnham', 'phone', 'A', 'age', '*-137', 'absolutely', 'electricity', 'knife', 'included', '198', 'general', 'Berson', 'Watson', '*T*-207', 'actually', 'dramatically', 'resisting', 'saw', 'advocates', 'dubbed', 'Mahoney', 'Report', 'balls', 'Bank', '*-155', '116.3', 'Ohio-based', 'Larry', 'imports', 'filing', 'how', 'worked', 'Wood', 'railroad', 'mix', ':', '777', 'collecting', 'Oak', 'carriers', 'surrender', 'dozens', 'degenerative', 'elaborate', 'unfettered', 'recombinant', 'carefully', 'two-tiered', 'Champagne', '228', 'Landor', '*-62', 'Jersey-based', '14.99', '*-141', 'trading-company', '*-113', 'refusal', '458', 'regions', 'overpaying', 'severance', 'valuable', 'peaks', 'upsetting', 'today', 'Wakui', 'Companies', 'voluntary', 'lawsuit', '*T*-256', 'emigres', 'Broken', 'new-home', 'Duke', 'branch', 'Cole', '500-stock', 'subskills', '2029', 'fundamentalist', 'Little', 'W.N.', 'resources', '850', 'loses', 'ABA', 'games', 'Resources', 'large-scale', 'contesting', 'Sangyo', 'spokewoman', 'merger', 'studying', 'Note', 'chooses', '1976', \"O'Connor\", 'lion', '2.375', 'triple-A', 'shops', 'interrogated', '11.72', 'Similar', '*T*-76', 'significant', 'Sony', 'futures-related', 'decorated', 'YWCA', 'Wednesday', 'sudden', 'Nagymaros', 'indexers', 'reasonably', 'Tatsunori', 'bringing', 'analyze', 'leaves', 'ends', 'creature', 'somehow', 'anything', 'example', '*T*-53', 'money', 'Southeast', 'respectable', 'every', 'Story', 'characteristics', 'Fairlawn', 'Danforth', 'overnight', 'establishment', 'Marion', 'inverse', 'NTG', '118', 'favorite', 'Minister', '5.29', 'Waertsilae', 'Mont', '701', 'gifts', '1\\\\/8', 'describe', 'complex', 'per-share', 'Discos', 'continuously', 'transactions', 'Kansas', 'Century', 'lab', 'cost-cutting', 'wonder', '62.5', '*T*-199', 'converted', 'positions', 'labor', 'land', 'admits', 'thumbing', 'Survey', 'Party', 'Honolulu', 'Bonds', 'deluxe', 'sweetened', '28.6', 'relevance', 'Chase', 'Nichol', 'Any', 'dollar', ',', 'monthly', '62%-owned', 'teetering', 'mininum-wage', 'adequately', '1.39', 'specifics', 'interim', 'jam', 'cups', 'multilevel', 'preparatives', 'Grand', 'obligation', 'downgraded', 'matches', 'relation', 'rewrite', 'To', '23.72', 'adding', 'mired', 'nobody', '*T*-114', 'petition', 'nose', 'Rudolph', '11,390,000', '7.5', 'publicity', 'Langner', 'employs', 'Department', 'limit', 'upper', 'scenario', 'sink', 'ascendency', 'Photography', '176.1', 'sphere', '``', 'entertaining', '1.5', 'FreudToy', 'Otherwise', 'Care', 'Sandra', 'deposits', '19.3', 'swallow', 'prefectural', 'losing', 'word', 'Merc', 'maximize', 'photocopying', 'Spirit', 'container', 'Above', 'travel-related', 'fundamental', 'morass', 'Oh', 'old-time', 'insanity', 'OK', 'constitutional-law', 'End', '18.6', 'publish', '1989', 'L.A.', 'fled', 'devote', 'Short', 'divest', 'planners', 'Second', 'Preston', 'contest', 'gradual', 'fourth-quarter', '4.8', 'Hudson', '79', 'players', 'practitioners', 'historic', 'printed', 'Italian', 'bonus', 'Ana', 'Brazilian', 'Literacy', 'breaker', 'Kawasaki', 'Danzig', 'replicating', 'grew', 'Minneapolis-based', 'Continuing', 'justify', 'Newspapers', 'potential', 'rout', 'pub', 'jolts', 'one-day', 'gasoline', '36', 'discussed', 'sunlight', 'objectionable', 'abating', 'diversification', '*T*-162', 'meaningful', 'reasserts', 'Pickens', '4', 'real-estate', 'F.', 'disaster-assistance', 'Am', 'Lord', '*-146', 'approves', 'Egnuss', 'Britain', 'poison', 'unexpected', 'disturbing', 'Merrill', 'cardiovascular', '6.1', '10th', '374.19', 'suspensions', 'mortgages', 'Jenkins', 'subindustry', 'confident', 'Singapore', 'Particularly', '2.9', 'Alstyne', 'Airways', 'run', 'signifying', '361.8', 'acknowledging', 'neither', 'diamond', 'stone', '4.7', 'transacting', 'route', 'doctrine', 'computerize', '3\\\\/4', 'namely', 'accused', 'distinguished', 'begin', 'prohibited', 'rather', 'predict', 'together', 'capitalized', 'Toys', 'workers', '340,000', 'Sotheby', 'feline', 'deck', 'support', 'acute', 'Taurus', 'R', 'above', 'Fields', 'portray', 'Knapp', 'Minneapolis', 'Perhaps', 'fetal', 'confuse', '0.25', 'hydraulically', 'missiles', '7.95', 'Haruki', 'fare', 'geometrical', '*T*-175', 'payment', 'integrity', 'composed', '43-year-old', 'Germany', 'much-larger', 'Audit', 'focusing', 'watched', 'exhaust', 'Law', 'roofs', 'lengthened', 'problem', 'several-year', 'Carrier', '0.9', 'Sometimes', 'microphone', 'nor', 'implications', 'trouble', 'cap', '35.2', 'ounces', 'bounced', 'subordinated', 'Scoring', 'Since', 'Concurrent', 'Jonas', '*-83', 'significantly', 'Poland', 'pre-emptive', '*T*-160', 'raring', 'flights', 'Fannie', 'Mutual', 'Earns', 'Cooper', 'Tiny', 'unintelligible', 'gambling', 'hypothetical', 'receipt', 'cheaper', '501', 'father', 'raise', '*-50', 'Wolf', 'horoscopes', 'Pat', 'nonrecurring', 'long-time', 'attract', '4.4', 'Kearny', 'Frank', 'moneymakers', 'Kidder', '1987-88', 'whom', 'renewed', 'exit', 'mundane', 'financed', 'consequences', 'awareness', 'Stewart', 'happens', 'attending', 'scholars', 'mechanically', '608,413', 'valued', 'exclusion', 'Mark', 'Beverly', '*-49', 'appointments', 'allocation', 'milestones', 'behemoth', 'taste', 'disembodied', '*-124', 'outranks', 'copycats', 'wo', '361,376', 'times', 'furniture', 'unfocused', 'anytime', 'expensive', 'staff-reduction', 'parlors', '8.60', 'examinations', 'dollars', 'collateral', 'Westborough', 'steeper', '13.1', 'buyer', 'arsenide', '*-127', 'anywhere', 'microprocessor', 'slashing', 'sparing', 'rechargeable', 'prior-year', 'Utsumi', 'Mikhail', 'ankle', 'permit', 'saying', 'moons', 'invariably', 'landfills', 'accelerated', 'U.S.A', '*T*-44', 'Whip', 'watches', '220.45', 'Confidence', 'exporter', 'uncertainty', 'approve', 'Insurance', 'gilt', '70', 'Due', 'affair', 'definitely', 'Michio', 'W.D.', '-LRB-', '1992', 'intricate', 'non-core', 'samples', 'captive', 'Per-share', 'unsympathetic', 'arising', 'Defense', 'language-housekeeper', 'park', 'nationwide', 'populated', 'model', 'rentals', 'ounce', 'publicly', '1.457', 'requires', '8.467', 'intriguing', 'safeguarding', 'INTER-TEL', 'does', 'loser', 'meeting', 'Tribe', 'he', 'Developed', '500', 'practical', 'Berlin', 'school-improvement', 'Brean', 'prohibits', 'pride', 'featuring', 'Pentagon', 'electrical-safety', 'unrestricted', 'compilation', 'rap', 'Brussels', 'ramparts', 'circulation', 'Alvin', 'bankroll', 'Garry', 'Midvale', 'realize', 'Zuckerman', 'Christmas', 'weak', 'include', 'news', 'ceramic', 'neighborhood', 'Nissan', 'TEXAS', '1986', 'Viacom', 'Hart-Scott-Rodino', 'brat', 'rare', 'outstrips', 'debts', 'Failure', 'Manufacturing', 'impetus', 'designations', 'air', 'Sloan', 'forest-products', '4.25', 'June', 'analysts', 'close-up', 'Along', 'Getting', 'attacks', 'Coniston', 'pursued', '21-month', 'curtailed', 'justified', 'PhacoFlex', 'manufacturing', 'provoke', '*T*-189', 'location', 'partnership', 'asbestos', 'hundreds', 'Glaxo', 'would-be', 'pathlogy', 'everyday', 'pair', 'economics', 'difficult', 'IOUs', '251.2', '13.50', 'discussion', 'graduated', 'given', 'dismay', 'caught', 'firm', 'companies', '9,118', 'mothers', 'Robert', 'second', 'Stark', 'classifications', '494.50', 'retorts', 'Fla.', 'strategy', 'adult', 'disagrees', '*-26', '1.14', 'Traditional', 'seven-day', 'well-connected', 'reinvestment', '*T*-237', 'explain', 'jumps', '*T*-66', 'Ellis', 'Napolitan', 'generate', 'threats', 'look', '1.6', 'uncompensated', '16', 'cases', 'resilient', 'lent', 'court', 'Black', 'avid', 'maximum', 'put', 'Confronted', 'conservative', 'behalf', 'play', 'funding', 'scientist', 'old', 'restructurings', '*T*-132', 'Tulane', 'Salinas', 'reservoirs', 'depends', 'carry', 'assistance', '*T*-179', '75', '2.46', 'simulates', 'relations', 'framework', 'Oklahoma', 'assessed', 'garbage', 'No.', 'Torrington', 'clause', 'market-share', 'unsettled', 'Bell', 'dancing', 'statue', 'interactions', 'mainland', 'unreasonable', 'off-year', 'sent', 'continued', 'lousy', 'repeatedly', '7.84', 'Itoh', 'franc', '158,666', 'watch', 'Kong', 'Foster', '2,099', '*-28', 'insidious', 'Ridgefield', 'pass', 'emasculate', 'resent', 'manufacture', 'downright', 'nine', 'contrast', '8.48', 'stem', 'debt', 'operate', 'custom', 'flap', 'R.D.', 'Cask', 'copyrights', 'Brazil', 'balkanized', 'Triton', 'women', 'provisions', 'resistance', 'affecting', 'sorting', 'deceptive', 'RULING', 'sinister', 'recessionary', 'diagnosed', \"''\", 'teachers', 'these', 'return', 'bulk', 'alcoholism', 'much', 'actress', 'Buying', 'class', 'loans', 'Spitler', 'environmentalists', 'sluggish', 'performance', 'notify', 'engaging', 'Leming', 'Quant', 'Gulf', 'floated', 'cover', 'Obligations', 'Pitcher', 'primary', 'wheat', '*T*-33', 'courage', 'Osaka', 'presidency', 'Vichy', 'assemble', 'DOONESBURY', 'offending', 'more-efficient', 'unlabeled', 'Comprehensive', 'high', 'mouth-up', 'Collins', '1.5755', 'pockets', 'manufactured', 'forms', 'Borge', 'Terms', 'wanted', 'Funded', 'Mass.', 'Carson', 'penalty', '29year', 'levels', '225.6', 'chiefly', '236.74', 'rolled', 'represents', 'application', 'how-to', 'lenders', 'Darkhorse', 'promotional', '66.5', 'could', 'HUD', 'Savin', 'prior', 'one-week', 'revolt', 'payoff', 'access', 'Karl', 'construction', 'index-options', 'unique', 'sales', 'Acquisition', 'farm', 'slack', 'CAMPAIGN', 'McAuley', 'revolves', '12.68', 'Manhattan', 'entirely', 'relieve', '1983-85', 'flow', '*T*-26', '250', '3\\\\/8', 'minority-owned', 'interior', 'workplace', 'fabricate', 'Close', '93.3', 'sacrifice', 'Cleveland', 'responsible', 'few', 'follows', 'follow', '6.70', '*T*-149', 'Tip', 'concern', 'cold', 'troublesome', 'mortgage', 'saving', 'parties', 'Circle', 'Loews', 'precisely', '*T*-2', 'delays', 'good-hearted', 'railing', 'tanked', 'TO', 'violate', 'debenture', '5.7', 'one-yen', 'fast-food', 'fifth', 'Jack', 'holdings', 'Interviews', 'Synergistics', 'around', 'Samnick', 'unfairly', 'Can', 'retort', 'Controls', 'appliance', 'Murakami', 'pick-up', 'applied', 'Georgia-Pacific', 'favorable', 'finding', 'undertaking', 'budding', 'circuit-board', \"C'mon\", 'contract', 'Services', 'radioactivity', 'applicable', 'expires', 'paint', 'words', 'wrath', 'one-newspaper', 'uncomfortable', 'sweaty', 'except', 'Gaithersburg', 'partly', 'purely', 'disseminating', 'wrong', 'achieve', '360', 'classmates', 'workable', 'reduced', 'physics', 'oldest', 'Faulding', 'managers', 'procurement', 'rumored', 'unemployment', 'Platt', '*-6', 'churches', 'opinions', 'expense', 'Forster', 'perception', 'bitter', 'declared', 'roughhewn', 'exceeds', '*T*-119', 'fifth-grade', 'miscarriages', 'belfry', 'consomme', 'smoking', 'Gordon', 'Mrs', 'sulfur-dioxide', '*PPA*-2', 'kidney', 'Hiroshi', 'single-lot', 'Crash', 'Philadelphia-based', 'role', 'exporters', 'blackjack', 'compete', 'Lazzaroni', 'memory', 'Cup-Tote', 'grant', 'attempts', 'rope-sight', 'rusted', 'Barnett', 'financial-services', 'ordered', 'Harvard', '57.50', 'Swearingen', 'tablets', 'hands', 'wrecking', 'muscling', 'Floyd', 'compound', 'favorably', 'designation', 'protein', 'Baton', 'free-enterprise', 'partners', 'notch', 'cost-benefit', 'Gates-Warren', 'striving', 'freshman', '917', 'Rusty', '11-month-old', 'advertising', 'regular', 'heating', 'fought', 'told', 'supermarket', '*-164', 'deemed', 'larger-than-normal', 'Basin', 'Hormats', 'one', 'involve', 'solidarity', 'four-day', 'skin', 'directionless', 'military', 'objectives', 'brain', 'walls', 'steal', '57.7', '141.9', '*-156', 'gain', 'presidential', 'surfaced', 'slogan', '*T*-38', 'upstate', 'Westminster', 'giant', 'pressure', 'profit-taking', 'effective', 'log', 'decided', '*-38', 'Takeover', 'Private', '415.6', 'asked', 'Tache', 'Competes', 'shrinking', 'York-based', 'candidates', 'shopping', 'tunes', 'Although', 'Graduate', 'Lawless', 'Pro-forma', 'Moving', 'direct-mail', 'declaration', 'rubber', 'innovative', 'twice', '*RNR*-1', 'cigarettes', 'arrested', 'S.I.', 'Works', 'Driskill', 'unanimous', 'platitudes', 'short-term', 'triple', 'campus', 'Mayland', 'L.P.', 'earning', 'gross', 'straight', 'Great', '*T*-131', 'Corn', 'tissues', '45.2', 'emotions', 'travel', 'emerging', '82,389', 'shape', 'champions', 'banker', 'Hoylake', 'enjoyed', 'vacation', 'are', 'drastically', 'Electronics', 'Fourteen', 'Scannell', 'draw', 'from', 'Tramp', 'success', 'citing', 'auto', 'depositary', 'intrusions', 'Lyn', 'Budget', 'cadet', 'producers', 'J.L.', 'tapping', 'declined', '2', 'speak', 'proof', 'locally', 'free-lance', 'GenCorp', 'someone', 'durable-goods', '877,663', 'Control', 'hustlers', 'purchased', 'Lilly', 'denouncing', 'lobbies', 'Strindberg', 'neighbors', 'America', 'Traded', 'hard-charging', '*-32', 'brightened', 'Bass', 'promptly', 'Mexico', 'backing', 'uptick', 'Dill', 'ambassador', 'stellar', 'corn', 'northern', 'controls', 'Houghton', '227', 'anti-program', 'indicate', 'Reagan-Bush', '38.5', '*-102', 'TRUST', 'Hill', 'fault', 'martyr', 'parts-engineering', '27.1', 'photocopy', 'PTA', 'another', 'inches', 'make', 'Sayers', 'stimulated', 'Corp', 'dinner', '*T*-242', 'civil', 'excise', 'Travelers', 'tabloid', 'trivial', 'rooted', 'sorry', 'Jon', 'coaching', 'Haven', 'dispute', 'stockbrokers', 'racing', 'C.D.s', 'tailor-made', 'equipped', 'brokers', 'termed', 'Florio', 'participate', 'intellectual-property', '3.8', 'reform', 'ballot', 'exceeded', '1956', '*-52', 'There', 'factoring', 'surge', 'WAFA', 'Circulation', '5.4', 'sought', 'winners', 'crude', 'early-retirement', 'disclosures', 'Bugs', 'divided', 'Anything', '2.25', 'Trace', 'manner', 'recycled', 'TV', 'vortex', 'explaining', 'prestige', 'critics', '*T*-37', 'regulatory', 'simultaneously', 'monitor', '131.01', 'airports', 'Sulaiman', 'judgments', 'Kodansha', 'SEC', 'estate', '*T*-121', 'breakfast', '7\\\\/16', 'Retin-A', 'widow', '240', '2,410', 'veto', 'fixed', 'despite', 'Irvine', 'universities', 'agreed', 'Hold', 'London-based', 'opened', 'substantial', 'growers', 'SERVICES', 'Sydney', 'Majority', '*-90', 'exceedingly', 'stiff', 'congressman', 'maintenance', 'prefer', 'page', 'powers', 'asset-sale', 'litany', 'Atsushi', 'parched', 'Volatility', '8.47', '69-point', 'cop-killer', 'gains', 'discos', '8.30', 'An', 'generous', 'crews', 'Skills', 'culprit', 'medallions', '280', 'bless', 'sharper', 'Scott', 'grim', 'multiplying', 'fueling', 'answered', 'exercise', 'two-year', 'Lezovich', 'Died', 'microprocessors', 'marrow', 'camera', 'PAP', 'priced', 'elsewhere', 'able', 'than', 'IMSAI', '*-60', 'Embassy', 'profitably', 'Takes', '*T*-31', 'lying', '115', '*-108', 'Mara', 'inadequacy', 'bundling', 'Chicago', 'December', 'McGraw-Hill', 'exorbitant', 'wake', '103', 'Opus', '963', 'resonate', 'chary', 'added', 'thin', 'Pictures', 'CoreStates', 'Notes', '29.4', '-LCB-', '415', 'pretty', 'pledged', 'has', 'Behind', 'Rozell', 'hurt', 'tapes', 'cleanliness', '257', 'fellow', 'Prof.', 'hugging', 'Phelan', '2.65', 'five-cent', 'aide', 'existing', 'coordinate', 'hunker', 'consonant', 'redeeming', '6.25', '274', 'Brown', 'frustrating', 'Ill.', 'Eastern', '12-member', 'specific', '16.5', '38.875', 'Internatonal', 'executed', '*T*-171', 'OFFERED', 'big', 'endorsed', 'status', 'sensation', 'passenger', 'distribution', 'warn', 'newer', \"CREATOR'S\", 'reaped', 'Different', 'grain', 'Wadsworth', 'one-third', '170,000', 'Each', 'fans', 'Seattle-based', 'workforce', 'Consolidated', 'Jersey', 'ring', 'clubs', 'trains', 'FAX', 'balance', 'Mariotta', '295', 'professional', 'Cos.', '*-31', 'quantitive', 'alcohol', 'market', 'boarding', 'cake', 'several', '51', 'engaged', 'technique', 'deserve', 'lost', 'consist', 'permanent', 'lower-priority', 'meaning', 'District', 'Arlington', 'salable', 'preferences', 'madly', '1991', 'demonstrators', 'strong', 'Design', 'homosexual', 'achieved', 'Mortgage-Backed', 'astronomical', 'Or', 'male', 'alienated', 'Fujitsu', '1996', 'pointing', 'Ogilvy', 'circulated', 'simultaneous', 'cushioned', '*-117', 'Integra', '*-39', '13.65', 'fond', 'needed', 'yen-denominated', 'amicable', 'London', '*T*-204', 'S&P', 'front', 'duckling', 'humans', 'Latour', 'caretaker', 'dominant', 'economists', 'maze', 'stoked', 'save', '*-64', 'Baltimore', 'spoke', 'pattern', 'lesser', 'article', 'Germans', 'ringers', 'offenders', 'mid-1970s', 'joined', 'condition', 'detail', '*T*-115', 'hither', 'The', 'Contras', 'discarded', 'measured', 'industries', 'exercisable', 'especially', 'loyalty', 'conflict', '1.8415', 'courts', 'jostle', 'Organization', 'wrestling', 'amendments', 'plunge', '*T*-223', 'treats', 'wrenching', 'Catch-22', 'outlawing', 'Maryland', 'resubmit', 'wheel-loader', 'intelligence', 'ECONOMIC', '*T*-174', '7.2', '4.5', 'Michigan', 'publishing', 'eventually', 'Bricklayers', 'Interpublic', 'Huxtable', 'refused', 'failures', 'adds', 'constraints', 'Beirut', 'rebuffed', 'red-carpet', 'Prior', 'carrying', 'emphasized', 'Judah', 'scrutiny', 'transformed', 'B', 'Fax', 'Norwick', 'puts', 'Judiciary', 'Burgundy', 'worried', 'Turnaround', 'hospitable', 'fail', 'With', 'invite', '*-84', 'Beauty', 'sums', 'Saul', 'moreover', 'identical', 'No-Smoking', 'reeling', 'W.R.', 'shipbuilding', 'test-preparation', 'steep', 'Greenwich', 'unconstitutional', 'cites', 'proven', 'solely', 'big-time', 'grandfather', 'betrayer', 'inherently', '6.6', '90', 'Mead', 'tete-a-tete', 'then', 'long-tenured', 'God', 'City', '2.80', 'harmful', 'expressly', 'tailoring', '320', 'campaign', 'sexy', 'widget', 'After', 'fend', 'SAT', '*T*-7', '95', 'Virginia', 'Market', 'even', 'Share', 'Off-Track', 'pipeline', 'binders', 'neighborhoods', 'Earlier', 'competitive', 'Hampshire', 'felonies', 'both', 'Cartoonist', 'legislative', 'Huntsville', 'viewpoints', 'Toronto', 'Yamamoto', 'best-selling', 'minivans', 'inherent', 'whenever', 'summons', 'Pacific', 'extent', '8.55', 'independent', '179', 'years', 'Stieglitz', 'tag', 'inquiries', '*PPA*-1', 'Hitachi', 'gained', 'pumping', 'livelihood', 'residence', 'ventilated', 'Detroit', 'jeopardizing', 'Pick', 'buffet', 'Population', 'Argentine', 'Reached', '6,799', 'Aktiebolaget', 'scoffs', 'pace', 'complicated', '16,000', 'installed', 'born', 'export-oriented', 'finished', 'develop', '*T*-254', 'Marathon', '*T*-214', 'deserving', '116.9', 'WFRR', '177', 'headquarters', 'Goode', 'bang', 'M.D.', 'Bronx', 'Mannix', 'pipe', 'ORTEGA', 'won', '2.15', 'tense', \"'d\", 'youthful', 'spends', 'seats', 'Gillespie', 'emerge', '13,056', 'toll', 'swim', '36.9', 'Springfield', 'expressing', '1.35', 'logistical', 'skittishness', 'trimming', 'limitation', 'inquiring', 'Legislating', 'sends', 'premises', 'chemical', 'adapted', 'portion', 'fifth-largest', 'fallen', 'Show', 'squad', 'stockpiles', 'clients', 'unhappy', 'estimated', '*T*-173', 'Coincident', 'Chadha', '30,000', 'Appeals', 'money-losing', 'Gorbachev', 'corridors', 'aghast', '11\\\\/16', 'strategic', 'microwave', 'fighters', 'tracks', 'seven-yen', 'away', 'requests', '190-point', 'anemic', 'prospects', 'Cambridge', '8300s', 'beer', 'Rouge', 'mentioned', 'based', 'photographic', 'asserted', 'Mercedes', 'cloud', 'assembly', 'Board', 'fear', 'modification', 'boosted', 'conspicuous', '1990-91', 'restructured', 'handful', 'Institute', '2.87', '*T*-226', 'Turkey', 'Guinea', 'Dollar', 'new-car', 'findings', 'omitted', 'night', '*T*-167', 'Elmhurst', 'test-drive', '6.9', 'Daniel', '1.2', 'storage', 'weapon', 'heard', 'radio', 'regulating', 'denounce', '57', 'good-faith', 'tenth', 'Wayne', 'underwriter', 'Edwards', 'Egypt', 'intrusion', 'clean-up', 'autions', 'gave', 'canine', 'Products', 'mesothelioma', 'Coca-Cola', 'clarify', 'closely', 'privacy', '73', 'Also', 'demobilize', 'digs', 'caution', 'broad', 'anti-abortion', '180', 'impartial', 'growing', 'Dai-Ichi', 'machinists', '*RNR*-2', 'Zealand', 'Equal', 'MacDonald', 'tie-in', 'burden', 'politically', 'Milwaukee', 'April', 'withhold', 'FIRST', 'Derchin', 'really', '63.79', 'handed', 'handling', 'Card', 'mandates', 'acid-rain', 'puzzled', 'proponent', 'Pa', 'turn', 'Nesconset', 'Temple', 'Tray', 'leather', 'contingency-fee', 'landowners', 'program', 'reaction', 'finally', 'Paris', 'taper', '*T*-243', 'hopes', 'Chaplin', 'value', 'replacement', 'alcoholics', 'harped', 'Raymond', 'softening', 'appear', 'insinuating', 'ensure', 'chassis', 'suspect', 'fluctuation', '150.00', 'disposables', 'loyal', 'interview', 'Justice', 'LOAN', \"'ve\", 'supporters', 'Stock-index', 'administrative', 'Deane', 'complains', '51.6', 'pennies', 'numbered', 'economic', 'perceptions', 'betting', 'escape', 'democratic', '1997', 'merchandise', 'sweeten', '62', 'flexibility', 'override', 'Jones', 'Canepa', 'tailored', 'display', 'outsiders', '645,000', 'propose', 'clear', 'sufficient', 'pushing', 'Impact', 'premiums', '55', 'wines', 'ritual', 'station', 'Beall', '37-a-share', 'spend', 'Despite', '3.61', 'minus', '2.50', '*T*-99', 'label', 'for', 'cabinet', 'escaped', 'solicitation', '*-77', 'continuous', 'Sable', '16.05', 'lot', 'duck', 'restriction', 'trim', 'leaky', 'schools', 'lift', 'board', '*T*-81', 'green', '152,000', 'cities', 'modern', 'Circuit', 'Partnership', 'temptation', 'tightened', 'reminded', 'Scherer', 'derivatives', 'vacancy', 'frantic', 'Dallara', 'pound', 'upset', 'low-cost', 'scams', 'entertainment', '*T*-205', 'level', 'Bunny', 'Monetary', '2009', 'emerged', 'apparent', 'overruns', 'disruptive', 'strength', 'voters', 'arrangements', 'Payments', 'computer-system-design', '11,000', '2.62', '830,000', 'everywhere', 'financially', 'principals', 'vintage', 'crises', 'Rae', 'remarkable', 'migrate', 'unveiled', 'score', 'G', 'Intermediate', 'performing', 'Designated', 'abounding', 'parallel', 'underprivileged', 'Evidence', 'bribery', 'decrease', 'Major', 'facilitate', \"'S\", 'cloth', 'System', 'razor-thin', 'Fantasy', 'efficiencies', 'scaring', 'instead', 'greedy', 'repair', 'Eurobonds', 'finalized', 'mammoth', 'FOREIGN', 'Joel', 'creation', 'Generalized', 'Professors', 'consequence', 'insiders', '14.43', 'responding', 'Alfred', 'bearish', 'process', 'refunds', 'encourage', 'hero', 'Blackstone', 'Determining', 'anti-abortionists', 'Kerensky', 'necessities', 'publisher', 'royalty', 'flim-flammery', 'asbestos-related', 'sketching', 'baseball', 'cheerleaders', 'factor', '*T*-258', 'side-crash', 'Johnny', 'bring', 'hospital', 'two-year-old', 'desperately', 'suggested', 'Otero', 'asks', '*T*-123', '8.04', 'amass', 'void', 'Thursday', 'ACQUISITION', 'bushel', 'merchants', 'responsive', 'interviewed', 'noticing', 'auspices', 'slate', 'PAPER', '1,400', 'win', '45,000', 'deny', 'Yasser', 'IRAs', 'vinyl', 'contrary', 'Soon', 'navigation', 'Follow-up', 'fawning', 'floors', 'formed', 'difficulty', 'points', 'bitterness', 'secret', 'disagreement', 'power', 'dropped', 'concentrate', 'conversion', 'trademark', 'conflicts', 'truck', '77.56', 'cleaner', 'buying', '7.15', 'Smaby', 'too', 'policies', 'Desai', 'Take', '301', 'resolve', 'vicissitudes', 'Klauser', 'Richebourg', 'charged', 'construed', 'reinstatement', 'prompted', 'small', 'concentrated', 'returned', 'Asians', 'Carlton', 'severe', 'de', 'Gregory', 'day', 'that', 'item', 'Huge', 'ratified', 'Droz', 'seeing', 'Butler', 'romanticized', 'percent', 'encircling', 'test', 'At', 'Open', '83,206', 'C$', '107.03', 'organizations', 'unwary', 'eases', 'heated', 'Carnival', 'Corazon', 'AG', 'How', 'Ala.', 'overproduction', 'Camilli', 'soybeans', 'F-series', 'lease', 'misdemeanor', 'deviation', 'rarely', 'mention', 'places', 'things', 'Unlike', 'million', 'acquisitions', 'single-A', 'home', 'Government', 'Co', 'Secretary', 'tire', '387.8', 'Closes', 'friendship', 'Tenn.', 'computer-generated', 'attempt', 'newcomer', 'rule', 'Velcro', 'Ministry', 'foreigners', 'privately', 'move', 'faced', 'purse', 'quality', 'eat', 'Sierra', 'barely', 'dominates', '2.29', 'curly', 'they', 'celebrity', 'shipments', 'estimates', 'unpublished', 'agency', 'jumping', 'ballplayers', 'mutual', '108', 'weird', 'magazines', 'interventions', 'maintained', 'gunship', 'Needham', '&', 'characterized', 'eager', 'usual', 'talking', 'prospectively', 'staid', '7.458', 'syndicate', '31', 'Economic', 'Lorillard', 'Gates', 'Jay', 'indulging', 'blind', 'insurance', 'Derek', 'adjusted', '*T*-154', 'queuing', 'high-rate', 'fairness', 'Copperweld', 'Marcus', 'established', 'reached', 'Dresser', 'cleared', 'Voice', 'Shaw', 'Altogether', 'rushed', 'battles', 'appropriations', 'hung', 'Teacher', 'ago', 'YMCA', 'NESB', 'takings', 'rising', 'recede', 'no-confidence', 'Soldado', 'fuller', '37', 'somebody', 'loss', 'herself', '13\\\\/16', 'Dakotas', 'held', 'unsettling', 'recession', 'bond', 'Voters', 'otherwise', 'prominently', 'calls', 'U.N.-supervised', 'Chuck', '*T*-51', 'ongoing', 'Martin', 'pleaded', 'provide', 'Aquino', 'five-point', 'Marge', 'effort', '26,000', 'Manufacturers', '672', 'Oct.', '*-96', 'bar', 'Billings', 'apply', 'Fifteen', 'should', 'became', '26.5', 'Telegraph', 'sights', 'memories', '1990s', 'converting', '0.50', 'newspaper', 'redeem', 'healthy', 'stirred', 'consisting', 'competitions', 'Raton', 'Furukawa', 'commerce', 'complaints', 'assembly-line', 'automotive-lighting', 'Friedrichs', 'tree', 'learning', 'hour', 'killing', 'judgment', 'Experts', 'chamber', 'Blue', 'viewers', 'Fuentes', 'Backe', 'seriously', 'refocusing', '1979', 'fraud', 'quantities', 'cruise', 'Irving', 'Still', 'deputy', 'reflected', 'attacking', 'treat', 'Palestinian', 'phasing', 'Reserves', 'discount', 'confirms', 'drunk', 'Yang', 'temporarily', 'standardized', 'Business', 'laws', 'neighboring', 'consistently', '50', 'plaintive', 'issuer', 'copying', '*T*-111', 'structured', 'skirmishes', 'addresses', 'senses', 'understanding', 'citizens', 'chose', 'am', 'sound', 'stations', 'outraged', 'downfall', 'Hampton', 'pet', 'rulings', 'Shortly', 'hundred', 'drove', 'mean', 'detailed', 'Advance', 'millions', 'slippery', 'altogether', 'deterioration', '434.4', 'Kobe', 'Waterloo', 'country', 'Sumitomo', 'wrists', 'cash-and-stock', 'Simmons', 'match', 'climbed', 'Test', '191.9', 'spun', 'insane', 'Fulbright', 'aces', 'incest', 'WayMar', 'Hutton', 'airline', 'Aloha', 'Stockholders', 'Calif.-based', '18', 'You', 'Stevenson', '*-48', 'first-time', 'Constitution', 'freedom', 'aides', 'T.', 'giving', 'Borough', 'pressures', 'consumer-driven', 'crowded', 'Chinchon', '*T*-251', 'self-aggrandizing', 'learned', 'spectacular', 'opportunities', 'non-encapsulating', 'stock-picking', 'brokering', 'brilliantly', 'hottest', 'Legg', 'Regulatory', 'overstated', 'deviant', '*-138', '*T*-244', 'TRIAL', 'tote', 'cornerstones', 'Shokubai', 'surged', 'Public', 'cash', 'occasionally', 'diverse', 'hoopla', 'insurer', 'six-bottle', 'Austin', 'catch', 'impressive', 'ultimately', 'gauge', 'Stirlen', 'candidate', 'partisans', 'hay', 'Donald', 'threatened', 'security', 'attributed', 'guild', 'forecasting', 'mega-stadium', 'donor', 'Change-ringing', 'breathed', 'Exxon-owned', 'purchases', 'equals', 'advocated', 'Beach', 'near-record', 'CS', 'pre-tax', 'redeploy', 'Dan', '1:30', 'non-religious', 'Tailors', 'holds', 'defense', 'prevent', 'Maughan', 'Planters', 'Blancs', 'likeness', 'party', 'Lauderhill', 'enthusiasm', 'Krenz', '*-55', 'Arbitraging', '*T*-16', 'specialize', 'measurement', 'merged', '7,500', 'stays', '99', 'priciest', 'good', 'Horsham', 'motor', '266', 'Inland', 'harbinger', '148', 'beers', 'preventing', 'Environment', '*-166', 'Rockford', 'basic', 'N.V', '1.49', 'substantially', 'evil', 'Riese', 'implement', 'slew', '8.53', 'CALL', 'Washington-based', 'were', '1990', 'Nielsen', 'Review', 'flows', 'figures', '18.3', 'New', 'student', 'agrees', 'predictably', 'attracting', 'reckless', 'poignant', 'intoxication', 'adapting', 'Confederation', 'Alysia', 'Convention', 'jointly', 'Scypher', 'agreeing', 'allowed', 'associates', '49', 'Image', 'leveraging', 'Treasury', 'have', '60', 'calling', 'open-top', '64', 'appealing', 'management', 'SHAREDATA', 'you', 'Perestroika', '8.07', 'antitrust-law', 'Birmingham', 'bricks', '133', 'shut', 'semiconductor', 'Mining', 'Possibly', 'governors', 'McAlpine', 'purchasing', 'Fernando', 'terms', '47', 'Human', 'Nelms', 'longest', 'Totally', '1,460', '*T*-18', 'Bronces', 'stock-selection', '260', 'Duchossois', 'do', 'Hymowitz', 'miles', '16.7', 'retailing', 'complexes', '*T*-140', 'ruling', 'proposed', 'fighting', 'Transportation', 'improvements', 'center', 'incentive-backed', 'Performing', 'Warrenton', 'appreciation', 'degree', 'killings', '59-year-old', 'Argentina', 'Najarian', 'Edward', 'secede', '8.19', 'worth', 'strict', '30,841', 'external', 'pall', 'become', 'addition', 'increased', 'prying', 'Affairs', '9.3', 'fretted', 'lending', 'Cabernet', '*-34', 'Heights', 'trying', 'C-130', 'shareholder-rights', 'bust', 'broadened', '7.65', 'EXCHANGE', '*T*-77', 'Brace', 'life-style', 'unleashed', 'strong-willed', 'unpopularity', 'broadcasts', 'annoyed', 'Beijing', 'dumped', 'deprived', 'meant', '7.422', 'leases', 'dark', 'mid-October', 'reducing', 'campaigning', 'afford', 'hefty', 'Banque', 'fingers', 'featured', 'Lane', 'practices', 'reclaim', 'distributor', '*T*-101', 'Reddington', 'aircraft', 'Common', 'sometimes', 'alleviate', 'benefit', 'Stung', 'Gasoline', 'Like', 'lure', 'unrealistically', 'Motors', 'commission', '50\\\\/50', 'slated', 'underpin', 'radio-station', '721', 'life-insurance', '10.2', 'Home', 'Longer', 'Street', 'Sweden', '*T*-224', 'William', 'One', '7.52', 'quite', 'House-Senate', 'replicate', 'forcing', 'Chinese', 'Data', 'sacks', 'averted', 'tigers', 'Mayor', 'Colleges', 'speeches', 'curb', 'fragmentation', 'budget', 'negotiations', 'separation', '210', 'flirted', 'painted', \"O'Brien\", '3.18', 'else', '3.9', 'juggernaut', 'Plantation', '339', 'enough', '*T*-155', 'gelatin', 'lower', '*T*-181', 'student-test', 'faithful', 'Kathleen', 'stance', 'permits', 'opposed', 'furor', 'Nasdaq', 'fleeting', '13', 'Koizumi', 'project', '...', 'Ports', 'Consent', 'calculated', 'Blunt', 'bilingual', 'ways', 'file', 'CAT', 'thirtysomething', 'justice', 'running', 'Country', 'electrical', 'Bernstein', 'governor', '18.95', 'category', 'juvenile', 'grows', 'owner', 'black', 'enjoy', 'bankrupt', 'House', 'adverse', 'direction', 'proposal', 'influencing', '5.70', 'Takashima', '3.625', \"Dunkin'\", 'landing', 'diseases', '42-year', '1.7', 'arrived', '*-7', 'electronic', '*-130', '149.9', 'expenditures', 'French', 'warrant', 'READY', 'counseling', '*-97', 'barges', 'tours', 'income', '313', 'Fairless', 'duly', 'corrected', 'glitches', 'quashing', 'stirrings', 'E.C.', 'Linda', '135', 'impudent', 'remodeling', 'Emile', '89.9', 'Marie', 'cycle', 'collar', 'dances', 'tormentors', 'behavior', 'excess', 'reformers', 'distant', 'proved', 'Areas', 'confused', 'compensate', 'dominated', 'Haut-Brion', 'Redevelopment', 'planes', 'vicars', 'one-hour', 'Thunderbird', 'Farm', 'faster', 'Aslacton', 'morale-damaging', 'Hanover', 'connected', 'cheating', 'dismiss', 'Miller', 'shore', 'soon', 'Islamabad', 'Goldman', 'sending', 'inauspicious', 'enabling', 'Wilson', 'Elizabeth', 'When', '200', 'rope', 'cheerleading', 'longer-term', 'letter-writing', 'slowing', 'participants', 'goodwill', 'S.p', '*-145', 'aesthetic', 'Andrew', '*ICH*-1', 'Berger', '*T*-30', 'usually', 'IRS', 'afraid', 'requirement', 'outbid', '250,000', '154,240,000', 'Explorer', 'riskier', 'results', '149', 'rate', 'clicked', 'offsetting', 'risks', 'incisions', 'Norwest', 'beheading', 'improper', 'shared', 'preset', 'earned', 'like', 'upstream', 'Neither', 'Wohlstetter', 'foundations', '1973', 'Prize', 'popularly', 'joining', 'began', 'their', 'skyrocketed', 'felony', 'Polls', 'crying', 'generally', 'sports-oriented', 'Backer', '100-share', 'exposed', 'Lehman', 'parts', 'rival', 'B-1B', 'Huppert', 'Remember', 'slump', 'slip', '14.00', 'Section', 'low-ball', 'range', 'Schwab', 'similar', 'previously', 'GAF', 'Instead', 'decliners', 'beneficiary', '620', '13.90', 'assert', 'confidant', 'livestock', 'measures', '114', 'retractable', 'Finland', 'Weisfield', 'Pressures', 'USA', '913', 'tradition', 'INGERSOLL-RAND', 'stated', 'processes', '*T*-227', 'images', 'unsolicited', 'violence', 'stadium', 'deem', 'money-fund', 'generation', '1.65', 'but', 'tax', 'Aug.', 'within', 'red-and-white', 'guilders', 'Ricken', 'looming', 'collected', 'Fears', '1987', 'centennial', 'playwright', 'spectrum', 'Petersen', 'hobbyists', 'golden', 'Jaffray', '*T*-127', 'seasoned', 'Wamre', '150-point', 'enormous', 'patient', 'rated', 'McDonald', 'push', 'best-seller', 'ex-dividend', 'processors', '1.8', 'Solomonic', '153.3', 'Woodcliff', 'backyard', 'politics', 'Value', '18-year-old', 'beer-belly', 'primarily', 'eligible', 'underwent', 'refunding', 'concluded', 'Brunello', 'contracts', 'suspension', 'partner', 'allocated', 'unload', 'getting', 'investing', 'refunded', 'regimented', 'cents', '20,000', 'CIA', 'outstanding', 'fired', '188.84', 'less-serious', 'injecting', 'Phipps', 'Joseph', 'book', 'English', 'Puerto', 'restructure', 'receive', 'curtail', 'Park', 'THREE', 'Lights', 'craze', 'diminish', 'revenue-desperate', 'nervousness', 'confirmed', 'client', 'Rill', 'protect', 'Terrence', 'Bermuda', 'Jaguar', 'whose', 'criticized', 'cleaner-burning', 'schoolteacher', 'hint', 'Winning', 'Danube', 'spurned', 'presented', 'barrier', 'inflated', 'Nomura', 'body', 'Domaine', 'judged', 'box', 'Ronald', 'newsweekly', '1989-90', 'boast', 'Dodger', 'Sacramento', 'occurs', 'doctor', 'importer', 'Containers', 'crocidolite', 'totaling', 'Austria', 'Occupational', 'responsibilities', 'freeway', '40-megabyte', 'swaps', 'classical', 'closing', 'orchestrated', 'sprightly', 'Inventories', '72.7', 'scared', 'tubular', 'profitable', 'mode', 'Peck', 'D.C.', 'drifted', 'up', 'inoperative', 'lottery', 'acquisition', 'inverted', 'worksheets', 'finest', '8.5', 'yearly', 'Michelin', 'fatalities', 'forward', '129.91', '*-118', 'Roger', 'twinned', 'asset-valuation', 'Peter', 'additional', '319.75', 'right', 'Minn.', 'conference', 'deeds', 'confrontational', 'ancestry', 'relating', '3.7', 'flux', 'bomb', '*T*-218', 'arbs', 'source', 'bell', 'Texaco', 'co-author', 'shipyard', '*-104', 'directed', 'shop', 'open', 'individuals', 'fiber-optic', \"'\", 'absurd', 'murdered', '*T*-200', '4.3', 'switch', '36-minute', 'mill', 'train', 'before', 'received', 'seen', 'struggle', 'Iowa', 'possibility', '175', 'Ideas', 'METALS', 'chocolate', '1955', 'vague', 'ambitious', 'Buick', 'Icahn', 'policy', 'declining', 'opposition', 'nervous', 'state-supervised', 'cocky', 'Ruth', 'actively', 'materials', 'exists', 'audit', 'disadvantage', 'Magna', 'burn', 'environments', 'concerned', 'She', 'impression', 'shed', 'Countries', 'devices', 'discontinuing', 'unless', '59.6', 'get', 'Chardonnay', 'kit', 'Bolivia', 'beverage', 'notion', 'relatively', 'Columbia', '*T*-169', 'through', 'reversal', 'Thus', 'fined', '*T*-57', 'ending', 'ratepayers', 'institutions', '2017', 'cards', 'prison', 'discretion', 'rich', 'providing', '321', 'explains', 'blue-chips', '*T*-139', 'brings', 'forgotten', 'indirect', 'Much', '*-131', 'Left', 'Fidelity', 'denied', '12\\\\/32', '415.8', 'challenge', 'begun', 'Rally', '8.14', 'sheaf', 'Geneva', 'convenient', 'clouds', 'want', '*T*-36', 'merit', 'punitive', 'bombers', 'Corps', 'listed', 'tea', 'polls', 'Pauline', '*T*-235', '1980s', 'discussions', '19', 'relationship', 'super-absorbent', 'drift', 'recovering', 'fits', 'Occidental', 'hysteria', '*T*-25', 'prize-fighter', 'avenge', 'debacle', '0.28', 'recognize', 'conforms', 'Gartner', 'Dunn', 'visits', 'single', 'Theodore', 'inched', 'interpretation', 'BMP-1', 'electorate', '2.8', '51.25', 'Crown', 'normally', 'assurance', '59.9', 'initiating', 'narrow', 'reporters', 'slowdown', 'baby', 'counterweight', 'foods', 'brunt', 'Investors', 'crystals', 'banning', 'Orleans-based', 'rationed', 'priority', 'airplane', 'scrambling', 'Late', 'fret', 'sounded', 'thing', 'enable', 'eliminated', 'still', '176', 'males', 'small-company', 'Catholic', 'due', 'implements', 'entitled', 'skipped', 'shall', 'inception', 'opening', 'arise', 'rumor', 'ambassadors', 'matter', 'Charter', 'walk', 'image', 'scandal', 'Marina', '*T*-71', 'Patch', 'underline', 'odd-sounding', 'Americans', 'rigged', 'food', '1.64', 'issuers', 'touchy', 'lunch', '38.3', 'School', 'Besides', 'implication', 'gambler', 'preventative', 'parent', 'Cray', '734.9', '*T*-122', 'contractor', 'face', 'Fountain', 'punish', '-RRB-', 'rulers', 'patients', 'harass', 'retail', 'positioned', '*-43', 'powder', 'spread', 'medicine', 'clamped', 'Spiegel', 'drearier', 'church-goers', 'Cotran', 'equaling', 'run-down', 'high-minded', '*-5', 'Vos', 'Guarantee', 'bankers', '20.5', 'pending', 'cartoonist', 'four-foot-high', 'geography', 'Piper', 'political', 'cautious', 'Boston', 'regrettable', 'path', 'roof-crush', 'tidily', 'Perch', 'pretax', 'Henry', 'bilateral', 'Precious', 'Ginnie', 'la', 'high-risk', 'ward', 'risk-free', 'neoprene', 'credibility', 'girl', 'efficiency', 'male-dominated', 'Nilson', 'circuit', 'keep', 'fixed-rate', 'branches', 'protests', 'recruiting', 'fills', 'Stamford', 'lacked', 'entered', 'Marty', 'cascading', 'R.', 'filters', 'beds', 'Traditionally', 'PETS', 'enclosed', 'advisory', '57.6', 'freedoms', 'them', 'withdrawn', 'obtain', 'p.m.', 'conducted', '*T*-116', 'one-month', 'three-year', 'moderate', 'index-arbitrage', '4,393,237', 'alarmed', 'kept', 'environment', 'catch-up', '*T*-12', '98', 'Revenue', 'response', 'answer', 'booklet', '85.7', 'pollution', 'conduct', '550,000', '1953', 'highly', 'improving', 'space', 'determined', 'walking', 'Sauternes', 'swings', 'perceives', 'depended', 'initial', 'approach', 'Society', 'despised', '11.95', '1975', 'stars', 'hazardous', 'Robbie', 'films', 'associate', 'Session', '107', 'invent', 'block', 'yet-to-be-formed', 'botched', '5.9', 'lawmaking', 'card-member', 'city-owned', 'Duluth', '2.2', 'ready', 'brand', 'Meanwhile', 'repriced', 'honorably', 'exceptionally', 'spook', '*T*-142', 'Nylev', 'been', 'definitive', '95.09', 'co-owner', 'phony', 'active', 'barometer', 'representative', '54', 'car-care', 'Rieslings', 'fast', 'rural', 'studied', 'Malaysia', 'introduced', 'preliminary', 'exceeding', 'inspired', 'front-seat', 'reaching', 'While', 'awarding', 'popular', 'claimed', 'submit', 'Cabernets', 'disagree', 'Partly', 'idea', 'avoiding', 'injury', 'historical', 'malnutrition', 'dinosaurs', 'Soups', 'three-quarters', 'authorizes', '58', 'ENERGY', 'attorneys', 'Virginians', 'facilities', '*T*-50', 'Ordnance', 'store', 'indefinitely', 'Dugdale', 'butterfly', 'shaded', 'visiting', 'emotional', 'Magleby', 'responsibility', 'Industries', 'semicircular', 'Perritt', 'phrase', 'redeemed', 'media', 'hauled', 'reciting', 'Crum', 'altruistic', 'Brunei', 'Dutch', 'recorded', 'tissue', 'Pate', '31-year-old', '271,124', 'accepted', '600', 'occurrences', 'recovered', 'maintaining', '0.99', 'Kingsbridge', 'distinct', 'surprise', 'did', 'Boone', 'Macmillan\\\\/McGraw', 'friction', 'adequate', 'Dividend', 'ninth', 'resulted', 'downtown', 'Carballo', 'expectation', '1977', 'Hot', '3:15', 'heavy-truck', 'Hadson', 'Long-term', 'down', '2.95', 'handles', 'Everybody', 'showing', 'dust', 'untrained', 'ministers', 'visit', 'devouring', 'limited', 'speedway', 'architect', 'choosing', 'diaper', 'Junk-bond'}\n"
     ]
    }
   ],
   "source": [
    "print(V)"
   ]
  },
  {
   "cell_type": "code",
   "execution_count": 9,
   "metadata": {},
   "outputs": [
    {
     "data": {
      "text/plain": [
       "12"
      ]
     },
     "execution_count": 9,
     "metadata": {},
     "output_type": "execute_result"
    }
   ],
   "source": [
    "# number of Unique tags\n",
    "T = set([pair[1] for pair in train_tagged_words])\n",
    "len(T)"
   ]
  },
  {
   "cell_type": "code",
   "execution_count": 10,
   "metadata": {},
   "outputs": [
    {
     "name": "stdout",
     "output_type": "stream",
     "text": [
      "{'ADP', 'PRT', 'PRON', 'NOUN', 'VERB', 'DET', 'ADJ', 'X', 'CONJ', 'NUM', '.', 'ADV'}\n"
     ]
    }
   ],
   "source": [
    "# Print all the tags used in file \n",
    "print(T)"
   ]
  },
  {
   "cell_type": "markdown",
   "metadata": {},
   "source": [
    "as mentioned in assignment there are total 12 tags "
   ]
  },
  {
   "cell_type": "markdown",
   "metadata": {},
   "source": [
    "### Build the vanilla Viterbi based POS tagger"
   ]
  },
  {
   "cell_type": "markdown",
   "metadata": {},
   "source": [
    "### Emission Probabilities"
   ]
  },
  {
   "cell_type": "code",
   "execution_count": 11,
   "metadata": {},
   "outputs": [],
   "source": [
    "# computing P(w/t) and storing in T x V matrix\n",
    "t = len(T)\n",
    "v = len(V)\n",
    "w_given_t = np.zeros((t, v))"
   ]
  },
  {
   "cell_type": "code",
   "execution_count": 12,
   "metadata": {},
   "outputs": [],
   "source": [
    "# compute word given tag: Emission Probability\n",
    "def word_given_tag(word, tag, train_bag = train_tagged_words):\n",
    "    tag_list = [pair for pair in train_bag if pair[1]==tag]\n",
    "    count_tag = len(tag_list)\n",
    "    w_given_tag_list = [pair[0] for pair in tag_list if pair[0]==word]\n",
    "    count_w_given_tag = len(w_given_tag_list)\n",
    "    \n",
    "    return (count_w_given_tag, count_tag)"
   ]
  },
  {
   "cell_type": "markdown",
   "metadata": {},
   "source": [
    "### Transition Probabilities"
   ]
  },
  {
   "cell_type": "code",
   "execution_count": 13,
   "metadata": {},
   "outputs": [],
   "source": [
    "# compute tag given tag: tag2(t2) given tag1 (t1), i.e. Transition Probability\n",
    "\n",
    "def t2_given_t1(t2, t1, train_bag = train_tagged_words):\n",
    "    tags = [pair[1] for pair in train_bag]\n",
    "    count_t1 = len([t for t in tags if t==t1])\n",
    "    count_t2_t1 = 0\n",
    "    for index in range(len(tags)-1):\n",
    "        if tags[index]==t1 and tags[index+1] == t2:\n",
    "            count_t2_t1 += 1\n",
    "    return (count_t2_t1, count_t1)"
   ]
  },
  {
   "cell_type": "code",
   "execution_count": 14,
   "metadata": {},
   "outputs": [],
   "source": [
    "# creating t x t transition matrix of tags\n",
    "# each column is t2, each row is t1\n",
    "# thus M(i, j) represents P(tj given ti)\n",
    "\n",
    "tags_matrix = np.zeros((len(T), len(T)), dtype='float32')\n",
    "for i, t1 in enumerate(list(T)):\n",
    "    for j, t2 in enumerate(list(T)): \n",
    "        tags_matrix[i, j] = t2_given_t1(t2, t1)[0]/t2_given_t1(t2, t1)[1]"
   ]
  },
  {
   "cell_type": "code",
   "execution_count": 15,
   "metadata": {},
   "outputs": [
    {
     "data": {
      "text/plain": [
       "array([[1.68929752e-02, 1.38992839e-03, 7.00310096e-02, 3.20966542e-01,\n",
       "        8.33956990e-03, 3.24708641e-01, 1.07024483e-01, 3.44274566e-02,\n",
       "        9.62258084e-04, 6.22260235e-02, 3.90249118e-02, 1.40062012e-02],\n",
       "       [2.00988464e-02, 1.64744642e-03, 1.77924223e-02, 2.47775942e-01,\n",
       "        4.05271828e-01, 9.78583172e-02, 8.30313042e-02, 1.35090612e-02,\n",
       "        2.30642501e-03, 5.66721596e-02, 4.38220762e-02, 1.02141676e-02],\n",
       "       [2.29709037e-02, 1.30168451e-02, 7.65696773e-03, 2.10949466e-01,\n",
       "        4.85451758e-01, 9.95405857e-03, 7.31240436e-02, 8.99693742e-02,\n",
       "        5.35987737e-03, 6.50842255e-03, 4.09647785e-02, 3.40735056e-02],\n",
       "       [1.76513597e-01, 4.33971919e-02, 4.60661016e-03, 2.63563901e-01,\n",
       "        1.47667453e-01, 1.29423812e-02, 1.22477328e-02, 2.91751977e-02,\n",
       "        4.26659845e-02, 9.54226404e-03, 2.40603983e-01, 1.70737058e-02],\n",
       "       [9.20216888e-02, 3.06738969e-02, 3.57862115e-02, 1.10069714e-01,\n",
       "        1.69248641e-01, 1.34391949e-01, 6.49883822e-02, 2.17505813e-01,\n",
       "        5.57707204e-03, 2.28505041e-02, 3.49341594e-02, 8.19519758e-02],\n",
       "       [9.53991059e-03, 2.41516726e-04, 3.74350930e-03, 6.38087213e-01,\n",
       "        3.98502611e-02, 5.67564322e-03, 2.04323143e-01, 4.54051457e-02,\n",
       "        4.83033451e-04, 2.22195387e-02, 1.79929957e-02, 1.24381110e-02],\n",
       "       [7.82665983e-02, 1.07101668e-02, 3.29543574e-04, 6.99621022e-01,\n",
       "        1.16987973e-02, 4.94315382e-03, 6.64030313e-02, 2.10907888e-02,\n",
       "        1.69714950e-02, 2.12555602e-02, 6.39314577e-02, 4.77838190e-03],\n",
       "       [1.42584339e-01, 1.85232341e-01, 5.55378757e-02, 6.23806491e-02,\n",
       "        2.03851044e-01, 5.47422022e-02, 1.71865057e-02, 7.63844699e-02,\n",
       "        1.06619988e-02, 2.86441762e-03, 1.63590074e-01, 2.49840859e-02],\n",
       "       [5.25337048e-02, 4.64900024e-03, 5.81125058e-02, 3.49139929e-01,\n",
       "        1.56671315e-01, 1.21338911e-01, 1.18084610e-01, 8.83310102e-03,\n",
       "        4.64900048e-04, 3.99814025e-02, 3.48675027e-02, 5.53231053e-02],\n",
       "       [3.60333547e-02, 2.65038721e-02, 1.48898154e-03, 3.50208461e-01,\n",
       "        1.87611673e-02, 3.27575929e-03, 3.42465751e-02, 2.10541993e-01,\n",
       "        1.36986300e-02, 1.84931502e-01, 1.17331743e-01, 2.97796307e-03],\n",
       "       [9.13422629e-02, 2.42740265e-03, 6.63490072e-02, 2.22242206e-01,\n",
       "        8.90946686e-02, 1.73334539e-01, 4.39629592e-02, 2.69711409e-02,\n",
       "        5.75384349e-02, 8.10033232e-02, 9.33201462e-02, 5.23240119e-02],\n",
       "       [1.18582316e-01, 1.42431268e-02, 1.49055980e-02, 3.14673744e-02,\n",
       "        3.43491226e-01, 6.98906928e-02, 1.29181847e-01, 2.31864862e-02,\n",
       "        6.95594586e-03, 3.04736663e-02, 1.37131497e-01, 8.04902315e-02]],\n",
       "      dtype=float32)"
      ]
     },
     "execution_count": 15,
     "metadata": {},
     "output_type": "execute_result"
    }
   ],
   "source": [
    "tags_matrix"
   ]
  },
  {
   "cell_type": "code",
   "execution_count": 16,
   "metadata": {},
   "outputs": [
    {
     "data": {
      "text/html": [
       "<div>\n",
       "<style scoped>\n",
       "    .dataframe tbody tr th:only-of-type {\n",
       "        vertical-align: middle;\n",
       "    }\n",
       "\n",
       "    .dataframe tbody tr th {\n",
       "        vertical-align: top;\n",
       "    }\n",
       "\n",
       "    .dataframe thead th {\n",
       "        text-align: right;\n",
       "    }\n",
       "</style>\n",
       "<table border=\"1\" class=\"dataframe\">\n",
       "  <thead>\n",
       "    <tr style=\"text-align: right;\">\n",
       "      <th></th>\n",
       "      <th>ADP</th>\n",
       "      <th>PRT</th>\n",
       "      <th>PRON</th>\n",
       "      <th>NOUN</th>\n",
       "      <th>VERB</th>\n",
       "      <th>DET</th>\n",
       "      <th>ADJ</th>\n",
       "      <th>X</th>\n",
       "      <th>CONJ</th>\n",
       "      <th>NUM</th>\n",
       "      <th>.</th>\n",
       "      <th>ADV</th>\n",
       "    </tr>\n",
       "  </thead>\n",
       "  <tbody>\n",
       "    <tr>\n",
       "      <th>ADP</th>\n",
       "      <td>0.016893</td>\n",
       "      <td>0.001390</td>\n",
       "      <td>0.070031</td>\n",
       "      <td>0.320967</td>\n",
       "      <td>0.008340</td>\n",
       "      <td>0.324709</td>\n",
       "      <td>0.107024</td>\n",
       "      <td>0.034427</td>\n",
       "      <td>0.000962</td>\n",
       "      <td>0.062226</td>\n",
       "      <td>0.039025</td>\n",
       "      <td>0.014006</td>\n",
       "    </tr>\n",
       "    <tr>\n",
       "      <th>PRT</th>\n",
       "      <td>0.020099</td>\n",
       "      <td>0.001647</td>\n",
       "      <td>0.017792</td>\n",
       "      <td>0.247776</td>\n",
       "      <td>0.405272</td>\n",
       "      <td>0.097858</td>\n",
       "      <td>0.083031</td>\n",
       "      <td>0.013509</td>\n",
       "      <td>0.002306</td>\n",
       "      <td>0.056672</td>\n",
       "      <td>0.043822</td>\n",
       "      <td>0.010214</td>\n",
       "    </tr>\n",
       "    <tr>\n",
       "      <th>PRON</th>\n",
       "      <td>0.022971</td>\n",
       "      <td>0.013017</td>\n",
       "      <td>0.007657</td>\n",
       "      <td>0.210949</td>\n",
       "      <td>0.485452</td>\n",
       "      <td>0.009954</td>\n",
       "      <td>0.073124</td>\n",
       "      <td>0.089969</td>\n",
       "      <td>0.005360</td>\n",
       "      <td>0.006508</td>\n",
       "      <td>0.040965</td>\n",
       "      <td>0.034074</td>\n",
       "    </tr>\n",
       "    <tr>\n",
       "      <th>NOUN</th>\n",
       "      <td>0.176514</td>\n",
       "      <td>0.043397</td>\n",
       "      <td>0.004607</td>\n",
       "      <td>0.263564</td>\n",
       "      <td>0.147667</td>\n",
       "      <td>0.012942</td>\n",
       "      <td>0.012248</td>\n",
       "      <td>0.029175</td>\n",
       "      <td>0.042666</td>\n",
       "      <td>0.009542</td>\n",
       "      <td>0.240604</td>\n",
       "      <td>0.017074</td>\n",
       "    </tr>\n",
       "    <tr>\n",
       "      <th>VERB</th>\n",
       "      <td>0.092022</td>\n",
       "      <td>0.030674</td>\n",
       "      <td>0.035786</td>\n",
       "      <td>0.110070</td>\n",
       "      <td>0.169249</td>\n",
       "      <td>0.134392</td>\n",
       "      <td>0.064988</td>\n",
       "      <td>0.217506</td>\n",
       "      <td>0.005577</td>\n",
       "      <td>0.022851</td>\n",
       "      <td>0.034934</td>\n",
       "      <td>0.081952</td>\n",
       "    </tr>\n",
       "    <tr>\n",
       "      <th>DET</th>\n",
       "      <td>0.009540</td>\n",
       "      <td>0.000242</td>\n",
       "      <td>0.003744</td>\n",
       "      <td>0.638087</td>\n",
       "      <td>0.039850</td>\n",
       "      <td>0.005676</td>\n",
       "      <td>0.204323</td>\n",
       "      <td>0.045405</td>\n",
       "      <td>0.000483</td>\n",
       "      <td>0.022220</td>\n",
       "      <td>0.017993</td>\n",
       "      <td>0.012438</td>\n",
       "    </tr>\n",
       "    <tr>\n",
       "      <th>ADJ</th>\n",
       "      <td>0.078267</td>\n",
       "      <td>0.010710</td>\n",
       "      <td>0.000330</td>\n",
       "      <td>0.699621</td>\n",
       "      <td>0.011699</td>\n",
       "      <td>0.004943</td>\n",
       "      <td>0.066403</td>\n",
       "      <td>0.021091</td>\n",
       "      <td>0.016971</td>\n",
       "      <td>0.021256</td>\n",
       "      <td>0.063931</td>\n",
       "      <td>0.004778</td>\n",
       "    </tr>\n",
       "    <tr>\n",
       "      <th>X</th>\n",
       "      <td>0.142584</td>\n",
       "      <td>0.185232</td>\n",
       "      <td>0.055538</td>\n",
       "      <td>0.062381</td>\n",
       "      <td>0.203851</td>\n",
       "      <td>0.054742</td>\n",
       "      <td>0.017187</td>\n",
       "      <td>0.076384</td>\n",
       "      <td>0.010662</td>\n",
       "      <td>0.002864</td>\n",
       "      <td>0.163590</td>\n",
       "      <td>0.024984</td>\n",
       "    </tr>\n",
       "    <tr>\n",
       "      <th>CONJ</th>\n",
       "      <td>0.052534</td>\n",
       "      <td>0.004649</td>\n",
       "      <td>0.058113</td>\n",
       "      <td>0.349140</td>\n",
       "      <td>0.156671</td>\n",
       "      <td>0.121339</td>\n",
       "      <td>0.118085</td>\n",
       "      <td>0.008833</td>\n",
       "      <td>0.000465</td>\n",
       "      <td>0.039981</td>\n",
       "      <td>0.034868</td>\n",
       "      <td>0.055323</td>\n",
       "    </tr>\n",
       "    <tr>\n",
       "      <th>NUM</th>\n",
       "      <td>0.036033</td>\n",
       "      <td>0.026504</td>\n",
       "      <td>0.001489</td>\n",
       "      <td>0.350208</td>\n",
       "      <td>0.018761</td>\n",
       "      <td>0.003276</td>\n",
       "      <td>0.034247</td>\n",
       "      <td>0.210542</td>\n",
       "      <td>0.013699</td>\n",
       "      <td>0.184932</td>\n",
       "      <td>0.117332</td>\n",
       "      <td>0.002978</td>\n",
       "    </tr>\n",
       "    <tr>\n",
       "      <th>.</th>\n",
       "      <td>0.091342</td>\n",
       "      <td>0.002427</td>\n",
       "      <td>0.066349</td>\n",
       "      <td>0.222242</td>\n",
       "      <td>0.089095</td>\n",
       "      <td>0.173335</td>\n",
       "      <td>0.043963</td>\n",
       "      <td>0.026971</td>\n",
       "      <td>0.057538</td>\n",
       "      <td>0.081003</td>\n",
       "      <td>0.093320</td>\n",
       "      <td>0.052324</td>\n",
       "    </tr>\n",
       "    <tr>\n",
       "      <th>ADV</th>\n",
       "      <td>0.118582</td>\n",
       "      <td>0.014243</td>\n",
       "      <td>0.014906</td>\n",
       "      <td>0.031467</td>\n",
       "      <td>0.343491</td>\n",
       "      <td>0.069891</td>\n",
       "      <td>0.129182</td>\n",
       "      <td>0.023186</td>\n",
       "      <td>0.006956</td>\n",
       "      <td>0.030474</td>\n",
       "      <td>0.137131</td>\n",
       "      <td>0.080490</td>\n",
       "    </tr>\n",
       "  </tbody>\n",
       "</table>\n",
       "</div>"
      ],
      "text/plain": [
       "           ADP       PRT      PRON      NOUN      VERB       DET       ADJ  \\\n",
       "ADP   0.016893  0.001390  0.070031  0.320967  0.008340  0.324709  0.107024   \n",
       "PRT   0.020099  0.001647  0.017792  0.247776  0.405272  0.097858  0.083031   \n",
       "PRON  0.022971  0.013017  0.007657  0.210949  0.485452  0.009954  0.073124   \n",
       "NOUN  0.176514  0.043397  0.004607  0.263564  0.147667  0.012942  0.012248   \n",
       "VERB  0.092022  0.030674  0.035786  0.110070  0.169249  0.134392  0.064988   \n",
       "DET   0.009540  0.000242  0.003744  0.638087  0.039850  0.005676  0.204323   \n",
       "ADJ   0.078267  0.010710  0.000330  0.699621  0.011699  0.004943  0.066403   \n",
       "X     0.142584  0.185232  0.055538  0.062381  0.203851  0.054742  0.017187   \n",
       "CONJ  0.052534  0.004649  0.058113  0.349140  0.156671  0.121339  0.118085   \n",
       "NUM   0.036033  0.026504  0.001489  0.350208  0.018761  0.003276  0.034247   \n",
       ".     0.091342  0.002427  0.066349  0.222242  0.089095  0.173335  0.043963   \n",
       "ADV   0.118582  0.014243  0.014906  0.031467  0.343491  0.069891  0.129182   \n",
       "\n",
       "             X      CONJ       NUM         .       ADV  \n",
       "ADP   0.034427  0.000962  0.062226  0.039025  0.014006  \n",
       "PRT   0.013509  0.002306  0.056672  0.043822  0.010214  \n",
       "PRON  0.089969  0.005360  0.006508  0.040965  0.034074  \n",
       "NOUN  0.029175  0.042666  0.009542  0.240604  0.017074  \n",
       "VERB  0.217506  0.005577  0.022851  0.034934  0.081952  \n",
       "DET   0.045405  0.000483  0.022220  0.017993  0.012438  \n",
       "ADJ   0.021091  0.016971  0.021256  0.063931  0.004778  \n",
       "X     0.076384  0.010662  0.002864  0.163590  0.024984  \n",
       "CONJ  0.008833  0.000465  0.039981  0.034868  0.055323  \n",
       "NUM   0.210542  0.013699  0.184932  0.117332  0.002978  \n",
       ".     0.026971  0.057538  0.081003  0.093320  0.052324  \n",
       "ADV   0.023186  0.006956  0.030474  0.137131  0.080490  "
      ]
     },
     "execution_count": 16,
     "metadata": {},
     "output_type": "execute_result"
    }
   ],
   "source": [
    "# convert the matrix to a df for better readability\n",
    "tags_df = pd.DataFrame(tags_matrix, columns = list(T), index=list(T))\n",
    "tags_df"
   ]
  },
  {
   "cell_type": "code",
   "execution_count": 17,
   "metadata": {},
   "outputs": [
    {
     "data": {
      "text/plain": [
       "ADP     0.091342\n",
       "PRT     0.002427\n",
       "PRON    0.066349\n",
       "NOUN    0.222242\n",
       "VERB    0.089095\n",
       "DET     0.173335\n",
       "ADJ     0.043963\n",
       "X       0.026971\n",
       "CONJ    0.057538\n",
       "NUM     0.081003\n",
       ".       0.093320\n",
       "ADV     0.052324\n",
       "Name: ., dtype: float32"
      ]
     },
     "execution_count": 17,
     "metadata": {},
     "output_type": "execute_result"
    }
   ],
   "source": [
    "tags_df.loc['.', :]"
   ]
  },
  {
   "cell_type": "markdown",
   "metadata": {},
   "source": [
    "##  Viterbi Algorithm"
   ]
  },
  {
   "cell_type": "code",
   "execution_count": 18,
   "metadata": {},
   "outputs": [],
   "source": [
    "# Vanila Viterbi Heuristic\n",
    "def Viterbi(words, train_bag = train_tagged_words):\n",
    "    state = []\n",
    "    T = list(set([pair[1] for pair in train_bag]))\n",
    "    \n",
    "    for key, word in enumerate(words):\n",
    "        #initialise list of probability column for a given observation\n",
    "        p = [] \n",
    "        for tag in T:\n",
    "            if key == 0:\n",
    "                transition_p = tags_df.loc['.', tag]\n",
    "            else:\n",
    "                transition_p = tags_df.loc[state[-1], tag]\n",
    "                \n",
    "            # compute emission and state probabilities\n",
    "            emission_p = word_given_tag(words[key], tag)[0]/word_given_tag(words[key], tag)[1]\n",
    "            state_probability = emission_p * transition_p    \n",
    "            p.append(state_probability)\n",
    "            \n",
    "        pmax = max(p)\n",
    "        # getting state for which probability is maximum\n",
    "        state_max = T[p.index(pmax)] \n",
    "        state.append(state_max)\n",
    "    return list(zip(words, state))"
   ]
  },
  {
   "cell_type": "markdown",
   "metadata": {},
   "source": [
    "#### Testing vanila veterbi "
   ]
  },
  {
   "cell_type": "code",
   "execution_count": 19,
   "metadata": {},
   "outputs": [
    {
     "name": "stdout",
     "output_type": "stream",
     "text": [
      "[[('The', 'DET'), ('Contra', 'NOUN'), ('military', 'ADJ'), ('command', 'NOUN'), (',', '.'), ('in', 'ADP'), ('a', 'DET'), ('statement', 'NOUN'), ('from', 'ADP'), ('Honduras', 'NOUN'), (',', '.'), ('said', 'VERB'), ('0', 'X'), ('Sandinista', 'NOUN'), ('troops', 'NOUN'), ('had', 'VERB'), ('launched', 'VERB'), ('a', 'DET'), ('major', 'ADJ'), ('offensive', 'NOUN'), ('against', 'ADP'), ('the', 'DET'), ('rebel', 'NOUN'), ('forces', 'NOUN'), ('.', '.')], [('*-1', 'X'), ('Bucking', 'VERB'), ('the', 'DET'), ('market', 'NOUN'), ('trend', 'NOUN'), (',', '.'), ('an', 'DET'), ('issue', 'NOUN'), ('of', 'ADP'), ('$', '.'), ('130', 'NUM'), ('million', 'NUM'), ('*U*', 'X'), ('general', 'ADJ'), ('obligation', 'NOUN'), ('distributable', 'ADJ'), ('state', 'NOUN'), ('aid', 'NOUN'), ('bonds', 'NOUN'), ('from', 'ADP'), ('Detroit', 'NOUN'), (',', '.'), ('Mich.', 'NOUN'), (',', '.'), ('apparently', 'ADV'), ('drew', 'VERB'), ('solid', 'ADJ'), ('investor', 'NOUN'), ('interest', 'NOUN'), ('.', '.')], [('Ralston', 'NOUN'), ('said', 'VERB'), ('0', 'X'), ('its', 'PRON'), ('Eveready', 'NOUN'), ('battery', 'NOUN'), ('unit', 'NOUN'), ('was', 'VERB'), ('hurt', 'VERB'), ('*-1', 'X'), ('by', 'ADP'), ('continuing', 'VERB'), ('economic', 'ADJ'), ('problems', 'NOUN'), ('in', 'ADP'), ('South', 'NOUN'), ('America', 'NOUN'), ('.', '.')], [('I', 'PRON'), ('feel', 'VERB'), ('pretty', 'ADV'), ('good', 'ADJ'), ('about', 'ADP'), ('it', 'PRON'), ('.', '.')], [('Mr.', 'NOUN'), ('Felten', 'NOUN'), ('said', 'VERB'), (',', '.'), ('``', '.'), ('We', 'PRON'), ('got', 'VERB'), ('what', 'PRON'), ('*T*-252', 'X'), ('amounted', 'VERB'), ('to', 'PRT'), ('a', 'DET'), ('parking', 'NOUN'), ('ticket', 'NOUN'), (',', '.'), ('and', 'CONJ'), ('by', 'ADP'), ('*-1', 'X'), ('complaining', 'VERB'), ('about', 'ADP'), ('it', 'PRON'), (',', '.'), ('we', 'PRON'), ('ended', 'VERB'), ('up', 'PRT'), ('with', 'ADP'), ('a', 'DET'), ('sizable', 'ADJ'), ('fine', 'NOUN'), ('and', 'CONJ'), ('suspension', 'NOUN'), ('.', '.'), (\"''\", '.')]]\n"
     ]
    }
   ],
   "source": [
    "# Running on entire test dataset would take more time so \n",
    "# Let's test our Viterbi algorithm on a few sample sentences of test dataset\n",
    "\n",
    "random.seed(1234)\n",
    "\n",
    "# choose random 5 sents\n",
    "rndom = [random.randint(1,len(test_set)) for x in range(5)]\n",
    "\n",
    "# list of sents\n",
    "test_run = [test_set[i] for i in rndom]\n",
    "\n",
    "# list of tagged words\n",
    "test_run_base = [tup for sent in test_run for tup in sent]\n",
    "\n",
    "# list of untagged words\n",
    "test_tagged_words = [tup[0] for sent in test_run for tup in sent]\n",
    "print(test_run)"
   ]
  },
  {
   "cell_type": "code",
   "execution_count": 20,
   "metadata": {},
   "outputs": [],
   "source": [
    "# tagging the test sentences\n",
    "start = time.time()\n",
    "tagged_seq = Viterbi(test_tagged_words)\n",
    "end = time.time()\n",
    "difference = end-start"
   ]
  },
  {
   "cell_type": "code",
   "execution_count": 21,
   "metadata": {},
   "outputs": [
    {
     "name": "stdout",
     "output_type": "stream",
     "text": [
      "Time taken in seconds:  38.03717541694641\n",
      "[('The', 'DET'), ('Contra', 'ADP'), ('military', 'ADJ'), ('command', 'VERB'), (',', '.'), ('in', 'ADP'), ('a', 'DET'), ('statement', 'NOUN'), ('from', 'ADP'), ('Honduras', 'ADP'), (',', '.'), ('said', 'VERB'), ('0', 'X'), ('Sandinista', 'ADP'), ('troops', 'NOUN'), ('had', 'VERB'), ('launched', 'VERB'), ('a', 'DET'), ('major', 'ADJ'), ('offensive', 'ADP'), ('against', 'ADP'), ('the', 'DET'), ('rebel', 'ADP'), ('forces', 'NOUN'), ('.', '.'), ('*-1', 'X'), ('Bucking', 'ADP'), ('the', 'DET'), ('market', 'NOUN'), ('trend', 'NOUN'), (',', '.'), ('an', 'DET'), ('issue', 'NOUN'), ('of', 'ADP'), ('$', '.'), ('130', 'NUM'), ('million', 'NUM'), ('*U*', 'X'), ('general', 'ADJ'), ('obligation', 'NOUN'), ('distributable', 'ADJ'), ('state', 'NOUN'), ('aid', 'NOUN'), ('bonds', 'NOUN'), ('from', 'ADP'), ('Detroit', 'NOUN'), (',', '.'), ('Mich.', 'NOUN'), (',', '.'), ('apparently', 'ADV'), ('drew', 'ADP'), ('solid', 'ADJ'), ('investor', 'NOUN'), ('interest', 'NOUN'), ('.', '.'), ('Ralston', 'NOUN'), ('said', 'VERB'), ('0', 'X'), ('its', 'PRON'), ('Eveready', 'ADP'), ('battery', 'NOUN'), ('unit', 'NOUN'), ('was', 'VERB'), ('hurt', 'VERB'), ('*-1', 'X'), ('by', 'ADP'), ('continuing', 'VERB'), ('economic', 'ADJ'), ('problems', 'NOUN'), ('in', 'ADP'), ('South', 'NOUN'), ('America', 'NOUN'), ('.', '.'), ('I', 'PRON'), ('feel', 'VERB'), ('pretty', 'ADV'), ('good', 'ADJ'), ('about', 'ADP'), ('it', 'PRON'), ('.', '.'), ('Mr.', 'NOUN'), ('Felten', 'NOUN'), ('said', 'VERB'), (',', '.'), ('``', '.'), ('We', 'PRON'), ('got', 'VERB'), ('what', 'PRON'), ('*T*-252', 'ADP'), ('amounted', 'VERB'), ('to', 'PRT'), ('a', 'DET'), ('parking', 'NOUN'), ('ticket', 'NOUN'), (',', '.'), ('and', 'CONJ'), ('by', 'ADP'), ('*-1', 'X'), ('complaining', 'ADP'), ('about', 'ADP'), ('it', 'PRON'), (',', '.'), ('we', 'PRON'), ('ended', 'VERB'), ('up', 'ADV'), ('with', 'ADP'), ('a', 'DET'), ('sizable', 'ADJ'), ('fine', 'NOUN'), ('and', 'CONJ'), ('suspension', 'NOUN'), ('.', '.'), (\"''\", '.')]\n"
     ]
    }
   ],
   "source": [
    "print(\"Time taken in seconds: \", difference)\n",
    "print(tagged_seq)\n"
   ]
  },
  {
   "cell_type": "code",
   "execution_count": 22,
   "metadata": {},
   "outputs": [
    {
     "name": "stdout",
     "output_type": "stream",
     "text": [
      "Vanilla Viterbi Algorithm Accuracy:  89.38053097345133\n"
     ]
    }
   ],
   "source": [
    "# Vanilla Viterbi Algorithm Accuracy\n",
    "check = [i for i, j in zip(tagged_seq, test_run_base) if i == j] \n",
    "accuracy = len(check)/len(tagged_seq)\n",
    "print('Vanilla Viterbi Algorithm Accuracy: ',accuracy*100)"
   ]
  },
  {
   "cell_type": "code",
   "execution_count": 23,
   "metadata": {},
   "outputs": [],
   "source": [
    "# let's check the incorrect tags\n",
    "incorrect_tagged_cases = [[test_run_base[i-1],j] for i, j in enumerate(zip(tagged_seq, test_run_base)) if j[0]!=j[1]]"
   ]
  },
  {
   "cell_type": "code",
   "execution_count": 24,
   "metadata": {},
   "outputs": [
    {
     "data": {
      "text/plain": [
       "[[('The', 'DET'), (('Contra', 'ADP'), ('Contra', 'NOUN'))],\n",
       " [('military', 'ADJ'), (('command', 'VERB'), ('command', 'NOUN'))],\n",
       " [('from', 'ADP'), (('Honduras', 'ADP'), ('Honduras', 'NOUN'))],\n",
       " [('0', 'X'), (('Sandinista', 'ADP'), ('Sandinista', 'NOUN'))],\n",
       " [('major', 'ADJ'), (('offensive', 'ADP'), ('offensive', 'NOUN'))],\n",
       " [('the', 'DET'), (('rebel', 'ADP'), ('rebel', 'NOUN'))],\n",
       " [('*-1', 'X'), (('Bucking', 'ADP'), ('Bucking', 'VERB'))],\n",
       " [('apparently', 'ADV'), (('drew', 'ADP'), ('drew', 'VERB'))],\n",
       " [('its', 'PRON'), (('Eveready', 'ADP'), ('Eveready', 'NOUN'))],\n",
       " [('what', 'PRON'), (('*T*-252', 'ADP'), ('*T*-252', 'X'))],\n",
       " [('*-1', 'X'), (('complaining', 'ADP'), ('complaining', 'VERB'))],\n",
       " [('ended', 'VERB'), (('up', 'ADV'), ('up', 'PRT'))]]"
      ]
     },
     "execution_count": 24,
     "metadata": {},
     "output_type": "execute_result"
    }
   ],
   "source": [
    "incorrect_tagged_cases"
   ]
  },
  {
   "cell_type": "markdown",
   "metadata": {},
   "source": [
    "### Solve the problem of unknown words"
   ]
  },
  {
   "cell_type": "markdown",
   "metadata": {},
   "source": [
    "### Viterbi Modification-Technique 1"
   ]
  },
  {
   "cell_type": "code",
   "execution_count": 25,
   "metadata": {},
   "outputs": [],
   "source": [
    "# using transition probability of tags when emission probability is zero (in case of unknown words)\n",
    "\n",
    "def Viterbi_1(words, train_bag = train_tagged_words):\n",
    "    state = []\n",
    "    T = list(set([pair[1] for pair in train_bag]))\n",
    "    \n",
    "    for key, word in enumerate(words):\n",
    "        #initialise list of probability column for a given observation\n",
    "        p = [] \n",
    "        p_transition =[] # list for storing transition probabilities\n",
    "        for tag in T:\n",
    "            if key == 0:\n",
    "                transition_p = tags_df.loc['.', tag]\n",
    "            else:\n",
    "                transition_p = tags_df.loc[state[-1], tag]\n",
    "                \n",
    "            # compute emission and state probabilities\n",
    "            emission_p = word_given_tag(words[key], tag)[0]/word_given_tag(words[key], tag)[1]\n",
    "            state_probability = emission_p * transition_p    \n",
    "            p.append(state_probability)\n",
    "            p_transition.append(transition_p)\n",
    "            \n",
    "        pmax = max(p)\n",
    "        state_max = T[p.index(pmax)] \n",
    "        \n",
    "      \n",
    "        # if probability is zero (unknown word) then use transition probability\n",
    "        if(pmax==0):\n",
    "            pmax = max(p_transition)\n",
    "            state_max = T[p_transition.index(pmax)]\n",
    "                           \n",
    "        else:\n",
    "            state_max = T[p.index(pmax)] \n",
    "        \n",
    "        state.append(state_max)\n",
    "    return list(zip(words, state))"
   ]
  },
  {
   "cell_type": "code",
   "execution_count": 26,
   "metadata": {},
   "outputs": [
    {
     "name": "stdout",
     "output_type": "stream",
     "text": [
      "Time taken in seconds:  34.37096619606018\n"
     ]
    }
   ],
   "source": [
    "\n",
    "# tagging the test sentences\n",
    "start = time.time()\n",
    "tagged_seq = Viterbi_1(test_tagged_words)\n",
    "end = time.time()\n",
    "difference = end-start\n",
    "\n",
    "print(\"Time taken in seconds: \", difference)\n"
   ]
  },
  {
   "cell_type": "code",
   "execution_count": 27,
   "metadata": {},
   "outputs": [
    {
     "name": "stdout",
     "output_type": "stream",
     "text": [
      "Modified Viterbi_1 Accuracy:  94.69026548672566\n"
     ]
    }
   ],
   "source": [
    "# accuracy\n",
    "check = [i for i, j in zip(tagged_seq, test_run_base) if i == j] \n",
    "accuracy = len(check)/len(tagged_seq)\n",
    "print('Modified Viterbi_1 Accuracy: ',accuracy*100)"
   ]
  },
  {
   "cell_type": "code",
   "execution_count": 28,
   "metadata": {},
   "outputs": [],
   "source": [
    "# let's check the incorrect tags\n",
    "incorrect_tagged_cases = [[test_run_base[i-1],j] for i, j in enumerate(zip(tagged_seq, test_run_base)) if j[0]!=j[1]]"
   ]
  },
  {
   "cell_type": "code",
   "execution_count": 29,
   "metadata": {},
   "outputs": [
    {
     "data": {
      "text/plain": [
       "[[('military', 'ADJ'), (('command', 'VERB'), ('command', 'NOUN'))],\n",
       " [('from', 'ADP'), (('Honduras', 'DET'), ('Honduras', 'NOUN'))],\n",
       " [('0', 'X'), (('Sandinista', 'VERB'), ('Sandinista', 'NOUN'))],\n",
       " [('its', 'PRON'), (('Eveready', 'VERB'), ('Eveready', 'NOUN'))],\n",
       " [('what', 'PRON'), (('*T*-252', 'VERB'), ('*T*-252', 'X'))],\n",
       " [('ended', 'VERB'), (('up', 'ADV'), ('up', 'PRT'))]]"
      ]
     },
     "execution_count": 29,
     "metadata": {},
     "output_type": "execute_result"
    }
   ],
   "source": [
    "incorrect_tagged_cases"
   ]
  },
  {
   "cell_type": "markdown",
   "metadata": {},
   "source": [
    "\n",
    "Adding Tag occurance probability weights: we will apply weights based on the probability of tag occurance to the transition probabilities of tags and then use the resulting probability for predicting unknown words.\n",
    "\n",
    "This scheme will also take into account that some POS tags are more likely to occur as compared to others."
   ]
  },
  {
   "cell_type": "code",
   "execution_count": 30,
   "metadata": {},
   "outputs": [
    {
     "data": {
      "text/plain": [
       "[('ADP', 0.0978889970381069),\n",
       " ('PRT', 0.03176447193527793),\n",
       " ('PRON', 0.0273373313657153),\n",
       " ('NOUN', 0.2862674913916711),\n",
       " ('VERB', 0.1351167488251855),\n",
       " ('DET', 0.08666938784053921),\n",
       " ('ADJ', 0.06351847781719991),\n",
       " ('X', 0.06576867928872701),\n",
       " ('CONJ', 0.02251248076862696),\n",
       " ('NUM', 0.035145007169246546),\n",
       " ('.', 0.11641391147812072),\n",
       " ('ADV', 0.031597015081582885)]"
      ]
     },
     "execution_count": 30,
     "metadata": {},
     "output_type": "execute_result"
    }
   ],
   "source": [
    "# lets create a list containing tuples of POS tags and POS tag occurance probability, based on training data\n",
    "tag_prob = []\n",
    "total_tag = len([tag for word,tag in train_tagged_words])\n",
    "for t in T:\n",
    "    each_tag = [tag for word,tag in train_tagged_words if tag==t]\n",
    "    tag_prob.append((t,len(each_tag)/total_tag))\n",
    "\n",
    "tag_prob"
   ]
  },
  {
   "cell_type": "code",
   "execution_count": 31,
   "metadata": {},
   "outputs": [],
   "source": [
    "def Viterbi_1(words, train_bag = train_tagged_words):\n",
    "    state = []\n",
    "    T = list(set([pair[1] for pair in train_bag]))\n",
    "    \n",
    "    for key, word in enumerate(words):\n",
    "        #initialise list of probability column for a given observation\n",
    "        p = [] \n",
    "        p_transition =[] # list for storing transition probabilities\n",
    "       \n",
    "        for tag in T:\n",
    "            if key == 0:\n",
    "                transition_p = tags_df.loc['.', tag]\n",
    "            else:\n",
    "                transition_p = tags_df.loc[state[-1], tag]\n",
    "                \n",
    "            # compute emission and state probabilities\n",
    "            emission_p = word_given_tag(words[key], tag)[0]/word_given_tag(words[key], tag)[1]\n",
    "            state_probability = emission_p * transition_p    \n",
    "            p.append(state_probability)\n",
    "            \n",
    "            # find POS tag occurance probability\n",
    "            tag_p = [pair[1] for pair in tag_prob if pair[0]==tag ]\n",
    "            \n",
    "            # calculate the transition prob weighted by tag occurance probability.\n",
    "            transition_p = tag_p[0]*transition_p             \n",
    "            p_transition.append(transition_p)\n",
    "            \n",
    "        pmax = max(p)\n",
    "        state_max = T[p.index(pmax)] \n",
    "        \n",
    "      \n",
    "        # if probability is zero (unknown word) then use weighted transition probability\n",
    "        if(pmax==0):\n",
    "            pmax = max(p_transition)\n",
    "            state_max = T[p_transition.index(pmax)] \n",
    "        else:\n",
    "            state_max = T[p.index(pmax)] \n",
    "        \n",
    "        state.append(state_max)\n",
    "    return list(zip(words, state))            "
   ]
  },
  {
   "cell_type": "code",
   "execution_count": 32,
   "metadata": {},
   "outputs": [],
   "source": [
    "# tagging the test sentences\n",
    "start = time.time()\n",
    "tagged_seq = Viterbi_1(test_tagged_words)\n",
    "end = time.time()\n",
    "difference = end-start"
   ]
  },
  {
   "cell_type": "code",
   "execution_count": 33,
   "metadata": {},
   "outputs": [
    {
     "name": "stdout",
     "output_type": "stream",
     "text": [
      "Modified Viterbi_1 Accuracy:  95.57522123893806\n"
     ]
    }
   ],
   "source": [
    "# accuracy\n",
    "check = [i for i, j in zip(tagged_seq, test_run_base) if i == j] \n",
    "accuracy = len(check)/len(tagged_seq)\n",
    "print('Modified Viterbi_1 Accuracy: ',accuracy*100)"
   ]
  },
  {
   "cell_type": "code",
   "execution_count": 34,
   "metadata": {},
   "outputs": [],
   "source": [
    "# let's check the incorrect tags\n",
    "incorrect_tagged_cases = [[test_run_base[i-1],j] for i, j in enumerate(zip(tagged_seq, test_run_base)) if j[0]!=j[1]]"
   ]
  },
  {
   "cell_type": "code",
   "execution_count": 35,
   "metadata": {},
   "outputs": [
    {
     "data": {
      "text/plain": [
       "[[('military', 'ADJ'), (('command', 'VERB'), ('command', 'NOUN'))],\n",
       " [('0', 'X'), (('Sandinista', 'VERB'), ('Sandinista', 'NOUN'))],\n",
       " [('its', 'PRON'), (('Eveready', 'VERB'), ('Eveready', 'NOUN'))],\n",
       " [('what', 'PRON'), (('*T*-252', 'VERB'), ('*T*-252', 'X'))],\n",
       " [('ended', 'VERB'), (('up', 'ADV'), ('up', 'PRT'))]]"
      ]
     },
     "execution_count": 35,
     "metadata": {},
     "output_type": "execute_result"
    }
   ],
   "source": [
    "incorrect_tagged_cases"
   ]
  },
  {
   "cell_type": "markdown",
   "metadata": {},
   "source": [
    "Following words have been corrected by Veterbi-1 compared to vanila Viterbi \n",
    "\n",
    "\n",
    "Contra tagged as NOUN                                  \n",
    "Honduras tagged as NOUN                                                            \n",
    "Offensive tagged as NOUN                                                        \n",
    "Rebel tagged as NOUN                                                       \n",
    "Forces tagged as NOUN                                                                        \n",
    "Bucking tagged as VERB                                                                                                          complaining tagged as VERB"
   ]
  },
  {
   "cell_type": "markdown",
   "metadata": {},
   "source": [
    "\n",
    "### Viterbi Modification-Technique 2( Rule Based Tagger)"
   ]
  },
  {
   "cell_type": "markdown",
   "metadata": {},
   "source": [
    "\n",
    "####  Second solution for unknown words:\n",
    "\n",
    "Backoff to rule based tagger in case of unknown words.\n",
    "we further observe that POS tag 'X' can be easily encapsulated in regex rule, so we extract it only based on ruled based tagged.\n",
    "Let's define a rule based tagger as below:"
   ]
  },
  {
   "cell_type": "code",
   "execution_count": 36,
   "metadata": {},
   "outputs": [],
   "source": [
    "# specify patterns for tagging\n",
    "patterns = [\n",
    "    (r'.*ing$', 'VERB'),              # gerund\n",
    "    (r'.*ed$', 'VERB'),               # past tense \n",
    "    (r'.*es$', 'VERB'),               # verb    \n",
    "    (r'.*\\'s$', 'NOUN'),              # possessive nouns\n",
    "    (r'.*s$', 'NOUN'),                # plural nouns\n",
    "    (r'\\*T?\\*?-[0-9]+$', 'X'),        # X\n",
    "    (r'^-?[0-9]+(.[0-9]+)?$', 'NUM'), # cardinal numbers\n",
    "    (r'.*', 'NOUN')                   # nouns\n",
    "]\n",
    "\n",
    "# rule based tagger\n",
    "rule_based_tagger = nltk.RegexpTagger(patterns)"
   ]
  },
  {
   "cell_type": "code",
   "execution_count": 37,
   "metadata": {},
   "outputs": [],
   "source": [
    "# Modification in Viterbi Algorithm : Backoff to rule based tagger in case unknown word is encountered.\n",
    "def Viterbi_2(words, train_bag = train_tagged_words):\n",
    "    state = []\n",
    "    T = list(set([pair[1] for pair in train_bag]))\n",
    "    \n",
    "    for key, word in enumerate(words):\n",
    "        #initialise list of probability column for a given observation\n",
    "        p = [] \n",
    "        for tag in T:\n",
    "            if key == 0:\n",
    "                transition_p = tags_df.loc['.', tag]\n",
    "            else:\n",
    "                transition_p = tags_df.loc[state[-1], tag]\n",
    "                \n",
    "            # compute emission and state probabilities\n",
    "            emission_p = word_given_tag(words[key], tag)[0]/word_given_tag(words[key], tag)[1]\n",
    "            state_probability = emission_p * transition_p    \n",
    "            p.append(state_probability)\n",
    "            \n",
    "        pmax = max(p)\n",
    "        state_max = rule_based_tagger.tag([word])[0][1]       \n",
    "       \n",
    "        \n",
    "        if(pmax==0):\n",
    "            state_max = rule_based_tagger.tag([word])[0][1] # assign based on rule based tagger\n",
    "        else:\n",
    "            if state_max != 'X':\n",
    "                # getting state for which probability is maximum\n",
    "                state_max = T[p.index(pmax)]                \n",
    "            \n",
    "        \n",
    "        state.append(state_max)\n",
    "    return list(zip(words, state))"
   ]
  },
  {
   "cell_type": "code",
   "execution_count": 38,
   "metadata": {},
   "outputs": [
    {
     "name": "stdout",
     "output_type": "stream",
     "text": [
      "Time taken in seconds:  37.9211688041687\n"
     ]
    }
   ],
   "source": [
    "\n",
    "# tagging the test sentences\n",
    "start = time.time()\n",
    "tagged_seq = Viterbi_2(test_tagged_words)\n",
    "end = time.time()\n",
    "difference = end-start\n",
    "\n",
    "print(\"Time taken in seconds: \", difference)"
   ]
  },
  {
   "cell_type": "code",
   "execution_count": 39,
   "metadata": {},
   "outputs": [
    {
     "name": "stdout",
     "output_type": "stream",
     "text": [
      "Modified Viterbi_2 Accuracy:  97.34513274336283\n"
     ]
    }
   ],
   "source": [
    " # accuracy\n",
    "check = [i for i, j in zip(tagged_seq, test_run_base) if i == j] \n",
    "accuracy = len(check)/len(tagged_seq)\n",
    "print('Modified Viterbi_2 Accuracy: ',accuracy*100)"
   ]
  },
  {
   "cell_type": "code",
   "execution_count": 40,
   "metadata": {},
   "outputs": [],
   "source": [
    "# let's check the incorrect tags\n",
    "incorrect_tagged_cases = [[test_run_base[i-1],j] for i, j in enumerate(zip(tagged_seq, test_run_base)) if j[0]!=j[1]]"
   ]
  },
  {
   "cell_type": "code",
   "execution_count": 41,
   "metadata": {},
   "outputs": [
    {
     "data": {
      "text/plain": [
       "[[('military', 'ADJ'), (('command', 'VERB'), ('command', 'NOUN'))],\n",
       " [('apparently', 'ADV'), (('drew', 'NOUN'), ('drew', 'VERB'))],\n",
       " [('ended', 'VERB'), (('up', 'ADV'), ('up', 'PRT'))]]"
      ]
     },
     "execution_count": 41,
     "metadata": {},
     "output_type": "execute_result"
    }
   ],
   "source": [
    "incorrect_tagged_cases"
   ]
  },
  {
   "cell_type": "markdown",
   "metadata": {},
   "source": [
    "Improvement from Viterbi-1\n",
    "\n",
    "Following tags have been corrected by Viterbi-2                                      \n",
    "Sandinista tagged as NOUN                                                             \n",
    "Eveready tagged as NOUN                                                                 \n",
    "T*-252 tagged as 'X'                                                  "
   ]
  },
  {
   "cell_type": "markdown",
   "metadata": {},
   "source": [
    "#### Evaluating tagging accuracy"
   ]
  },
  {
   "cell_type": "code",
   "execution_count": 42,
   "metadata": {},
   "outputs": [],
   "source": [
    "test_tagged_words = [tup[0] for sent in test_set for tup in sent]\n",
    "test_run_base = [tup for sent in test_set for tup in sent]"
   ]
  },
  {
   "cell_type": "code",
   "execution_count": 43,
   "metadata": {},
   "outputs": [
    {
     "name": "stdout",
     "output_type": "stream",
     "text": [
      "Time taken in seconds:  1506.4281628131866\n"
     ]
    }
   ],
   "source": [
    "\n",
    "# tagging the test sentences\n",
    "start = time.time()\n",
    "tagged_seq = Viterbi(test_tagged_words)\n",
    "end = time.time()\n",
    "difference = end-start\n",
    "\n",
    "print(\"Time taken in seconds: \", difference)\n",
    "\n"
   ]
  },
  {
   "cell_type": "code",
   "execution_count": 44,
   "metadata": {},
   "outputs": [
    {
     "name": "stdout",
     "output_type": "stream",
     "text": [
      "Vanila Viterbi Algorithm Accuracy:  90.93390524468707\n"
     ]
    }
   ],
   "source": [
    "# Vanila Viterbi Algorithm Accuracy\n",
    "check = [i for i, j in zip(tagged_seq, test_run_base) if i == j] \n",
    "accuracy = len(check)/len(tagged_seq)\n",
    "print('Vanila Viterbi Algorithm Accuracy: ',accuracy*100)"
   ]
  },
  {
   "cell_type": "code",
   "execution_count": 45,
   "metadata": {},
   "outputs": [
    {
     "name": "stdout",
     "output_type": "stream",
     "text": [
      "Time taken in seconds:  1802.7631123065948\n"
     ]
    }
   ],
   "source": [
    "\n",
    "# tagging the test sentences\n",
    "start = time.time()\n",
    "tagged_seq = Viterbi_2(test_tagged_words)\n",
    "end = time.time()\n",
    "difference = end-start\n",
    "\n",
    "print(\"Time taken in seconds: \", difference)"
   ]
  },
  {
   "cell_type": "code",
   "execution_count": 46,
   "metadata": {},
   "outputs": [
    {
     "name": "stdout",
     "output_type": "stream",
     "text": [
      "Modified Viterbi Algorithm Accuracy:  95.37921622148568\n"
     ]
    }
   ],
   "source": [
    "# modified Viterbi Algorithm Accuracy\n",
    "check = [i for i, j in zip(tagged_seq, test_run_base) if i == j] \n",
    "accuracy = len(check)/len(tagged_seq)\n",
    "print('Modified Viterbi Algorithm Accuracy: ',accuracy*100)"
   ]
  },
  {
   "cell_type": "markdown",
   "metadata": {},
   "source": [
    "### Compare the tagging accuracies of the modifications with the vanilla Viterbi algorithm"
   ]
  },
  {
   "cell_type": "markdown",
   "metadata": {},
   "source": [
    "The accuracy of vanilla Viterbi Algorithm: 90.93%"
   ]
  },
  {
   "cell_type": "markdown",
   "metadata": {},
   "source": [
    "The accuracy of modified Viterbi Algorithm: 95.38%"
   ]
  },
  {
   "cell_type": "markdown",
   "metadata": {},
   "source": [
    "### List down cases which were incorrectly tagged by original POS tagger and got corrected by your modifications"
   ]
  },
  {
   "cell_type": "markdown",
   "metadata": {},
   "source": [
    "Contra tagged as NOUN                                  \n",
    "Honduras tagged as NOUN                                                            \n",
    "Offensive tagged as NOUN                                                        \n",
    "Rebel tagged as NOUN                                                       \n",
    "Forces tagged as NOUN                                                                        \n",
    "Bucking tagged as VERB                                                                        \n",
    "complaining tagged as VERB                                                  \n",
    "Sandinista tagged as NOUN                                        \n",
    "Eveready tagged as NOUN                                               \n",
    "T*-252 tagged as 'X'"
   ]
  }
 ],
 "metadata": {
  "kernelspec": {
   "display_name": "Python 3",
   "language": "python",
   "name": "python3"
  },
  "language_info": {
   "codemirror_mode": {
    "name": "ipython",
    "version": 3
   },
   "file_extension": ".py",
   "mimetype": "text/x-python",
   "name": "python",
   "nbconvert_exporter": "python",
   "pygments_lexer": "ipython3",
   "version": "3.7.3"
  }
 },
 "nbformat": 4,
 "nbformat_minor": 2
}
